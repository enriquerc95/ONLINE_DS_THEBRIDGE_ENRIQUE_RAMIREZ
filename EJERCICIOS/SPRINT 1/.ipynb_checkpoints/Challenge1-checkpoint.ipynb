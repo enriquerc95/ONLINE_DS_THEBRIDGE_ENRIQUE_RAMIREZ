{
 "cells": [
  {
   "cell_type": "markdown",
   "id": "368e1a15-f7f2-4700-9c42-d9a45748c3f5",
   "metadata": {},
   "source": [
    "## Aptitudes de data science"
   ]
  },
  {
   "attachments": {},
   "cell_type": "markdown",
   "id": "274e8d63-0d6c-4375-b9e1-0eeb23b52813",
   "metadata": {},
   "source": [
    "### **Lo más importante**\n",
    "* Matemáticas\n",
    "* Python\n",
    "* SQL\n",
    "\n",
    "  \n",
    "<img src=\"https://upload.wikimedia.org/wikipedia/commons/0/0a/Python.svg\" width=\"200\">\n",
    "\n",
    "Otro tema es el *bussiness inteligence*\n",
    "\n",
    "Si tienes dudas, puedes escribirme a: [jaimegonzalez@thebridgeschool.com](mailto:jaimegonzalez@thebridgeschool.com)\n",
    "\n",
    "Y en esta página se aprende mucho de machine learning: [**Página de ML**](https://lp1.pecan.ai/data-prep-lp/?utm_term=machine%20learning%20online&utm_motion=selfserve&utm_campaign=google_search_eu2_dt_e&utm_source=google&utm_medium=cpc&hsa_acc=8246799288&hsa_cam=20255866932&hsa_grp=156905869584&hsa_ad=661460770483&hsa_src=g&hsa_tgt=kwd-295863166491&hsa_kw=machine%20learning%20online&hsa_mt=e&hsa_net=adwords&hsa_ver=3&gad_source=1&gclid=CjwKCAjwnOipBhBQEiwACyGLuljX-1ggKH1hSB6HVfJi5vJNzFNv2Esc9mPdzzMbxR236zUI4wBgeBoCDpIQAvD_BwE)\n",
    "\n",
    "\n",
    "\n"
   ]
  },
  {
   "cell_type": "code",
   "execution_count": null,
   "id": "3a31c8c9-f603-4fe0-af82-4a8915251b78",
   "metadata": {},
   "outputs": [],
   "source": []
  },
  {
   "cell_type": "markdown",
   "id": "b02b6c2c-d216-4266-ba6d-ffac1abb7c4e",
   "metadata": {},
   "source": [
    "|  **Ramp up**  | **Data Analysis**| **Machine Learning**|**Data & Business** |\n",
    "|----------|----------|----------|----------|\n",
    "| Python     | EDA       | Supervised      | Productividad         |\n",
    "| Estadística    | R      |  Non supervised  | Storytelling |\n",
    "| SQL    | Feat. Eng. | Deep Learning |  Api  |\n"
   ]
  },
  {
   "cell_type": "code",
   "execution_count": 7,
   "id": "920040a0-57f4-450f-a5a2-6f165093eb65",
   "metadata": {},
   "outputs": [
    {
     "ename": "SyntaxError",
     "evalue": "invalid syntax (3128206892.py, line 1)",
     "output_type": "error",
     "traceback": [
      "\u001b[1;36m  Cell \u001b[1;32mIn[7], line 1\u001b[1;36m\u001b[0m\n\u001b[1;33m    $$\\sqrt{3x-1} + (1+x)^2}$$\u001b[0m\n\u001b[1;37m    ^\u001b[0m\n\u001b[1;31mSyntaxError\u001b[0m\u001b[1;31m:\u001b[0m invalid syntax\n"
     ]
    }
   ],
   "source": [
    "$$\\sqrt{3x-1} + (1+x)^}$$\n",
    "\n"
   ]
  },
  {
   "cell_type": "code",
   "execution_count": null,
   "id": "006a7bc9-b785-43c2-b91a-0287b31b0c33",
   "metadata": {},
   "outputs": [],
   "source": []
  }
 ],
 "metadata": {
  "kernelspec": {
   "display_name": "Python 3 (ipykernel)",
   "language": "python",
   "name": "python3"
  },
  "language_info": {
   "codemirror_mode": {
    "name": "ipython",
    "version": 3
   },
   "file_extension": ".py",
   "mimetype": "text/x-python",
   "name": "python",
   "nbconvert_exporter": "python",
   "pygments_lexer": "ipython3",
   "version": "3.10.11"
  }
 },
 "nbformat": 4,
 "nbformat_minor": 5
}
