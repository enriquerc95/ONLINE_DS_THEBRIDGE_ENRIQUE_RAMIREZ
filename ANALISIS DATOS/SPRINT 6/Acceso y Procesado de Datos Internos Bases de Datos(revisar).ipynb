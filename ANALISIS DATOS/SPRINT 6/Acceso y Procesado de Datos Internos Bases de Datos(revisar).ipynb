{
 "cells": [
  {
   "cell_type": "markdown",
   "id": "a7a0223d-bfc2-4b17-9b72-4f7fba4c78bf",
   "metadata": {},
   "source": [
    "## INTRO BASES DE DATOS\n",
    "Base de datos: es un armario digital que almacena datos, pueden ser cualquier cosa, permiten almacenar organizar y recuperar info de manera rápida y eficiente.\n",
    "La tabla:  estructura para almacenar datos, aunque no todas están almacenadas en tablas.\n",
    "\n",
    "**Bases de datos relacional(tablas)**, las tablas están relacionadas entre  si\n",
    "Normalización: forma de almacenar datos en tablas y de cruzarlos. Se almacenan en columnas que contienen claves\n",
    "Cuando estén separados hacemos un join para juntarlos al dataframe.\n",
    "\n",
    "**Base de datos NSQL**, es guarda en \"cajones\", diseñada para modelos específicos, no tienen esquema flexible, no tienen un identificador quessirva para relacionar conjunto de datos y son fáciles de desarrollar\n"
   ]
  },
  {
   "cell_type": "markdown",
   "id": "3fdb27c9-3bae-4257-bca1-f20e5a294e75",
   "metadata": {},
   "source": [
    "### SQL"
   ]
  },
  {
   "cell_type": "markdown",
   "id": "550151b2-f2bf-4f33-985f-f2c91c5c51f3",
   "metadata": {},
   "source": [
    "**Structured query language**, lenguaje de programación no ligado a python, indicado para el uso de datos.\n",
    "Los gestores de bases de datos, nos dejaan interactuar con datos\n",
    "Se divide en tres grupos de comandos:\n",
    "-Data definition: nos da la info\n",
    "-Data manipuLtione, nos permite manipular datos.\n",
    "\n",
    "Tiene cuatro comandos para trabajar con squl\n",
    "-Select:comando de consulta\n",
    "-Insert: nows permite introducir nnuevos valores\n",
    "-Upudate: nos permite modificar una fila y asistente con la intaxis de update, set y where\n",
    "-Delete: Nos permite borrar filas con la siguiente sintaxis."
   ]
  },
  {
   "cell_type": "code",
   "execution_count": null,
   "id": "ac6893a3-aad9-4ad7-9e8e-c0904f3ddf50",
   "metadata": {},
   "outputs": [],
   "source": [
    "# Pasamos el DataFrame de Pandas a SQL\n",
    "df.to_sql('pokemon', con=cnx, if_exists='append', index=False)"
   ]
  },
  {
   "cell_type": "markdown",
   "id": "8998c012-d424-45db-b5fe-b4741fde0076",
   "metadata": {},
   "source": [
    "# SQL en Python: Preparativos\n",
    " Para empezar y poder acceder a nuestrar primeras BBDD (Bases de datos) **utilizaremos el módulo `sqlite3`**. "
   ]
  },
  {
   "cell_type": "markdown",
   "id": "6b2da42c-4239-4025-861c-213037e9fb25",
   "metadata": {},
   "source": [
    "Pasos utilizados para el análisis de datos:\n",
    "Recordemos los pasos que vimos en las sesión anterior:\n",
    "1. Conexión a la base de datos\n",
    "2. Extracción de los datos\n",
    "3. Volcado en Pandas.\n",
    "4. Procesado (E)T(L) (la E la hemos hecho en 2. y la L. la veremos al final de la unidad)"
   ]
  },
  {
   "cell_type": "code",
   "execution_count": null,
   "id": "e3dcaee2-bb12-4115-a640-7883feaa655a",
   "metadata": {},
   "outputs": [],
   "source": [
    "# Conectamos con la base de datos chinook.db\n",
    "connection = sqlite3.connect(\"./data/chinook.db\") #paras conectanos en la base de datos\n",
    "# Obtenemos un cursor que utilizaremos para hacer las queries\n",
    "cursor_clase = connection.cursor() "
   ]
  },
  {
   "cell_type": "markdown",
   "id": "a1cd2acc-dad7-403d-a341-d0f5debc6857",
   "metadata": {},
   "source": [
    "El cursor es un elemento común a los gestores de bases de datos y para nosotros es como un intermediario al que vamos a pasar las queries y comandos en SQL y del que obtendremos los resultados de estas queries y comandos. En general los pasos son: conexión, creacion del cursos, intereacció a través del cursor.\n",
    "\n",
    "En un entorno de gestor, todo esto es transparente para el usuario que accede al interprete de SQL (normalmente gráfico con cajitas) e interactua directamente.\n",
    "\n",
    "Además otras librerías y módulos que te permiten acceso a otros gestores son:\n",
    "* SQL Server: `pyodbc`\n",
    "* Oracle: `cx_Oracle`\n",
    "* PostgreSQL: `psycopg2`"
   ]
  },
  {
   "cell_type": "markdown",
   "id": "4e23d400-bbce-4980-8c95-6a88aeda5e59",
   "metadata": {},
   "source": [
    "### Configuración del entorno: Cursor"
   ]
  },
  {
   "cell_type": "markdown",
   "id": "214fe0eb-3cb2-419c-8d46-e3b6dabad383",
   "metadata": {},
   "source": [
    "El cursor tiene  métodos:\n",
    "\n",
    "* `execute`\n",
    "* `fetchall`\n",
    "* `fetchone`\n",
    "* `fetchmany`"
   ]
  },
  {
   "cell_type": "markdown",
   "id": "38908a2d-dcdb-4b4c-b89d-41f3ec4a6cb1",
   "metadata": {},
   "source": [
    "`execute` es el que emplearemos para enviarle una sentencia SQL a la base de datos.\n",
    "ejecutar un \"SELECT * FROM table\"\n",
    "nos devolvía todas las columnas y filas de una tabla."
   ]
  },
  {
   "cell_type": "code",
   "execution_count": null,
   "id": "ddc4da39-c7ad-42b9-a270-e433b3aa604e",
   "metadata": {},
   "outputs": [],
   "source": [
    "query = \"SELECT * FROM employees\"\n",
    "cursor_clase.execute(query)\n",
    "#execute no nos devuelve nada de primeras,por elllo tenemos otros métodos.\n",
    "#nos devuelve:"
   ]
  },
  {
   "cell_type": "markdown",
   "id": "2dcb50e1-eb3d-42aa-8022-e2b744a36387",
   "metadata": {},
   "source": [
    "`execute` para decirle al cursor lo que tiene que hacer"
   ]
  },
  {
   "cell_type": "markdown",
   "id": "703d98d4-cba8-4943-af63-29b1a0772066",
   "metadata": {},
   "source": [
    "<sqlite3.Cursor at 0x7fe4b9e14d50>\n",
    "\n"
   ]
  },
  {
   "cell_type": "markdown",
   "id": "d2a6bc2d-b8eb-4ca8-b364-5a120de54620",
   "metadata": {},
   "source": [
    "`fetchone` nos devuelve el primer registro que un cursor haya obtenido al ejecutar una sentencia sql:"
   ]
  },
  {
   "cell_type": "code",
   "execution_count": 4,
   "id": "bb9631f8-bcb7-4c8c-8738-1a93b5aa3641",
   "metadata": {},
   "outputs": [
    {
     "ename": "NameError",
     "evalue": "name 'cursor_clase' is not defined",
     "output_type": "error",
     "traceback": [
      "\u001b[1;31m---------------------------------------------------------------------------\u001b[0m",
      "\u001b[1;31mNameError\u001b[0m                                 Traceback (most recent call last)",
      "Cell \u001b[1;32mIn[4], line 1\u001b[0m\n\u001b[1;32m----> 1\u001b[0m \u001b[43mcursor_clase\u001b[49m\u001b[38;5;241m.\u001b[39mfetchone()\n",
      "\u001b[1;31mNameError\u001b[0m: name 'cursor_clase' is not defined"
     ]
    }
   ],
   "source": [
    "cursor_clase.fetchone()"
   ]
  },
  {
   "cell_type": "code",
   "execution_count": null,
   "id": "61a0a800-42cf-49d5-b381-58383abf0757",
   "metadata": {},
   "outputs": [],
   "source": [
    "(1,\n",
    " 'Adams',\n",
    " 'Andrew',\n",
    " 'General Manager',\n",
    " None,\n",
    " '1962-02-18 00:00:00',\n",
    " '2002-08-14 00:00:00',\n",
    " '11120 Jasper Ave NW',\n",
    " 'Edmonton',\n",
    " 'AB',\n",
    " 'Canada',\n",
    " 'T5K 2N1',\n",
    " '+1 (780) 428-9482',\n",
    " '+1 (780) 428-3457',\n",
    " 'andrew@chinookcorp.com')"
   ]
  },
  {
   "cell_type": "markdown",
   "id": "7ac9e47e-c258-4ab3-b58f-8f02ce23b6d0",
   "metadata": {},
   "source": [
    "nos devuelve una tupla donde no están los nombres de las columnas, si no que están los valores"
   ]
  },
  {
   "cell_type": "markdown",
   "id": "68d0a3df-cc5f-4a4f-bcdc-1bf8143b6082",
   "metadata": {},
   "source": [
    "`fetchmany` nos permite recuperar un número determinado de filas, pasándole el valor por parámetro"
   ]
  },
  {
   "cell_type": "code",
   "execution_count": null,
   "id": "b58f293f-14d2-43e0-93ac-33978d5033bf",
   "metadata": {},
   "outputs": [],
   "source": [
    "cursor_clase.fetchmany(13)  \n",
    "#el 13, nos devuelve todos los que hay o le queden que sean menores que 13"
   ]
  },
  {
   "cell_type": "code",
   "execution_count": null,
   "id": "aefa2f8f-eebc-4fdf-bd62-c60a3d7b87cb",
   "metadata": {},
   "outputs": [],
   "source": [
    "[(2,\n",
    "  'Edwards',\n",
    "  'Nancy',\n",
    "  'Sales Manager',\n",
    "  1,\n",
    "  '1958-12-08 00:00:00',\n",
    "  '2002-05-01 00:00:00',\n",
    "  '825 8 Ave SW',\n",
    "  'Calgary',\n",
    "  'AB',\n",
    "  'Canada',\n",
    "  'T2P 2T3',\n",
    "  '+1 (403) 262-3443',\n",
    "  '+1 (403) 262-3322',\n",
    "  'nancy@chinookcorp.com')]\n",
    "Nos devuelve una lista de tuplas con los valores que le hemos pedido o el máximo de valores si este es menor."
   ]
  },
  {
   "cell_type": "markdown",
   "id": "3b2cd2b6-9a56-42a1-ad53-e1e8081c702c",
   "metadata": {},
   "source": [
    "`fetchall` nos devuelve todas las posibles filas capturadas con nuestra sentencia sql (ahora que estamos ejecutando SELECT)"
   ]
  },
  {
   "cell_type": "code",
   "execution_count": null,
   "id": "0e51e3f7-4558-49c4-91ef-1b630d3bad8d",
   "metadata": {},
   "outputs": [],
   "source": [
    "cursor_clase.fetchall()\n"
   ]
  },
  {
   "cell_type": "markdown",
   "id": "18a69e04-1c86-4295-94ac-3e8a2ec641a4",
   "metadata": {},
   "source": [
    "Nos devuelva una lista vacia, porque los fetch van sacando del cursor las filascomo ya sacamos todo con lo anterior, fetchall no nos devuelve nada y hay que volver a ejecutar la query para que nos devuelva"
   ]
  },
  {
   "cell_type": "code",
   "execution_count": null,
   "id": "ba5cc495-7111-4f17-bb77-f1cc774e15a3",
   "metadata": {},
   "outputs": [],
   "source": [
    "cursor_clase.execute(query)\n",
    "cursor_clase.fetchall() #nos devuelve todos"
   ]
  },
  {
   "cell_type": "markdown",
   "id": "c547976c-957d-4e99-88d8-87a934e7ba93",
   "metadata": {},
   "source": [
    "### Atributo description\n",
    "\n",
    "Nos permite obtenerr las columnas que tenemos dentro de la tabla que ha recogido el cursor al ejecutar una sentencia"
   ]
  },
  {
   "cell_type": "code",
   "execution_count": null,
   "id": "0c99c929-3441-4fff-a668-da4118c1141e",
   "metadata": {},
   "outputs": [],
   "source": [
    "cursor_clase.description"
   ]
  },
  {
   "cell_type": "code",
   "execution_count": null,
   "id": "705d44cc-38b5-4339-9605-27ef347b3d5b",
   "metadata": {},
   "outputs": [],
   "source": [
    "(('EmployeeId', None, None, None, None, None, None),\n",
    " ('LastName', None, None, None, None, None, None),\n",
    " ('FirstName', None, None, None, None, None, None),\n",
    " ('Title', None, None, None, None, None, None),\n",
    " ('ReportsTo', None, None, None, None, None, None),\n",
    " ('BirthDate', None, None, None, None, None, None),\n",
    " ('HireDate', None, None, None, None, None, None),\n",
    " ('Address', None, None, None, None, None, None),\n",
    " ('City', None, None, None, None, None, None),\n",
    " ('State', None, None, None, None, None, None),\n",
    " ('Country', None, None, None, None, None, None),\n",
    " ('PostalCode', None, None, None, None, None, None),\n",
    " ('Phone', None, None, None, None, None, None),\n",
    " ('Fax', None, None, None, None, None, None),\n",
    " ('Email', None, None, None, None, None, None))\n",
    "#tiene un descriptor de la CVOLUMNA, PERO NO DE LOS VALORES, DE CADA TUPLA NNOS QUEDAMOS CON EL PRIMER VALOR."
   ]
  },
  {
   "cell_type": "markdown",
   "id": "2f4b2953-6df4-4302-9fef-2d2111fa1094",
   "metadata": {},
   "source": [
    "Para quedarnos con el nombre de las columnas:"
   ]
  },
  {
   "cell_type": "code",
   "execution_count": null,
   "id": "01179851-c76e-4b15-ae12-869577d13ae9",
   "metadata": {},
   "outputs": [],
   "source": [
    "names_col = [descript[0] for descript in cursor_clase.description]\n",
    "names_col"
   ]
  },
  {
   "cell_type": "code",
   "execution_count": null,
   "id": "5de8e36d-1b87-4b06-be7d-854f1223304e",
   "metadata": {},
   "outputs": [],
   "source": [
    "['EmployeeId',\n",
    " 'LastName',\n",
    " 'FirstName',\n",
    " 'Title',\n",
    " 'ReportsTo',\n",
    " 'BirthDate',\n",
    " 'HireDate',\n",
    " 'Address',\n",
    " 'City',\n",
    " 'State',\n",
    " 'Country',\n",
    " 'PostalCode',\n",
    " 'Phone',\n",
    " 'Fax',\n",
    " 'Email']"
   ]
  },
  {
   "cell_type": "markdown",
   "id": "1fada0e8-4fe6-4ffa-b472-91e58e21f62c",
   "metadata": {},
   "source": [
    "### Convirtiendo a pandas las salida\n",
    "\n",
    "convertir a Pandas la salida, tan sencillo como pasar la tupla obtenida y como columnas los nombres que hemos sacado de description"
   ]
  },
  {
   "cell_type": "code",
   "execution_count": null,
   "id": "e87d2027-f6c8-4fa1-b0d1-895a91f4c90a",
   "metadata": {},
   "outputs": [],
   "source": [
    "cursor_clase.execute(query)\n",
    "resultado = cursor_clase.fetchall()\n",
    "df = pd.DataFrame(resultado, columns = names_col)\n",
    "df\n",
    "#no se necesita usar el descriptor porque se ha hecho la misma query, si fuese otra query se denbería hacer el names_coL para hacer una query correcta"
   ]
  },
  {
   "cell_type": "markdown",
   "id": "3c897f42-5fc5-43d9-a847-f0bee5687436",
   "metadata": {},
   "source": [
    "## SQL en Python: Primeras Queries"
   ]
  },
  {
   "cell_type": "code",
   "execution_count": null,
   "id": "2f24f0d1-98ba-4fb8-af55-f7222d214e59",
   "metadata": {},
   "outputs": [],
   "source": [
    "#conectarse a base de datos\n",
    "import pandas as pd\n",
    "import sqlite3\n",
    "\n",
    "# Conectamos con la base de datos chinook.db\n",
    "connection = sqlite3.connect(\"data/chinook.db\")\n",
    "\n",
    "# Obtenemos un cursor que utilizaremos para hacer las queries\n",
    "cursor_bootcamp = connection.cursor()"
   ]
  },
  {
   "cell_type": "markdown",
   "id": "2c095907-c162-4152-b88b-76f199a4091a",
   "metadata": {},
   "source": [
    "### Tablas y Schema\n",
    "Para ver las tablas que hay en una base de datos con la que hemos establecido conexión en el caso de sqlite3:"
   ]
  },
  {
   "cell_type": "code",
   "execution_count": null,
   "id": "af5d32a7-b167-403f-a724-c05a9a793da7",
   "metadata": {},
   "outputs": [],
   "source": [
    "res = cursor_bootcamp.execute(\"SELECT name FROM sqlite_master WHERE type = 'table'\")"
   ]
  },
  {
   "cell_type": "markdown",
   "id": "5f02783c-3f19-4731-8c21-0478ab194046",
   "metadata": {},
   "source": [
    "Fíjate que hemos empleado una consulta (SELECT) sql sobre una tabla, que se denomina maestra, y le hemos pasado la query al gesto a través del cursor.\n",
    "La tabla maestra es aquella que nos indica  cuantas ntablas tiene, tipos de datos y relaciones."
   ]
  },
  {
   "cell_type": "markdown",
   "id": "4931bf51-5f79-4071-b27c-05e0db3a70ac",
   "metadata": {},
   "source": [
    "podríamos recorrer todas las tablas y sacar sus nombres de columnas o podríamos investigar las columnas de esa tabla maestra y de ahí obtener el modelo de datos. "
   ]
  },
  {
   "cell_type": "code",
   "execution_count": null,
   "id": "815c20da-8cf8-4cee-ada0-5970e8e64028",
   "metadata": {},
   "outputs": [],
   "source": [
    "res = cursor_bootcamp.execute(\"SELECT name FROM sqlite_master WHERE type = 'table'\") #select sobre tabla sqlite master(\"tabla maestra\"), es una tabla que tiene todos los datos y sus relaciones.\n",
    "tablas = []                                                               \n",
    "for name in res:\n",
    "    print(name[0])\n",
    "    tablas.append(name[0]) #nos da la tabla maestra"
   ]
  },
  {
   "cell_type": "code",
   "execution_count": null,
   "id": "a560e24f-ce8b-4659-a99a-a6ad7c490a9d",
   "metadata": {},
   "outputs": [],
   "source": [
    "Se puede recorrer para obtener toda la información y obtener el modelo de datos."
   ]
  },
  {
   "cell_type": "markdown",
   "id": "5d39a49d-d992-46da-ab9a-e6a5012c84f8",
   "metadata": {},
   "source": [
    "### Modelo de datos\n",
    "\n",
    "Debemos saber el modelo de datos para saber donde está la info que queremos extraer antes de manipularla y analizarla."
   ]
  },
  {
   "cell_type": "markdown",
   "id": "d6c36699-f00b-4c98-9dbe-1a3b73d8b004",
   "metadata": {},
   "source": [
    "### Primeras queries con SELECT\n",
    "```SQL\n",
    "SELECT campo1, campo2, campo3...\n",
    "FROM tabla [\"DE DONDE\"]\n",
    "WHERE condiciones[\"EN QUE CONDICIONES O COMO LOS FILTRAMOS SI NO QUEREMOS TODOS LOS VALORES\"]\n",
    "ORDER BY campo1, campo2 (DESC)[\"COMO SE ORDENAN, DESC ES SI LOS QUEREMOS EN DESCENDENTES\"]\n",
    "LIMIT num_filas[\"SI QUEREMOS PONER UN LIMIT\"]\n",
    "```\n",
    " **palabras reservadas en SQL se suelen poner en mayúsculas**,\n",
    " No da error si se pone de otra manera, ya que SQL **no es *case sensitive***"
   ]
  },
  {
   "cell_type": "markdown",
   "id": "4f6303a8-8202-4676-abfd-e10e5c4834c1",
   "metadata": {},
   "source": [
    "#### SELECT *\n",
    "nos devuelve todos los campos de una tabla"
   ]
  },
  {
   "cell_type": "code",
   "execution_count": null,
   "id": "5a83342e-f61b-4a13-b803-24f73109b2ae",
   "metadata": {},
   "outputs": [],
   "source": [
    "query = '''   \n",
    "SELECT *\n",
    "FROM tracks\n",
    "'''\n",
    "#las comillas en python, si es en squl solo pondremos asterisco, se puede poner en una solam linea\n"
   ]
  },
  {
   "cell_type": "code",
   "execution_count": null,
   "id": "da15b24c-6ad4-48fb-9269-956b4c8c86b2",
   "metadata": {},
   "outputs": [],
   "source": [
    "#seleccionar la query\n",
    "cursor_bootcamp.execute(query)\n",
    "resultado = cursor_bootcamp.fetchall()\n",
    "col = [d[0] for d in cursor_bootcamp.description]\n",
    "df = pd.DataFrame(resultado,columns = col)\n",
    "df\n",
    "#nosa da el dataframe"
   ]
  },
  {
   "cell_type": "markdown",
   "id": "017eaca9-e12e-4fbd-be97-9af69c182e1e",
   "metadata": {},
   "source": [
    "### Selección de campos"
   ]
  },
  {
   "cell_type": "code",
   "execution_count": null,
   "id": "1cf0ef7e-21c9-4cfb-bfba-051572741399",
   "metadata": {},
   "outputs": [],
   "source": [
    "#podemos seleccionar campos en completo, en laquery podemos dar nombre al campo por si queremos cambiar el nombre a las columnas. Los nombres los ponemos entre comillas porque tienen espacio, si no se podría poner sin el.\n",
    "query = '''\n",
    "SELECT Name as \"Nombre cancion\", composer as \"Compositor\"    \n",
    "FROM tracks\n",
    "'''\n",
    "cursor_bootcamp.execute(query) #nos conserva los nombres para las columnas que queremos tener en el DF\n",
    "resultado = cursor_bootcamp.fetchall()\n",
    "col = [d[0] for d in cursor_bootcamp.description]\n",
    "df = pd.DataFrame(resultado,columns = col)\n",
    "df\n",
    "#selecciona las columnas y además cambia los nombres\n"
   ]
  },
  {
   "cell_type": "markdown",
   "id": "2cbfe5e4-a80f-4151-bd49-befa5b98d22f",
   "metadata": {},
   "source": [
    "### LIMIT y DISTINCT\n",
    "Se usa para acotar el número de registros de la query. Va siempre al final. Por ejemplo LIMIT 10\n",
    "El limit nos dice el número de número de registro de lka queryu que queremos ver y se pone siempre al final. Se difgerencia de fetch many en que siempre nos devolvía el número a partir del resultado.\n",
    "LIMIT carga menos la base de datos."
   ]
  },
  {
   "cell_type": "code",
   "execution_count": null,
   "id": "5cf1cc3d-778a-48d6-ac0f-827869858e9a",
   "metadata": {},
   "outputs": [],
   "source": [
    "query = '''\n",
    "SELECT Name as \"Nombre Cancion\"\n",
    "FROM tracks \n",
    "LIMIT 10\n",
    "'''\n",
    "cursor_bootcamp.execute(query)\n",
    "resultado = cursor_bootcamp.fetchall()\n",
    "col = [d[0] for d in cursor_bootcamp.description]\n",
    "df = pd.DataFrame(resultado,columns = col)\n",
    "df \n",
    "#nos da los 10 primeros valores empezando desde el 0"
   ]
  },
  {
   "cell_type": "markdown",
   "id": "318946ea-daf1-46e8-9c80-8df6f7bac5bf",
   "metadata": {},
   "source": [
    "#### DISTINCT\n",
    "Se usa para obtener todos los registros únicos, es decir, sin duplicados. Lo podremos emplear para eliminar dupicados (aunque te recomiendo que no modifiques los datos de las bases de datos, vuelcalo a pandas y modifica ahí), como para ver todas las casuísticas de un campo en concreto.\n",
    "\n",
    "**Mucho cuidado con esta sentencia ya que si la tabla tiene miles o millones de registros, puede ralentizar mucho la query.**"
   ]
  },
  {
   "cell_type": "code",
   "execution_count": null,
   "id": "4471667d-13fc-4343-a90a-ef6286437df7",
   "metadata": {},
   "outputs": [],
   "source": [
    "query = '''\n",
    "SELECT DISTINCT Composer\n",
    "FROM tracks\n",
    "'''\n",
    "cursor_bootcamp.execute(query)\n",
    "resultado = cursor_bootcamp.fetchall()\n",
    "col = [d[0] for d in cursor_bootcamp.description]\n",
    "df = pd.DataFrame(resultado,columns = col)\n",
    "df \n",
    "#nos da los 853 compositores de 3500"
   ]
  },
  {
   "cell_type": "markdown",
   "id": "ad0276a1-6288-4bb6-902b-842588dcd69b",
   "metadata": {},
   "source": [
    "# SQL en Python: WHERE\n"
   ]
  },
  {
   "cell_type": "markdown",
   "id": "7e849d0b-4c80-45f7-974a-a623707e86af",
   "metadata": {},
   "source": [
    "El where lo usamos cuando queremos filtrar filas"
   ]
  },
  {
   "cell_type": "code",
   "execution_count": null,
   "id": "b50ec9a9-5f38-423f-8960-4c3203864b57",
   "metadata": {},
   "outputs": [],
   "source": [
    "import pandas as pd\n",
    "import sqlite3\n",
    "\n",
    "# Conectamos con la base de datos chinook.db\n",
    "connection = sqlite3.connect(\"data/chinook.db\")\n",
    "\n",
    "# Obtenemos un cursor que utilizaremos para hacer las queries\n",
    "cursor_bootcamp = connection.cursor()"
   ]
  },
  {
   "cell_type": "markdown",
   "id": "25b0bb31-044c-4bd4-96e4-60703f5283c7",
   "metadata": {},
   "source": [
    "En la sesión anterior repetíamos siempre el mismo código y esquema para hacer una query y luego llevarla a un dataframe.\n",
    "Es interesamte usar una función"
   ]
  },
  {
   "cell_type": "code",
   "execution_count": null,
   "id": "8cd41412-b206-4a35-b3f4-e084bf2cde2d",
   "metadata": {},
   "outputs": [],
   "source": [
    "# Con esta función leemos los datos y lo pasamos a un DataFrame de Pandas\n",
    "def sql_query(query):\n",
    "\n",
    "    # Ejecuta la query\n",
    "    cursor_bootcamp.execute(query) # Recuerda que sólo funcionará si has llamado cursor_bootcamp\n",
    "                                    # a tu cursor, si no, cambia el nombre en todo el código de la función\n",
    "\n",
    "    # Almacena los datos de la query \n",
    "    ans = cursor_bootcamp.fetchall()\n",
    "\n",
    "    # Obtenemos los nombres de las columnas de la tabla\n",
    "    names = [description[0] for description in cursor_bootcamp.description]\n",
    "\n",
    "    return pd.DataFrame(ans,columns=names)"
   ]
  },
  {
   "cell_type": "code",
   "execution_count": null,
   "id": "6fe16571-dc38-4edd-bbb5-febdc1748e49",
   "metadata": {},
   "outputs": [],
   "source": [
    "#si usamos la función\n",
    "query = '''\n",
    "SELECT composer\n",
    "FROM tracks\n",
    "'''\n",
    "sql_query(query)"
   ]
  },
  {
   "cell_type": "markdown",
   "id": "97ed17c9-0d83-4542-a7bd-31175cc5c8de",
   "metadata": {},
   "source": [
    "### WHERE\n",
    "Se usa para filtrar filas"
   ]
  },
  {
   "cell_type": "markdown",
   "id": "435da077-322c-45ca-9ebf-2d753c3eda03",
   "metadata": {},
   "source": [
    "#### Filtros numéricos\n",
    "* **Un valor numérico**\n",
    "    * UnitPrice = 0.99\n",
    "    * UnitPrice >= 0.99\n",
    "    * UnitPrice < 0.99\n"
   ]
  },
  {
   "cell_type": "code",
   "execution_count": null,
   "id": "8dc62a3d-d5d0-4ac0-a50a-65a7020df922",
   "metadata": {},
   "outputs": [],
   "source": [
    "# Escogiendo la tabla tracks canciones que duren más de 6 minutos (360000 milisegundos)\n",
    "minutos = 6 \n",
    "query = f'''\n",
    "SELECT name \"Nombre Canción\", Milliseconds \"duracion\"\n",
    "FROM tracks\n",
    "WHERE Milliseconds > {minutos * 60 * 1000}\n",
    "'''\n",
    "sql_query(query)"
   ]
  },
  {
   "cell_type": "code",
   "execution_count": null,
   "id": "8d53e6bd-f3b8-4804-bdf8-63f469c16b48",
   "metadata": {},
   "outputs": [],
   "source": [
    "#se pueden operar los campos con select, convietiendo miliseconds en seconds /1000\n",
    "minutos = 6 #lo dividimos x 1000\n",
    "query = f'''\n",
    "SELECT name \"Nombre Canción\", Milliseconds/1000 \"duracion\" \n",
    "FROM tracks\n",
    "WHERE Milliseconds > {minutos * 60* 1000}\n",
    "'''\n",
    "sql_query(query) "
   ]
  },
  {
   "cell_type": "markdown",
   "id": "95447af2-609c-488b-aade-47cf3e0e7d14",
   "metadata": {},
   "source": [
    "#### Filtros sobre campos de texto"
   ]
  },
  {
   "cell_type": "markdown",
   "id": "1dbef01a-4ddd-48e8-b138-cd4dae3a8cae",
   "metadata": {},
   "source": [
    "* **Un valor string**: Name = 'Restless and Wild'\n",
    "* **string contenido**:\n",
    "    * strings que empiecen por 'A': Name like 'A%'\n",
    "    * strings que acaben en 'A': Name like '%A'\n",
    "    * strings que lleven 'A' en algun punto: Name like '%A%'\n"
   ]
  },
  {
   "cell_type": "code",
   "execution_count": null,
   "id": "03d2ba54-804a-4cbb-bb1c-ba26f76eb75b",
   "metadata": {},
   "outputs": [],
   "source": [
    "# Compositores que se llamen Brian\n",
    "query = '''\n",
    "SELECT *\n",
    "FROM tracks\n",
    "WHERE composer LIKE \"Brian%\"\n",
    "'''\n",
    "sql_query(query)"
   ]
  },
  {
   "cell_type": "code",
   "execution_count": null,
   "id": "75867960-8864-4f00-8a77-26f10e99a626",
   "metadata": {},
   "outputs": [],
   "source": [
    "\n",
    "query = '''\n",
    "SELECT *\n",
    "FROM tracks\n",
    "WHERE composer LIKE \"%Brian%\"\n",
    "'''\n",
    "sql_query(query) #nos da si tienen ese nombre entre medias del texto"
   ]
  },
  {
   "cell_type": "markdown",
   "id": "d2d9628d-855a-4b81-8a18-aa870f1fed16",
   "metadata": {},
   "source": [
    "#### Filtros varios"
   ]
  },
  {
   "cell_type": "markdown",
   "id": "c85bfef7-2de1-40e2-a4d2-3cf65ac7c0bf",
   "metadata": {},
   "source": [
    "* **Varios valores**: GenreId in (1, 5, 12)ver que un conjunto está en una lista de valores, como el is in en panmdas\n",
    "* **Distinto de**: UnitPrice <> 0.99 se usa como distinto\n"
   ]
  },
  {
   "cell_type": "code",
   "execution_count": null,
   "id": "81f87c65-b197-45e0-8601-a15642b7025f",
   "metadata": {},
   "outputs": [],
   "source": [
    "# Clientes que vivan en Berlin, Londres o París\n",
    "query = '''\n",
    "SELECT FirstName \"Nombre\", LastName \"Apellido\", City \"Ciudad\"\n",
    "FROM Customers\n",
    "WHERE City in (\"Berlin\", \"London\", \"Paris\")\n",
    "'''\n",
    "sql_query(query)"
   ]
  },
  {
   "cell_type": "markdown",
   "id": "2072a1b7-b771-47e4-910c-9db660e46c8d",
   "metadata": {},
   "source": [
    "#### Combinaciones booleanas de condiciones\n",
    "podemos combinar los filtros ya que no dejan de ser condiciones booleanas al igual que hacemos con los DataFrame de pandas. Son and y or"
   ]
  },
  {
   "cell_type": "code",
   "execution_count": null,
   "id": "154ce579-7a45-4226-a757-5cd6dff6fcc2",
   "metadata": {},
   "outputs": [],
   "source": [
    "# Busquemos las canciones que cuesten más de 0.99 o duren menos de 3 minutos y además de eso en su nombre aparezca la palabra Fire\n",
    "query = '''\n",
    "SELECT *\n",
    "FROM tracks\n",
    "WHERE (unitprice > 0.99 or Milliseconds < 3*60*1000) and Name LIKE \"%fire%\"\n",
    "'''\n",
    "sql_query(query)"
   ]
  },
  {
   "cell_type": "markdown",
   "id": "19433b1c-3440-4e17-8fff-476ba58df36a",
   "metadata": {},
   "source": [
    "# SQL con Python: Ordenación, agregación y agrupación "
   ]
  },
  {
   "cell_type": "markdown",
   "id": "111a8806-c97c-476d-b7c8-365235c8e1bc",
   "metadata": {},
   "source": [
    "### ORDER BY\n",
    " **ordenar la tabla por el campo/s que queramos**\n",
    ". Por defecto ordena alfabéticamente los strings y de menor a mayor los tipos numéricos. Si quieres que ordene al revés, tienes que poner `DESC` de la forma `ORDER BY campo DESC` (como el `ascending = False` del `sort_values` de pandas,o el `reverse = True` en el caso de `sort` de listas)"
   ]
  },
  {
   "cell_type": "code",
   "execution_count": null,
   "id": "ca3e7ffd-819f-4990-bcc1-14414c542770",
   "metadata": {},
   "outputs": [],
   "source": [
    "# Obtengamos los datos de la tabla \"tracks\" ordenados por nombre de forma descendente\n",
    "query = '''\n",
    "SELECT *\n",
    "FROM tracks\n",
    "ORDER BY name DESC'''\n",
    "\n",
    "sql_query(query) #ordena alfabéticamente"
   ]
  },
  {
   "cell_type": "code",
   "execution_count": null,
   "id": "4c193dc9-eee7-4ed2-b0c5-5bd95655b481",
   "metadata": {},
   "outputs": [],
   "source": [
    "# Obtengamos el nombre de los clientes norteamericanos ordenados por apellido\n",
    "query = '''\n",
    "SELECT Firstname \"Nombre\", LastName \"Apellido\", Country \"País\"\n",
    "FROM customers\n",
    "WHERE Country in (\"USA\", \"Canada\")\n",
    "ORDER BY Lastname\n",
    "'''\n",
    "sql_query(query)"
   ]
  },
  {
   "cell_type": "markdown",
   "id": "940e69ec-da35-45d6-81de-4af6b782475b",
   "metadata": {},
   "source": [
    "### Agregaciones\n",
    "funciones como `MAX`, `COUNT` o `AVG`.\n",
    "Las agregaciones, solemos usarlas en DF"
   ]
  },
  {
   "cell_type": "code",
   "execution_count": null,
   "id": "2b7ce31e-7bc8-4d0d-a66b-0b8fc75653e4",
   "metadata": {},
   "outputs": [],
   "source": [
    "# Obtener el número de canciones que contienen la palabra love\n",
    "query = '''\n",
    "SELECT COUNT(*)\n",
    "FROM tracks\n",
    "WHERE name LIKE \"%Love%\"\n",
    "'''\n",
    "sql_query(query)"
   ]
  },
  {
   "cell_type": "code",
   "execution_count": null,
   "id": "d348df18-fba7-4825-8526-c99ef2a784cc",
   "metadata": {},
   "outputs": [],
   "source": [
    "# Encontrar la media del precio de las canciones compradas\n",
    "query = '''\n",
    "SELECT AVG(unitprice)\n",
    "FROM invoice_items\n",
    "'''\n",
    "sql_query(query)\n",
    "#calculamos un average"
   ]
  },
  {
   "cell_type": "code",
   "execution_count": null,
   "id": "e350fb0b-b0d2-462a-8646-6730f1f71ee7",
   "metadata": {},
   "outputs": [],
   "source": [
    "# Obtener la duración máxima de las canciones\n",
    "query = '''\n",
    "SELECT MAX(Milliseconds)/1000\n",
    "FROM tracks\n",
    "'''\n",
    "sql_query(query)\n",
    "#podemos poner algún tipo de argumento en la función para que a la hora de detectar que el resultado es un valor único, nos devuelva el valor y no el DF"
   ]
  },
  {
   "cell_type": "markdown",
   "id": "e263729d-89f6-44fa-8b00-9c836d6d3288",
   "metadata": {},
   "source": [
    "### Agrupaciones (GROUP BY):\n"
   ]
  },
  {
   "cell_type": "code",
   "execution_count": null,
   "id": "6c436368-0766-4094-b296-b8b3413d7e36",
   "metadata": {},
   "outputs": [],
   "source": [
    "# Selección del precio unitario en funcion del género\n",
    "#as tot_price, es para cambiar el nombre al valor del sum\n",
    "query = '''\n",
    "SELECT GenreId, SUM(unitprice) as TOT_PRICE\n",
    "FROM tracks\n",
    "GROUP BY GenreId\n",
    "ORDER BY TOT_PRICE DESC\n",
    "LIMIT 10\n",
    "'''#ya se puede usar la columna SUMA CON SU NUEVO NOMBRE\n",
    "#Ver los 10 primeros\n",
    "sql_query(query)\n"
   ]
  },
  {
   "cell_type": "markdown",
   "id": "152bda32-a730-4ab2-8ba0-fcfa93b76f41",
   "metadata": {},
   "source": [
    "Calcular cuantas canciones hay por compositor"
   ]
  },
  {
   "cell_type": "code",
   "execution_count": null,
   "id": "6953536d-1ef1-4d95-802b-ee8633740a63",
   "metadata": {},
   "outputs": [],
   "source": [
    "query = '''\n",
    "SELECT Composer,COUNT(TrackId) \n",
    "FROM tracks\n",
    "WHERE Composer IS NOT NULL \n",
    "GROUP BY composer\n",
    "ORDER BY 2 DESC\n",
    "LIMIT 20\n",
    "'''#Is not null es como un isna, nos da los que no tienen valor nulo\n",
    "#2 significa el segundoi campo, para indicar la coliumna que quiero\n",
    "sql_query(query)\n",
    "#nos da los 20 primeros por número de canciones"
   ]
  }
 ],
 "metadata": {
  "kernelspec": {
   "display_name": "Python 3 (ipykernel)",
   "language": "python",
   "name": "python3"
  },
  "language_info": {
   "codemirror_mode": {
    "name": "ipython",
    "version": 3
   },
   "file_extension": ".py",
   "mimetype": "text/x-python",
   "name": "python",
   "nbconvert_exporter": "python",
   "pygments_lexer": "ipython3",
   "version": "3.10.11"
  }
 },
 "nbformat": 4,
 "nbformat_minor": 5
}
