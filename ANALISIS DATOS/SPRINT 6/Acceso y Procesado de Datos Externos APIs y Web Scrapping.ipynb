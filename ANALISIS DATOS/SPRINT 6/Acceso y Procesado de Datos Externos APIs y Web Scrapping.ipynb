{
 "cells": [
  {
   "cell_type": "markdown",
   "id": "a2d9ee85-04fb-44c1-9ad8-5a7724f360f5",
   "metadata": {},
   "source": [
    "### FUENTES EXTERNAS"
   ]
  },
  {
   "cell_type": "markdown",
   "id": "b945a8ba-4394-4d62-b19a-9cccbffc2f40",
   "metadata": {},
   "source": [
    "Las fuentes externas son aquellas que no se encuentran a nuestro alcance.\n",
    "- Archivos, en servidores externos\n",
    "- Páginas web\n",
    "- Datos de empresas o instituciones públicas o privadas, con formas particulares de acceso.Ç\n",
    "  "
   ]
  },
  {
   "cell_type": "markdown",
   "id": "7cc21f3f-d644-485c-b29b-05e05d99f4a8",
   "metadata": {},
   "source": [
    "#### Archivos externos\n",
    "Programas o servivios expecíficos, ftp; servicios de alojamiento web como google drive, servicios de descarga."
   ]
  },
  {
   "cell_type": "markdown",
   "id": "16a5a126-53da-48fc-8714-595cd93340ff",
   "metadata": {},
   "source": [
    "#### Páginas web\n",
    "Descargare archivos y procesarlos que parecen útiles (WebScrapping), de ética borrosa y muchos sitios le parecen robo de datos.\n",
    "Usar APIS, mecanismos para bajar contenido proporcionado por servidores.\n"
   ]
  },
  {
   "cell_type": "markdown",
   "id": "a7a08179-9c3c-42ef-8dd2-b23bd0dff59c",
   "metadata": {},
   "source": [
    "**API** Interfaz de Programación de Aplicaciones, es u8n conjunto de reglas que permite a diferentes programas comunicarse entre sí. Funcionan como intermediarios, permitiendo que su software solicite y reciba info de forma eficioente y segura.\n",
    "Las llamaremos desde python y usaremos progeramación para obtener datos.\n",
    "\n",
    "Es una especie de llamada a una función, en la que pasaremos unos parámetros para decidir que tipo de datos quiero y poder manipularlos de cierto modo."
   ]
  },
  {
   "cell_type": "markdown",
   "id": "779badc2-27f8-463c-b08d-359ca4a5f24f",
   "metadata": {},
   "source": [
    "#### Fuentes de datos \"externos\": elementos de una API\n",
    "- Endpoint/punto de acceso: Sería el nombre de cada API, el nombre de la función y depende de quien nos lapermita usar y el tipo de permiso.\n",
    "- Métodos: suelen tener uin método para concretar que tipo de servicio da la API.\n",
    "- Parámetros/Arguymentos: sirven desde pedir a los motores de Chat GPT que queremos que haga hasta para indicar el uso horario en el que queremos los\n",
    "- Api-key: Casi todas tienen autentificación, antes de poder usarlos nos debemos de registrar en algún sitio y nos dará una clave denominada api key, necesaria para usarlas.\n",
    "- Otros: pueden ser privadas, gratuitas, públicas, privadas..."
   ]
  },
  {
   "cell_type": "markdown",
   "id": "4aae605e-ef43-4cc5-bb44-e2fcd0202aa2",
   "metadata": {},
   "source": [
    "# Web Scraping en Python: Beautiful Soup y Proceso"
   ]
  },
  {
   "cell_type": "markdown",
   "id": "3fdf1a18-a416-4caa-8316-3e41aaf7dcd3",
   "metadata": {},
   "source": [
    "El **web scraping** es una técnica que permite extraer datos e información de una web.\n",
    "web scraping permite\n",
    "llevar a cabo un análisis SEO de una web, comprobar enlaces rotos, generar el sitemap de una página, vigilar a la competencia o estar al tanto de cambios en una web. Puede utilizarse en las primeras fases de un proyecto de Big Data o Machine Learning"
   ]
  },
  {
   "cell_type": "markdown",
   "id": "308a7f4b-3a11-4309-ba00-cbe3c45b09fb",
   "metadata": {},
   "source": [
    "### Beautiful Soup"
   ]
  },
  {
   "cell_type": "markdown",
   "id": "18c5d81a-469d-4a90-8205-9d77334ca958",
   "metadata": {},
   "source": [
    "`Beautiful Soup` es una librería Python que permite extraer información de contenido en formato HTML o XML.\n",
    " Para usarla, es necesario especificar un **parser**, que es responsable de transformar un documento HTML o XML en un árbol complejo de objetos Python.\n",
    "Esto permite que podamos interactuar con los elementos de una página web como si estuviésemos utilizando las herramientas del desarrollador de un navegador."
   ]
  },
  {
   "cell_type": "code",
   "execution_count": null,
   "id": "283920e5-dbc5-46cd-8f93-49f306f77a37",
   "metadata": {},
   "outputs": [],
   "source": [
    "import lxml\n",
    "import requests\n",
    "\n",
    "from bs4 import BeautifulSoup"
   ]
  },
  {
   "cell_type": "markdown",
   "id": "dfa357e0-5484-4eb1-aa90-81155c129d4a",
   "metadata": {},
   "source": [
    "### Pasos para hacer web scraping"
   ]
  },
  {
   "cell_type": "markdown",
   "id": "6b7deb8e-b790-4de8-b653-937e07c3b155",
   "metadata": {},
   "source": [
    "1. **Identificar los elementos de la página de los que extraer la información**:\n",
    "Las páginas web son documentos estructurados formados por una jerarquía de elementos. El primer paso para extraer información es identificar correctamente el elemento o elementos que contienen la información deseada. Para ello, lo más fácil es abrir la página en un navegador e inspeccionar el elemento.\n",
    "Esto se consigue haciendo clic con el botón derecho sobre el elemento en cuestión y pulsando sobre la opción Inspeccionar o Inspeccionar elemento (depende del navegador). Quédate con toda la información disponible asociada al elemento (como la etiqueta, o los atributos id y/o class) ya que, posteriormente, te hará falta para utilizarla en Beautiful Soup.\n",
    "\n",
    "2. **Descargar el contenido de la página**: Para ello, utiliza la librería `requests`. El contenido de la respuesta, el que contiene la página en HTML, será el que pasemos posteriormente a `Beautiful Soup` para generar el árbol de elementos y poder hacer consultas al mismo.\n",
    "\n",
    "3. **Crear la «sopa»**: El contenido de la página obtenido en el paso anterior será el que utilicemos para crear la «sopa», esto es, **el árbol de objetos Python que representan al documento HTML**. Para ello, hay que crear un objeto de tipo `BeautifulSoup`, al cuál se le pasa el texto en formato HTML y el identificador del parser a utilizar:\n",
    "\n",
    "        import requests\n",
    "        from bs4 import BeautifulSoup\n",
    "        r = requests.get('http://unapagina.xyz') --Se almacena la web en una variable\n",
    "        soup = BeautifulSoup(r.text, 'lxml') --Se pasa el atributo text de la variable con el pareser xml al bf soup y con xml, se saca la info.\n",
    "\n",
    "4. **Buscar los elementos en la «sopa» y obtener la información deseada**: El último paso es hacer una búsqueda en el árbol y obtener los objetos que contienen la información y datos que necesitamos. En este sentido se va a parecer a lo que hacíamos con los ficheros XML, pero con un poco más de elegancia."
   ]
  },
  {
   "cell_type": "markdown",
   "id": "bbb0b627-8229-4e16-a6bc-ee6476a7d4c8",
   "metadata": {},
   "source": [
    "# Web Scraping en Python: HTML y BeautifulSoup (I)"
   ]
  },
  {
   "cell_type": "code",
   "execution_count": 4,
   "id": "7986a472-c4fb-45f2-ad81-72c8a97e32f1",
   "metadata": {},
   "outputs": [],
   "source": [
    "import pandas as pd\n",
    "import requests\n",
    "\n",
    "#página web ficticia\n",
    "from bs4 import BeautifulSoup\n",
    "# Suponemos que esta pagina de ejemplo la hemos descargado con una llamada a la función request de la librería requests\n",
    "\n",
    "contenido = \"\"\"                      --variable\n",
    "<html lang=\"es\">\n",
    "<head>                                --etiqueta\n",
    "    <meta charset=\"UTF-8\">             --atributo\n",
    "    <title>Página de prueba</title>    --</> texto\n",
    "</head>\n",
    "<body>\n",
    "<div id=\"main\" class=\"full-width\">\n",
    "    <h1>El título de la página</h1>\n",
    "    <p>Este es el primer párrafo</p>\n",
    "    <p>Este es el segundo párrafo</p>\n",
    "    <div id=\"innerDiv\">    --es gerárquico, esto es el padre de las demás etiquetas\n",
    "        <div class=\"links\">\n",
    "            <a href=\"https://pagina1.xyz/\">Enlace 1</a>     -- es importante ya que la info puede estar en una etiqueta a\n",
    "            <a href=\"https://pagina2.xyz/\">Enlace 2</a>\n",
    "        </div>\n",
    "        <div class=\"right\">\n",
    "            <div class=\"links\">\n",
    "                <a href=\"https://pagina3.xyz/\">Enlace 3</a>  --hace que el browser te lleve a la referencia. etiqueta a tine un atribuo ha\n",
    "                <a href=\"https://pagina4.xyz/\">Enlace 4</a>\n",
    "            </div>\n",
    "        </div>\n",
    "    </div>\n",
    "    <div id=\"footer\">\n",
    "        <!-- El footer -->\n",
    "        <p>Este párrafo está en el footer</p>\n",
    "        <div class=\"links footer-links\">\n",
    "            <a href=\"https://pagina5.xyz/\">Enlace 5</a>\n",
    "        </div>\n",
    "    </div>\n",
    "</div>\n",
    "</body>\n",
    "</html>\n",
    "\"\"\"\n",
    "soup = BeautifulSoup(contenido, 'lxml') #parseamos con el soup"
   ]
  },
  {
   "cell_type": "markdown",
   "id": "14b8541b-4ec9-4c69-a373-cbd8499bfcf3",
   "metadata": {},
   "source": [
    "### Primeros conceptos: Etiquetas y Atributos"
   ]
  },
  {
   "cell_type": "markdown",
   "id": "e2e3dc57-14c9-4b3c-bb63-f3e08a1dbc60",
   "metadata": {},
   "source": [
    "HTML consta de elementos como enlaces, párrafos, encabezados, bloques, etc. Estos elementos están envueltos entre etiquetas; dentro de la etiqueta de apertura y cierre se puede encontrar el contenido del elemento."
   ]
  },
  {
   "cell_type": "markdown",
   "id": "f0a3c849-b765-493a-9a77-77fe9016983f",
   "metadata": {},
   "source": [
    "<h1>El título de la página</h1>\n",
    "Esta linea,<h1> etiqueta apertura </h1> etiqueta de cierre.\n",
    "entre medias está el contenido\n",
    "<p>Este es el segundo párrafo</p> --p de párragraf\n",
    "class= atributo puede ir entre comillas o no si no es número"
   ]
  },
  {
   "cell_type": "markdown",
   "id": "a2326962-f9c4-4569-9e49-25bb48ccd267",
   "metadata": {},
   "source": [
    "Por ejemplo, si te fijas en la \"página\" web ejemplo, tenemos etiquetas como: head, title, body, div, h1, p y a. \n",
    "\n",
    "* Claramente p son párrafos de texto, h1 sabemos que es un header (si recuerdas las ya lejanas clases de Markdown) y a es el tag para los links. \n",
    "* Los tags a tienen un atributo que es href y que este atributo tiene como valor el link al que dirigen.\n",
    "* A igual que XML, los tags tienen también un texto (el contenido que va entre la declaración del tag y su cierre por ejemplo en <a href=\"https://pagina1.xyz/\">Enlace 1</a>, es Enlace 1, va entre <a ...> y \\</a>)\n",
    "\n",
    "Y así con el resto."
   ]
  },
  {
   "cell_type": "markdown",
   "id": "2e593956-a554-4757-b55e-e170a56f3151",
   "metadata": {},
   "source": [
    "### BeautifulSoap: Tags y NavigableString"
   ]
  },
  {
   "cell_type": "markdown",
   "id": "6c74e78f-4098-4339-a582-6ed33862b2a3",
   "metadata": {},
   "source": [
    "Tenemos principalmente 2 tipos de objeto `BeautifulSoup`:\n",
    "\n",
    "#### Tag\n",
    "\n",
    "- **Tag**: Este objeto se corresponde con una etiqueta HTML o XML. Por ejemplo, dado el objeto soup, podemos acceder al objeto (tag) que representa al título de la página usando la etiqueta title."
   ]
  },
  {
   "cell_type": "code",
   "execution_count": 5,
   "id": "da0b0c05-89fc-43ae-8112-1c180bf0543e",
   "metadata": {},
   "outputs": [
    {
     "data": {
      "text/plain": [
       "<title>Página de prueba</title>"
      ]
     },
     "execution_count": 5,
     "metadata": {},
     "output_type": "execute_result"
    }
   ],
   "source": [
    "#nos da el título\n",
    "soup.title"
   ]
  },
  {
   "cell_type": "markdown",
   "id": "6bbe0168-2a87-4506-a544-3842aa01fdcf",
   "metadata": {},
   "source": [
    "Hemos accedido a todo el objeto (su apertura, cierre, texto, atributos, etc). Probemos con otro objeto por ejemplo: div"
   ]
  },
  {
   "cell_type": "code",
   "execution_count": 6,
   "id": "b2d894d0-1d15-4092-9d88-6a7ddd890af6",
   "metadata": {},
   "outputs": [
    {
     "data": {
      "text/plain": [
       "<div class=\"full-width\" id=\"main\">\n",
       "<h1>El título de la página</h1>\n",
       "<p>Este es el primer párrafo</p>\n",
       "<p>Este es el segundo párrafo</p>\n",
       "<div id=\"innerDiv\">\n",
       "<div class=\"links\">\n",
       "<a href=\"https://pagina1.xyz/\">Enlace 1</a>\n",
       "<a href=\"https://pagina2.xyz/\">Enlace 2</a>\n",
       "</div>\n",
       "<div class=\"right\">\n",
       "<div class=\"links\">\n",
       "<a href=\"https://pagina3.xyz/\">Enlace 3</a>\n",
       "<a href=\"https://pagina4.xyz/\">Enlace 4</a>\n",
       "</div>\n",
       "</div>\n",
       "</div>\n",
       "<div id=\"footer\">\n",
       "<!-- El footer -->\n",
       "<p>Este párrafo está en el footer</p>\n",
       "<div class=\"links footer-links\">\n",
       "<a href=\"https://pagina5.xyz/\">Enlace 5</a>\n",
       "</div>\n",
       "</div>\n",
       "</div>"
      ]
     },
     "execution_count": 6,
     "metadata": {},
     "output_type": "execute_result"
    }
   ],
   "source": [
    "soup.div\n",
    "#nos enseña todo el contenido del primer div"
   ]
  },
  {
   "cell_type": "markdown",
   "id": "b909831c-0826-44dd-8b16-9a6cd96167be",
   "metadata": {},
   "source": [
    "Nos devuelve la primera agrupación que encuentra"
   ]
  },
  {
   "cell_type": "code",
   "execution_count": 7,
   "id": "52e98cd5-aa8e-42cc-8155-27547c3f59dc",
   "metadata": {},
   "outputs": [
    {
     "data": {
      "text/plain": [
       "<div id=\"innerDiv\">\n",
       "<div class=\"links\">\n",
       "<a href=\"https://pagina1.xyz/\">Enlace 1</a>\n",
       "<a href=\"https://pagina2.xyz/\">Enlace 2</a>\n",
       "</div>\n",
       "<div class=\"right\">\n",
       "<div class=\"links\">\n",
       "<a href=\"https://pagina3.xyz/\">Enlace 3</a>\n",
       "<a href=\"https://pagina4.xyz/\">Enlace 4</a>\n",
       "</div>\n",
       "</div>\n",
       "</div>"
      ]
     },
     "execution_count": 7,
     "metadata": {},
     "output_type": "execute_result"
    }
   ],
   "source": [
    "# Veamos como acceder a uno de los div internos\n",
    "soup.div.div\n",
    "#me enseña el inner div en concreto"
   ]
  },
  {
   "cell_type": "markdown",
   "id": "42ab7256-a8fd-42dc-930e-b75f17aeede4",
   "metadata": {},
   "source": [
    "Así es un poco difícil de seguir un árbol HTML, y eso que en nuestro caso es una página sencilla. **BeautifulSoup tiene un método para pintar de forma tabulada un árbol: `prettify`** (que puedes aplicar a cualquier objeto `Tag`)"
   ]
  },
  {
   "cell_type": "code",
   "execution_count": 8,
   "id": "c76ee818-2d60-4933-8739-fb104dce914f",
   "metadata": {},
   "outputs": [
    {
     "name": "stdout",
     "output_type": "stream",
     "text": [
      "<div id=\"innerDiv\">\n",
      " <div class=\"links\">\n",
      "  <a href=\"https://pagina1.xyz/\">\n",
      "   Enlace 1\n",
      "  </a>\n",
      "  <a href=\"https://pagina2.xyz/\">\n",
      "   Enlace 2\n",
      "  </a>\n",
      " </div>\n",
      " <div class=\"right\">\n",
      "  <div class=\"links\">\n",
      "   <a href=\"https://pagina3.xyz/\">\n",
      "    Enlace 3\n",
      "   </a>\n",
      "   <a href=\"https://pagina4.xyz/\">\n",
      "    Enlace 4\n",
      "   </a>\n",
      "  </div>\n",
      " </div>\n",
      "</div>\n",
      "\n"
     ]
    }
   ],
   "source": [
    "print(soup.div.div.prettify())\n",
    "#más fácil de seguir\n",
    "#nos da subetiquetas"
   ]
  },
  {
   "cell_type": "code",
   "execution_count": 9,
   "id": "757cc99e-a9f9-428b-8273-bad55885f2ac",
   "metadata": {},
   "outputs": [
    {
     "name": "stdout",
     "output_type": "stream",
     "text": [
      "<html>\n",
      " <body>\n",
      "  <p>\n",
      "   --variable\n",
      "  </p>\n",
      "  --etiqueta\n",
      "  <meta charset=\"utf-8\"/>\n",
      "  --atributo\n",
      "  <title>\n",
      "   Página de prueba\n",
      "  </title>\n",
      "  --&gt; texto\n",
      "  <div class=\"full-width\" id=\"main\">\n",
      "   <h1>\n",
      "    El título de la página\n",
      "   </h1>\n",
      "   <p>\n",
      "    Este es el primer párrafo\n",
      "   </p>\n",
      "   <p>\n",
      "    Este es el segundo párrafo\n",
      "   </p>\n",
      "   <div id=\"innerDiv\">\n",
      "    <div class=\"links\">\n",
      "     <a href=\"https://pagina1.xyz/\">\n",
      "      Enlace 1\n",
      "     </a>\n",
      "     <a href=\"https://pagina2.xyz/\">\n",
      "      Enlace 2\n",
      "     </a>\n",
      "    </div>\n",
      "    <div class=\"right\">\n",
      "     <div class=\"links\">\n",
      "      <a href=\"https://pagina3.xyz/\">\n",
      "       Enlace 3\n",
      "      </a>\n",
      "      <a href=\"https://pagina4.xyz/\">\n",
      "       Enlace 4\n",
      "      </a>\n",
      "     </div>\n",
      "    </div>\n",
      "   </div>\n",
      "   <div id=\"footer\">\n",
      "    <!-- El footer -->\n",
      "    <p>\n",
      "     Este párrafo está en el footer\n",
      "    </p>\n",
      "    <div class=\"links footer-links\">\n",
      "     <a href=\"https://pagina5.xyz/\">\n",
      "      Enlace 5\n",
      "     </a>\n",
      "    </div>\n",
      "   </div>\n",
      "  </div>\n",
      " </body>\n",
      "</html>\n",
      "\n"
     ]
    }
   ],
   "source": [
    "print(soup.prettify()) #nos da toda la página web de forma indentada"
   ]
  },
  {
   "cell_type": "markdown",
   "id": "5be57b22-aa06-4c97-930a-10e4ab4e7fee",
   "metadata": {},
   "source": [
    "**podemos acceder a sus atributos tratando al objeto como si fuera un diccionario**"
   ]
  },
  {
   "cell_type": "code",
   "execution_count": 10,
   "id": "3e5c023f-8bff-4807-bf00-94ce3674bc31",
   "metadata": {},
   "outputs": [
    {
     "data": {
      "text/plain": [
       "<div class=\"full-width\" id=\"main\">\n",
       "<h1>El título de la página</h1>\n",
       "<p>Este es el primer párrafo</p>\n",
       "<p>Este es el segundo párrafo</p>\n",
       "<div id=\"innerDiv\">\n",
       "<div class=\"links\">\n",
       "<a href=\"https://pagina1.xyz/\">Enlace 1</a>\n",
       "<a href=\"https://pagina2.xyz/\">Enlace 2</a>\n",
       "</div>\n",
       "<div class=\"right\">\n",
       "<div class=\"links\">\n",
       "<a href=\"https://pagina3.xyz/\">Enlace 3</a>\n",
       "<a href=\"https://pagina4.xyz/\">Enlace 4</a>\n",
       "</div>\n",
       "</div>\n",
       "</div>\n",
       "<div id=\"footer\">\n",
       "<!-- El footer -->\n",
       "<p>Este párrafo está en el footer</p>\n",
       "<div class=\"links footer-links\">\n",
       "<a href=\"https://pagina5.xyz/\">Enlace 5</a>\n",
       "</div>\n",
       "</div>\n",
       "</div>"
      ]
     },
     "execution_count": 10,
     "metadata": {},
     "output_type": "execute_result"
    }
   ],
   "source": [
    "\n",
    "# Por ejemplo el primer gran div tiene dos atributos (si te fijas en la salida de la celda de código anterior)\n",
    "soup.div"
   ]
  },
  {
   "cell_type": "code",
   "execution_count": 11,
   "id": "6cf5edb3-a9ae-4e1e-a95e-5577f29eb02f",
   "metadata": {},
   "outputs": [
    {
     "name": "stdout",
     "output_type": "stream",
     "text": [
      "Id: main\n"
     ]
    }
   ],
   "source": [
    "#para acceder \n",
    "print(\"Id:\", soup.div[\"id\"])"
   ]
  },
  {
   "cell_type": "code",
   "execution_count": 12,
   "id": "717f62b9-101c-49cd-aa9f-a7f5bd900fb5",
   "metadata": {},
   "outputs": [
    {
     "name": "stdout",
     "output_type": "stream",
     "text": [
      "Class: ['full-width']\n",
      "{'id': 'main', 'class': ['full-width']}\n"
     ]
    }
   ],
   "source": [
    "print(\"Class:\", soup.div[\"class\"])\n",
    "print(soup.div.attrs)"
   ]
  },
  {
   "cell_type": "markdown",
   "id": "771f581b-d52e-455d-a517-7999f651901d",
   "metadata": {},
   "source": [
    "ElementTree con XML el atributo\n",
    "que contenía los atributos de un nodo era `attrib` y con BSoup es `attrs`."
   ]
  },
  {
   "cell_type": "markdown",
   "id": "b870f02b-3c44-4ee8-a52b-a85bd88eba20",
   "metadata": {},
   "source": [
    "#### NavigableString y text/get_text()"
   ]
  },
  {
   "cell_type": "markdown",
   "id": "c11640d2-6a17-42bc-b849-014513f5e1df",
   "metadata": {},
   "source": [
    "- **NavigableString**: Un objeto de este tipo representa a la cadena de texto que hay contenida en una etiqueta. Se accede por medio de la propiedad `string`."
   ]
  },
  {
   "cell_type": "code",
   "execution_count": 13,
   "id": "c6946407-36c1-4d83-8529-4cfa7e3ccce0",
   "metadata": {},
   "outputs": [
    {
     "name": "stdout",
     "output_type": "stream",
     "text": [
      "--variable\n",
      "\n",
      "\n",
      "<class 'bs4.element.NavigableString'>\n"
     ]
    }
   ],
   "source": [
    "primer_parrafo = soup.p\n",
    "print(primer_parrafo.string)\n",
    "print(type(primer_parrafo.string))"
   ]
  },
  {
   "cell_type": "markdown",
   "id": "e4d45f60-af98-4464-83ae-703e03503f78",
   "metadata": {},
   "source": [
    "* **text**: Cuando un nodo tiene más de un subnodo con texto `string` devuelve \"None\", es por eso que, si sabes que ese es el caso, es mejor utilizar el atributo `text`, ojo que devuelve todos los textos internos: "
   ]
  },
  {
   "cell_type": "code",
   "execution_count": 15,
   "id": "99e5398e-6399-49c1-b012-b7ab0c23f20a",
   "metadata": {},
   "outputs": [
    {
     "name": "stdout",
     "output_type": "stream",
     "text": [
      "None\n"
     ]
    }
   ],
   "source": [
    "print(soup.div.string) #nois da none porque dentro del primer div hay muchoos strings"
   ]
  },
  {
   "cell_type": "code",
   "execution_count": 16,
   "id": "de8ae792-dfb6-4501-a4e4-1696fb15dd8a",
   "metadata": {},
   "outputs": [
    {
     "name": "stdout",
     "output_type": "stream",
     "text": [
      "\n",
      "El título de la página\n",
      "Este es el primer párrafo\n",
      "Este es el segundo párrafo\n",
      "\n",
      "\n",
      "Enlace 1\n",
      "Enlace 2\n",
      "\n",
      "\n",
      "\n",
      "Enlace 3\n",
      "Enlace 4\n",
      "\n",
      "\n",
      "\n",
      "\n",
      "\n",
      "Este párrafo está en el footer\n",
      "\n",
      "Enlace 5\n",
      "\n",
      "\n",
      "\n"
     ]
    }
   ],
   "source": [
    "#para acceder al texto, aparecenn todos\n",
    "print(soup.div.text)"
   ]
  },
  {
   "cell_type": "code",
   "execution_count": 17,
   "id": "60ae28a0-3f71-4d53-bbfb-3f83fb7e2389",
   "metadata": {},
   "outputs": [
    {
     "name": "stdout",
     "output_type": "stream",
     "text": [
      "\n",
      "*El título de la página*\n",
      "*Este es el primer párrafo*\n",
      "*Este es el segundo párrafo*\n",
      "*\n",
      "*\n",
      "*Enlace 1*\n",
      "*Enlace 2*\n",
      "*\n",
      "*\n",
      "*\n",
      "*Enlace 3*\n",
      "*Enlace 4*\n",
      "*\n",
      "*\n",
      "*\n",
      "*\n",
      "*\n",
      "*Este párrafo está en el footer*\n",
      "*\n",
      "*Enlace 5*\n",
      "*\n",
      "*\n",
      "\n"
     ]
    }
   ],
   "source": [
    "#para separarlos de otra forma\n",
    "print(soup.div.get_text(separator = \"*\"))"
   ]
  },
  {
   "cell_type": "markdown",
   "id": "d940883c-1354-4ac4-af73-8dda6f2d7cfb",
   "metadata": {},
   "source": [
    "### Navegar a través de los elementos de Beautiful Soup"
   ]
  },
  {
   "cell_type": "markdown",
   "id": "6cd8b86f-0c3b-4a8d-b8ba-2c4e1b5788c5",
   "metadata": {},
   "source": [
    "#### Hijos"
   ]
  },
  {
   "cell_type": "markdown",
   "id": "8a559423-0605-4665-a2fb-69bd5adc55c9",
   "metadata": {},
   "source": [
    "- El atributo **contents**: Devuelve una lista con todos los hijos de primer nivel de un objeto.\n",
    "- Atributo **descendants**: Este atributo devuelve un iterador que permite recorrer todos los hijos de un objeto. No importa el nivel de anidamiento."
   ]
  },
  {
   "cell_type": "code",
   "execution_count": 5,
   "id": "b83afd34-38cb-4e2b-92fd-2302c3519653",
   "metadata": {},
   "outputs": [
    {
     "data": {
      "text/plain": [
       "['    --es gerárquico, esto es el padre de las demás etiquetas\\n        ',\n",
       " <div class=\"links\">\n",
       " <a href=\"https://pagina1.xyz/\">Enlace 1</a>     -- es importante ya que la info puede estar en una etiqueta a\n",
       "             <a href=\"https://pagina2.xyz/\">Enlace 2</a>\n",
       " </div>,\n",
       " '\\n',\n",
       " <div class=\"right\">\n",
       " <div class=\"links\">\n",
       " <a href=\"https://pagina3.xyz/\">Enlace 3</a>  --hace que el browser te lleve a la referencia. etiqueta a tine un atribuo ha\n",
       "                 <a href=\"https://pagina4.xyz/\">Enlace 4</a>\n",
       " </div>\n",
       " </div>,\n",
       " '\\n']"
      ]
     },
     "execution_count": 5,
     "metadata": {},
     "output_type": "execute_result"
    }
   ],
   "source": [
    "inner_div = soup.div.div #nos devuelve el primer div, que está dentro del div\n",
    "inner_div.contents #separa los elementos con salto de linea'\\n'"
   ]
  },
  {
   "cell_type": "code",
   "execution_count": 1,
   "id": "3d03bb5b-4833-4f34-928a-09a3241d881a",
   "metadata": {},
   "outputs": [],
   "source": [
    "#inner_div nos devuelve:;\n",
    "\n",
    "# <div id=\"main\" class=\"full-width\">\n",
    "#    <h1>El título de la página</h1>\n",
    "   #  <p>Este es el primer párrafo</p>\n",
    "   #  <p>Este es el segundo párrafo</p>\n",
    "    # <div id=\"innerDiv\">\n",
    "      #   <div class=\"links\">\n",
    "        #     <a href=\"https://pagina1.xyz/\">Enlace 1</a>\n",
    "       #      <a href=\"https://pagina2.xyz/\">Enlace 2</a>\n",
    "     #    </div>\n",
    "     #    <div class=\"right\">\n",
    "        #     <div class=\"links\">\n",
    "           #      <a href=\"https://pagina3.xyz/\">Enlace 3</a>\n",
    "          #       <a href=\"https://pagina4.xyz/\">Enlace 4</a>\n",
    "        #     </div>\n",
    "  "
   ]
  },
  {
   "cell_type": "markdown",
   "id": "4db38da3-571b-4280-a8ba-b23b1e9ef540",
   "metadata": {},
   "source": [
    "Se ve, pero hay unos saltos de línea y esa forma no tabulada que podemos hacer un poco más estética (fijate además en el atributo `name`)"
   ]
  },
  {
   "cell_type": "code",
   "execution_count": 6,
   "id": "0d988d4b-d8fe-42e9-b458-29bc75e503e0",
   "metadata": {},
   "outputs": [
    {
     "name": "stdout",
     "output_type": "stream",
     "text": [
      "<class 'list'>\n",
      "\n",
      "\n",
      "div:\n",
      " <div class=\"links\">\n",
      " <a href=\"https://pagina1.xyz/\">\n",
      "  Enlace 1\n",
      " </a>\n",
      " -- es importante ya que la info puede estar en una etiqueta a\n",
      " <a href=\"https://pagina2.xyz/\">\n",
      "  Enlace 2\n",
      " </a>\n",
      "</div>\n",
      "\n",
      "\n",
      "\n",
      "div:\n",
      " <div class=\"right\">\n",
      " <div class=\"links\">\n",
      "  <a href=\"https://pagina3.xyz/\">\n",
      "   Enlace 3\n",
      "  </a>\n",
      "  --hace que el browser te lleve a la referencia. etiqueta a tine un atribuo ha\n",
      "  <a href=\"https://pagina4.xyz/\">\n",
      "   Enlace 4\n",
      "  </a>\n",
      " </div>\n",
      "</div>\n",
      "\n",
      "\n",
      "\n"
     ]
    }
   ],
   "source": [
    "inner_div = soup.div.div\n",
    "# contents\n",
    "hijos = inner_div.contents  #recorremos la lista y la dejamops más visible con el pretify\n",
    "print(type(hijos))\n",
    "print(\"\\n\")\n",
    "for child in hijos: #el child name nos dice a que tag pertenece\n",
    "    if child.name:  # Ignoramos los saltos de línea\n",
    "        print(f'{child.name}:\\n {child.prettify()}')\n",
    "        print(\"\\n\")"
   ]
  },
  {
   "cell_type": "markdown",
   "id": "4f3d4501-991a-4ca3-a5c5-3b8b309f0c62",
   "metadata": {},
   "source": [
    "Veamos `descendants`:"
   ]
  },
  {
   "cell_type": "code",
   "execution_count": 7,
   "id": "777d5003-b5ee-4304-9ed8-8f5624a523eb",
   "metadata": {},
   "outputs": [
    {
     "name": "stdout",
     "output_type": "stream",
     "text": [
      "    --es gerárquico, esto es el padre de las demás etiquetas\n",
      "        \n",
      "<div class=\"links\">\n",
      "<a href=\"https://pagina1.xyz/\">Enlace 1</a>     -- es importante ya que la info puede estar en una etiqueta a\n",
      "            <a href=\"https://pagina2.xyz/\">Enlace 2</a>\n",
      "</div>\n",
      "\n",
      "\n",
      "<a href=\"https://pagina1.xyz/\">Enlace 1</a>\n",
      "Enlace 1\n",
      "     -- es importante ya que la info puede estar en una etiqueta a\n",
      "            \n",
      "<a href=\"https://pagina2.xyz/\">Enlace 2</a>\n",
      "Enlace 2\n",
      "\n",
      "\n",
      "\n",
      "\n",
      "<div class=\"right\">\n",
      "<div class=\"links\">\n",
      "<a href=\"https://pagina3.xyz/\">Enlace 3</a>  --hace que el browser te lleve a la referencia. etiqueta a tine un atribuo ha\n",
      "                <a href=\"https://pagina4.xyz/\">Enlace 4</a>\n",
      "</div>\n",
      "</div>\n",
      "\n",
      "\n",
      "<div class=\"links\">\n",
      "<a href=\"https://pagina3.xyz/\">Enlace 3</a>  --hace que el browser te lleve a la referencia. etiqueta a tine un atribuo ha\n",
      "                <a href=\"https://pagina4.xyz/\">Enlace 4</a>\n",
      "</div>\n",
      "\n",
      "\n",
      "<a href=\"https://pagina3.xyz/\">Enlace 3</a>\n",
      "Enlace 3\n",
      "  --hace que el browser te lleve a la referencia. etiqueta a tine un atribuo ha\n",
      "                \n",
      "<a href=\"https://pagina4.xyz/\">Enlace 4</a>\n",
      "Enlace 4\n",
      "\n",
      "\n",
      "\n",
      "\n",
      "\n",
      "\n"
     ]
    }
   ],
   "source": [
    "#recorrer descendentes de .div\n",
    "for hijo in inner_div.descendants:\n",
    "    print(hijo)\n",
    "#los recorre, pero para cada uno de los hijos printa los nietos\n",
    "\n",
    "#si hubiese metido otro a, también hubiese pintado los bisnietos\n",
    "#<a href=\"https://pagina1.xyz/\">Enlace 1</a>\n",
    "#Enlace 1"
   ]
  },
  {
   "cell_type": "code",
   "execution_count": null,
   "id": "66e94db3-16ff-4807-b13f-1c7b2aac8b24",
   "metadata": {},
   "outputs": [],
   "source": [
    "# descendants\n",
    "hijos = inner_div.descendants\n",
    "print(hijos)\n",
    "print(\"\\n\")\n",
    "for child in hijos:\n",
    "    if child.name:\n",
    "        print(f'{child.name}:\\n {child}')\n",
    "        print(\"\\n\")"
   ]
  },
  {
   "cell_type": "markdown",
   "id": "89cc75d0-aab6-48cf-ba10-5311eedd4e46",
   "metadata": {},
   "source": [
    "Con descendants, podemos recuperar todos los descendentes y no solo los hijos, que es lo que recuperamos con hijos, qiue esos los recuperamos con contents"
   ]
  },
  {
   "cell_type": "markdown",
   "id": "cad4390c-a4ef-4e4a-ab38-a4a68535a6ac",
   "metadata": {},
   "source": [
    "#### Padres"
   ]
  },
  {
   "cell_type": "markdown",
   "id": "60f6a087-4568-4cca-917f-c27c0c26f543",
   "metadata": {},
   "source": [
    "es posible navegar hacia arriba en el árbol accediendo a los objetos padre de un elemento. Para ello, puedes usar las propiedades parent y parents:\n",
    "- **parent** referencia al objeto padre de un elemento (Tag o NavigableString).\n",
    "- **parents** es un generador que permite recorrer recursivamente todos los elementos padre de uno dado."
   ]
  },
  {
   "cell_type": "code",
   "execution_count": 13,
   "id": "518b43fb-8ed6-4ae7-9ab2-7352522c3340",
   "metadata": {},
   "outputs": [
    {
     "data": {
      "text/plain": [
       "<div class=\"full-width\" id=\"main\">\n",
       "<h1>El título de la página</h1>\n",
       "<p>Este es el primer párrafo</p>\n",
       "<p>Este es el segundo párrafo</p>\n",
       "<div id=\"innerDiv\">    --es gerárquico, esto es el padre de las demás etiquetas\n",
       "        <div class=\"links\">\n",
       "<a href=\"https://pagina1.xyz/\">Enlace 1</a>     -- es importante ya que la info puede estar en una etiqueta a\n",
       "            <a href=\"https://pagina2.xyz/\">Enlace 2</a>\n",
       "</div>\n",
       "<div class=\"right\">\n",
       "<div class=\"links\">\n",
       "<a href=\"https://pagina3.xyz/\">Enlace 3</a>  --hace que el browser te lleve a la referencia. etiqueta a tine un atribuo ha\n",
       "                <a href=\"https://pagina4.xyz/\">Enlace 4</a>\n",
       "</div>\n",
       "</div>\n",
       "</div>\n",
       "<div id=\"footer\">\n",
       "<!-- El footer -->\n",
       "<p>Este párrafo está en el footer</p>\n",
       "<div class=\"links footer-links\">\n",
       "<a href=\"https://pagina5.xyz/\">Enlace 5</a>\n",
       "</div>\n",
       "</div>\n",
       "</div>"
      ]
     },
     "execution_count": 13,
     "metadata": {},
     "output_type": "execute_result"
    }
   ],
   "source": [
    "inner_div.parent"
   ]
  },
  {
   "cell_type": "code",
   "execution_count": 11,
   "id": "3c1d0c06-edd0-4c6e-9965-0bd3c45df8d4",
   "metadata": {},
   "outputs": [
    {
     "name": "stdout",
     "output_type": "stream",
     "text": [
      "<div class=\"full-width\" id=\"main\">\n",
      "<h1>El título de la página</h1>\n",
      "<p>Este es el primer párrafo</p>\n",
      "<p>Este es el segundo párrafo</p>\n",
      "<div id=\"innerDiv\">    --es gerárquico, esto es el padre de las demás etiquetas\n",
      "        <div class=\"links\">\n",
      "<a href=\"https://pagina1.xyz/\">Enlace 1</a>     -- es importante ya que la info puede estar en una etiqueta a\n",
      "            <a href=\"https://pagina2.xyz/\">Enlace 2</a>\n",
      "</div>\n",
      "<div class=\"right\">\n",
      "<div class=\"links\">\n",
      "<a href=\"https://pagina3.xyz/\">Enlace 3</a>  --hace que el browser te lleve a la referencia. etiqueta a tine un atribuo ha\n",
      "                <a href=\"https://pagina4.xyz/\">Enlace 4</a>\n",
      "</div>\n",
      "</div>\n",
      "</div>\n",
      "<div id=\"footer\">\n",
      "<!-- El footer -->\n",
      "<p>Este párrafo está en el footer</p>\n",
      "<div class=\"links footer-links\">\n",
      "<a href=\"https://pagina5.xyz/\">Enlace 5</a>\n",
      "</div>\n",
      "</div>\n",
      "</div>\n",
      "\n",
      "\n",
      "\n",
      "<body><p>--variable\n",
      "\n",
      "</p>                                --etiqueta\n",
      "    <meta charset=\"utf-8\"/>             --atributo\n",
      "    <title>Página de prueba</title>    --&gt; texto\n",
      "\n",
      "\n",
      "<div class=\"full-width\" id=\"main\">\n",
      "<h1>El título de la página</h1>\n",
      "<p>Este es el primer párrafo</p>\n",
      "<p>Este es el segundo párrafo</p>\n",
      "<div id=\"innerDiv\">    --es gerárquico, esto es el padre de las demás etiquetas\n",
      "        <div class=\"links\">\n",
      "<a href=\"https://pagina1.xyz/\">Enlace 1</a>     -- es importante ya que la info puede estar en una etiqueta a\n",
      "            <a href=\"https://pagina2.xyz/\">Enlace 2</a>\n",
      "</div>\n",
      "<div class=\"right\">\n",
      "<div class=\"links\">\n",
      "<a href=\"https://pagina3.xyz/\">Enlace 3</a>  --hace que el browser te lleve a la referencia. etiqueta a tine un atribuo ha\n",
      "                <a href=\"https://pagina4.xyz/\">Enlace 4</a>\n",
      "</div>\n",
      "</div>\n",
      "</div>\n",
      "<div id=\"footer\">\n",
      "<!-- El footer -->\n",
      "<p>Este párrafo está en el footer</p>\n",
      "<div class=\"links footer-links\">\n",
      "<a href=\"https://pagina5.xyz/\">Enlace 5</a>\n",
      "</div>\n",
      "</div>\n",
      "</div>\n",
      "</body>\n",
      "\n",
      "\n",
      "\n",
      "<html><body><p>--variable\n",
      "\n",
      "</p>                                --etiqueta\n",
      "    <meta charset=\"utf-8\"/>             --atributo\n",
      "    <title>Página de prueba</title>    --&gt; texto\n",
      "\n",
      "\n",
      "<div class=\"full-width\" id=\"main\">\n",
      "<h1>El título de la página</h1>\n",
      "<p>Este es el primer párrafo</p>\n",
      "<p>Este es el segundo párrafo</p>\n",
      "<div id=\"innerDiv\">    --es gerárquico, esto es el padre de las demás etiquetas\n",
      "        <div class=\"links\">\n",
      "<a href=\"https://pagina1.xyz/\">Enlace 1</a>     -- es importante ya que la info puede estar en una etiqueta a\n",
      "            <a href=\"https://pagina2.xyz/\">Enlace 2</a>\n",
      "</div>\n",
      "<div class=\"right\">\n",
      "<div class=\"links\">\n",
      "<a href=\"https://pagina3.xyz/\">Enlace 3</a>  --hace que el browser te lleve a la referencia. etiqueta a tine un atribuo ha\n",
      "                <a href=\"https://pagina4.xyz/\">Enlace 4</a>\n",
      "</div>\n",
      "</div>\n",
      "</div>\n",
      "<div id=\"footer\">\n",
      "<!-- El footer -->\n",
      "<p>Este párrafo está en el footer</p>\n",
      "<div class=\"links footer-links\">\n",
      "<a href=\"https://pagina5.xyz/\">Enlace 5</a>\n",
      "</div>\n",
      "</div>\n",
      "</div>\n",
      "</body></html>\n",
      "\n",
      "\n",
      "\n",
      "<html><body><p>--variable\n",
      "\n",
      "</p>                                --etiqueta\n",
      "    <meta charset=\"utf-8\"/>             --atributo\n",
      "    <title>Página de prueba</title>    --&gt; texto\n",
      "\n",
      "\n",
      "<div class=\"full-width\" id=\"main\">\n",
      "<h1>El título de la página</h1>\n",
      "<p>Este es el primer párrafo</p>\n",
      "<p>Este es el segundo párrafo</p>\n",
      "<div id=\"innerDiv\">    --es gerárquico, esto es el padre de las demás etiquetas\n",
      "        <div class=\"links\">\n",
      "<a href=\"https://pagina1.xyz/\">Enlace 1</a>     -- es importante ya que la info puede estar en una etiqueta a\n",
      "            <a href=\"https://pagina2.xyz/\">Enlace 2</a>\n",
      "</div>\n",
      "<div class=\"right\">\n",
      "<div class=\"links\">\n",
      "<a href=\"https://pagina3.xyz/\">Enlace 3</a>  --hace que el browser te lleve a la referencia. etiqueta a tine un atribuo ha\n",
      "                <a href=\"https://pagina4.xyz/\">Enlace 4</a>\n",
      "</div>\n",
      "</div>\n",
      "</div>\n",
      "<div id=\"footer\">\n",
      "<!-- El footer -->\n",
      "<p>Este párrafo está en el footer</p>\n",
      "<div class=\"links footer-links\">\n",
      "<a href=\"https://pagina5.xyz/\">Enlace 5</a>\n",
      "</div>\n",
      "</div>\n",
      "</div>\n",
      "</body></html>\n",
      "\n",
      "\n",
      "\n"
     ]
    }
   ],
   "source": [
    "for parent in inner_div.parents:\n",
    "    print(parent)\n",
    "    print(\"\\n\\n\")\n",
    "    #busva además todos los tags"
   ]
  },
  {
   "cell_type": "markdown",
   "id": "dbfd2e49-cc0c-44c7-a8aa-04495e9e9aa5",
   "metadata": {},
   "source": [
    "Nos enseña todos los datos del padre incluido los hijos"
   ]
  },
  {
   "cell_type": "markdown",
   "id": "b6f7db46-e802-413e-bbfe-6b763ce010d6",
   "metadata": {},
   "source": [
    "#### Find y Findall"
   ]
  },
  {
   "cell_type": "code",
   "execution_count": null,
   "id": "0ef44b50-a243-46ad-8c78-8fe8dd266d67",
   "metadata": {},
   "outputs": [],
   "source": [
    "Además se pueden añadir tipos de filtro\n",
    "El filtro más básico consiste en pasar el nombre de la etiqueta a buscar como primer argumento de la función (parámetro name)."
   ]
  },
  {
   "cell_type": "code",
   "execution_count": 14,
   "id": "14e32254-85ed-490b-b88a-9a41ed9e2081",
   "metadata": {},
   "outputs": [
    {
     "name": "stdout",
     "output_type": "stream",
     "text": [
      "<a href=\"https://pagina1.xyz/\">Enlace 1</a>\n",
      "<a href=\"https://pagina2.xyz/\">Enlace 2</a>\n",
      "<a href=\"https://pagina3.xyz/\">Enlace 3</a>\n",
      "<a href=\"https://pagina4.xyz/\">Enlace 4</a>\n",
      "<a href=\"https://pagina5.xyz/\">Enlace 5</a>\n"
     ]
    }
   ],
   "source": [
    "enlaces = soup.find_all('a') #queremos que nos encuentre todas las etiquetas con ntodos los atributos\n",
    "for enlace in enlaces: #todas las etiquetas que tienen a, nos da todos los enlaces, ya que a los contiene\n",
    "        print(enlace)"
   ]
  },
  {
   "cell_type": "markdown",
   "id": "4f82fc49-7862-4a8f-8f20-bde015af718a",
   "metadata": {},
   "source": [
    "Además del nombre de la etiqueta, puedes especificar parámetros con nombre.\n",
    "Por ejemplo,\n",
    "encontrar el bloque `div` con `id=\"footer\"`, podrías aplicar el siguiente filtro:"
   ]
  },
  {
   "cell_type": "code",
   "execution_count": 15,
   "id": "da9a03d5-ba91-480c-a467-673d4b73d1c7",
   "metadata": {},
   "outputs": [
    {
     "name": "stdout",
     "output_type": "stream",
     "text": [
      "[<div id=\"footer\">\n",
      "<!-- El footer -->\n",
      "<p>Este párrafo está en el footer</p>\n",
      "<div class=\"links footer-links\">\n",
      "<a href=\"https://pagina5.xyz/\">Enlace 5</a>\n",
      "</div>\n",
      "</div>]\n"
     ]
    }
   ],
   "source": [
    "footer = soup.find_all(id='footer') #encontrar todos los tags, que tenga como atributo id, que valga footer\n",
    "print(footer)"
   ]
  },
  {
   "cell_type": "markdown",
   "id": "cb2a1f01-744f-4557-b4e7-fdac853dfa8b",
   "metadata": {},
   "source": [
    "Si queremos aplicar filtros a los Tags por sus atributos tendremos que pasarle un dimccionario, por ejemplo si queremos quedarnos sólo con los Tags \"div\" con su atributo \"class\" igual a \"right\":"
   ]
  },
  {
   "cell_type": "code",
   "execution_count": 18,
   "id": "97c9556c-8b1d-48f6-b7ed-d83f291c0183",
   "metadata": {},
   "outputs": [
    {
     "name": "stdout",
     "output_type": "stream",
     "text": [
      "<div class=\"right\">\n",
      " <div class=\"links\">\n",
      "  <a href=\"https://pagina3.xyz/\">\n",
      "   Enlace 3\n",
      "  </a>\n",
      "  --hace que el browser te lleve a la referencia. etiqueta a tine un atribuo ha\n",
      "  <a href=\"https://pagina4.xyz/\">\n",
      "   Enlace 4\n",
      "  </a>\n",
      " </div>\n",
      "</div>\n",
      "\n"
     ]
    }
   ],
   "source": [
    "for elemento in soup.find_all(\"div\", attrs = {\"class\":\"right\"}): #todos los elementos, tags que se llamen dif, del tipo dif\n",
    "    print(elemento.prettify()) # pero como atributo trnmga class = right"
   ]
  },
  {
   "cell_type": "markdown",
   "id": "f87f0339-30f0-45e8-80a2-aa45b95892bc",
   "metadata": {},
   "source": [
    "Si sabemos que aparece una única vez, podemos usar el método `find`, que directamente nos muestra la primera aparición. Es equivalente a fijar `limit=1`en el método `findall`.\n",
    "En findall, podemos poner el atributo limit, que nos pone hasta donde quremos ver"
   ]
  },
  {
   "cell_type": "code",
   "execution_count": 19,
   "id": "e44d7f5e-dce6-4368-bcc4-27a90bde1d35",
   "metadata": {},
   "outputs": [
    {
     "data": {
      "text/plain": [
       "<title>Página de prueba</title>"
      ]
     },
     "execution_count": 19,
     "metadata": {},
     "output_type": "execute_result"
    }
   ],
   "source": [
    "soup.find('title') "
   ]
  },
  {
   "cell_type": "code",
   "execution_count": 20,
   "id": "dbea5c62-2a06-415b-9d4a-d0e718ac1361",
   "metadata": {},
   "outputs": [
    {
     "data": {
      "text/plain": [
       "[<div class=\"full-width\" id=\"main\">\n",
       " <h1>El título de la página</h1>\n",
       " <p>Este es el primer párrafo</p>\n",
       " <p>Este es el segundo párrafo</p>\n",
       " <div id=\"innerDiv\">    --es gerárquico, esto es el padre de las demás etiquetas\n",
       "         <div class=\"links\">\n",
       " <a href=\"https://pagina1.xyz/\">Enlace 1</a>     -- es importante ya que la info puede estar en una etiqueta a\n",
       "             <a href=\"https://pagina2.xyz/\">Enlace 2</a>\n",
       " </div>\n",
       " <div class=\"right\">\n",
       " <div class=\"links\">\n",
       " <a href=\"https://pagina3.xyz/\">Enlace 3</a>  --hace que el browser te lleve a la referencia. etiqueta a tine un atribuo ha\n",
       "                 <a href=\"https://pagina4.xyz/\">Enlace 4</a>\n",
       " </div>\n",
       " </div>\n",
       " </div>\n",
       " <div id=\"footer\">\n",
       " <!-- El footer -->\n",
       " <p>Este párrafo está en el footer</p>\n",
       " <div class=\"links footer-links\">\n",
       " <a href=\"https://pagina5.xyz/\">Enlace 5</a>\n",
       " </div>\n",
       " </div>\n",
       " </div>]"
      ]
     },
     "execution_count": 20,
     "metadata": {},
     "output_type": "execute_result"
    }
   ],
   "source": [
    "soup.find_all('div', limit=1) #nos enseña ese y su hijo, nos da un div general"
   ]
  },
  {
   "cell_type": "code",
   "execution_count": null,
   "id": "79423300-d1c5-4270-99c4-125c8f9c21fc",
   "metadata": {},
   "outputs": [],
   "source": []
  }
 ],
 "metadata": {
  "kernelspec": {
   "display_name": "Python 3 (ipykernel)",
   "language": "python",
   "name": "python3"
  },
  "language_info": {
   "codemirror_mode": {
    "name": "ipython",
    "version": 3
   },
   "file_extension": ".py",
   "mimetype": "text/x-python",
   "name": "python",
   "nbconvert_exporter": "python",
   "pygments_lexer": "ipython3",
   "version": "3.10.11"
  }
 },
 "nbformat": 4,
 "nbformat_minor": 5
}
