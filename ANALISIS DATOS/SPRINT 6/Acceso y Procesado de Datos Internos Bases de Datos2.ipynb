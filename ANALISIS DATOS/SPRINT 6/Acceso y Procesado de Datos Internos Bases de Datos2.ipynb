{
 "cells": [
  {
   "cell_type": "markdown",
   "id": "3a00a527-4d18-4001-83d5-563854611d76",
   "metadata": {},
   "source": [
    "# SQL con Python: JOIN \n",
    "Juntan datos de varias tablas, **necesitas tener uno o varios campos comunes entre ambas tablas, que se denominan CLAVES**\n",
    "Se usan por ejemplo, si tenemos una tabla con un conjunto de clientes y necesitamos añadirles campos nuevos, tendremos que acudir a otras tablas donde esté ese identificador de cliente y aplicar un `JOIN`.\n",
    " Es lo que se conoce como *pegar campos* a otra tabla. \n",
    " \n",
    " si tenemos una tabla con un conjunto de clientes y necesitamos añadirles campos nuevos, tendremos \n",
    "  Si quieres filtrar dentro de tu tabla total de pedidos los que no se llegaron a entregar, podrías aplicar lo que se llama un `INNER JOIN` de manera que te quedes con lo común en ambas tablas\n"
   ]
  },
  {
   "cell_type": "markdown",
   "id": "9fb81d0b-fffa-408a-8116-ee86f78d63ea",
   "metadata": {},
   "source": [
    "### Tipos de JOINS\n",
    "Hay que saber que tipo hay que poner.\n",
    "Para unir dos tablas usamos:\n"
   ]
  },
  {
   "cell_type": "markdown",
   "id": "17fe762d-427c-48a0-b2fa-695a121a669a",
   "metadata": {},
   "source": [
    "### Left (Outer) Join\n",
    " este JOIN en el que manda la tabla de la IZQUIERDA o primera tabla mencioanda se le llama LEFT JOIN\n",
    " y también LEFT OUTTER JOIN."
   ]
  },
  {
   "cell_type": "markdown",
   "id": "874ad19a-9148-49dd-a757-77e601d57c92",
   "metadata": {},
   "source": [
    "Su sintaxis en SLQ:\n",
    "```SQL\n",
    "SELECT A.id_empleado, A.nombre, A.id_departamento, B.nombre_departamento \n",
    "FROM Empleados AS A\n",
    "LEFT JOIN Departamentos AS B #le decimos que joint queremos\n",
    "ON A.id_departamento = B.id_departamento\n",
    "```\n",
    "A, pertenece a la tabla empleados y B a la de departamentos, que son las tablas que queremos unir.\n",
    "Es un left porque viene detrás del front.\n",
    "\n"
   ]
  },
  {
   "cell_type": "markdown",
   "id": "87c0f226-39ce-4f07-920a-70993026e4d5",
   "metadata": {},
   "source": [
    "### Right (outer) join"
   ]
  },
  {
   "cell_type": "markdown",
   "id": "bc89e1f9-3ec4-439a-b769-4dcb633892cc",
   "metadata": {},
   "source": [
    "De igual manera, aunque quizás más contraintuitivo, podemos pegar a cada departamento los datos de los empleados que tengan igual id_departamento y NaN si no hay empleados en ese departamento."
   ]
  },
  {
   "cell_type": "markdown",
   "id": "4aa2dfa8-5330-448e-ab99-76274715aaa0",
   "metadata": {},
   "source": [
    "Su sintáxis.\n",
    "\n",
    "```SQL\n",
    "SELECT A.id_empleado, A.nombre, A.id_departamento, B.nombre_departamento\n",
    "FROM Empleados AS A\n",
    "RIGHT JOIN Departamentos AS B\n",
    "ON A.id_departamento = B.id_departamento\n",
    "```\n",
    "La misma sintaxis, solo que cambiamos el right por el left"
   ]
  },
  {
   "cell_type": "markdown",
   "id": "857870a7-9631-454b-8d8d-5830d053ea66",
   "metadata": {},
   "source": [
    "### Inner Join"
   ]
  },
  {
   "cell_type": "markdown",
   "id": "ab410a5e-e025-4150-abae-96d94c3bc35e",
   "metadata": {},
   "source": [
    "```SQL \n",
    "SELECT A.id_empleado,A.nombre,A.id_departamento, B.nombre_departamento \n",
    "FROM Empleados AS A\n",
    "INNER JOIN Departamentos AS B\n",
    "ON A.id_departamento = B.id_departamento\n",
    "```\n",
    "Es un cruce, si hay valores sin nintersección, no los une, en este campo no está recursos humanos ni luis"
   ]
  },
  {
   "cell_type": "markdown",
   "id": "b6707eca-d908-4847-81b2-332cb98223e1",
   "metadata": {},
   "source": [
    "### Full Outer Join"
   ]
  },
  {
   "cell_type": "markdown",
   "id": "c35f7e2a-d59f-4007-adc0-41c06a7e82e8",
   "metadata": {},
   "source": [
    "Une todos los campos aunque sean nulos\n",
    "```SQL \n",
    "SELECT A.id_empleado,A.nombre,A.id_departamento, B.nombre_departamento \n",
    "FROM Empleados AS A\n",
    "FULL OUTER JOIN Departamentos AS B\n",
    "ON A.id_departamento = B.id_departamento\n",
    "```"
   ]
  },
  {
   "cell_type": "markdown",
   "id": "dc0616d8-3f0f-48ad-8543-c922952c48de",
   "metadata": {},
   "source": [
    "Existen más joints"
   ]
  },
  {
   "cell_type": "markdown",
   "id": "c045803b-6376-4435-a25f-6a604bcaefc2",
   "metadata": {},
   "source": [
    "# SQL con Python: JOIN Ejemplos (I)"
   ]
  },
  {
   "cell_type": "code",
   "execution_count": null,
   "id": "639456ae-aacd-4db5-ac31-cfa2be5bf81b",
   "metadata": {},
   "outputs": [],
   "source": [
    "#ejecutamos:\n",
    "import pandas as pd\n",
    "import sqlite3\n",
    "\n",
    "# Conectamos con la base de datos chinook.db\n",
    "connection = sqlite3.connect(\"./data/chinook_joins.db\")\n",
    "\n",
    "# Obtenemos un cursor que utilizaremos para hacer las queries\n",
    "cursor_bootcamp = connection.cursor()"
   ]
  },
  {
   "cell_type": "code",
   "execution_count": null,
   "id": "cae4b7f9-8c71-47a4-a94e-603f6dbe78be",
   "metadata": {},
   "outputs": [],
   "source": [
    "#la funciónm que vamos a usar\n",
    "def sql_query(query):\n",
    "    cursor_bootcamp.execute(query)\n",
    "    if query.lower().strip().startswith(\"select \"):\n",
    "        ans = cursor_bootcamp.fetchall()\n",
    "        names = [description[0] for description in cursor_bootcamp.description]\n",
    "        return pd.DataFrame(ans,columns=names)\n",
    "    return None"
   ]
  },
  {
   "cell_type": "markdown",
   "id": "8c21bc92-33db-468c-a43f-215dd5ecc598",
   "metadata": {},
   "source": [
    "### Left Join (I)"
   ]
  },
  {
   "cell_type": "markdown",
   "id": "a503ab90-a1f2-488e-9df9-37e5ad999cf6",
   "metadata": {},
   "source": [
    "es el JOIN en el que manda la tabla de la \"izquierda\"\n",
    "ponemos en el `FROM`\n",
    "Es la tabla de la qu\n",
    " queremos mantener todas las filas y pegar\n",
    "le campos de otra tabla aunque no haya cruce, en cuyo caso se rellenarán con nulos (NULL o NaN si lo pasamos a Pandas)"
   ]
  },
  {
   "cell_type": "code",
   "execution_count": null,
   "id": "0e48451e-8ea6-4721-9ce0-39beac862fd3",
   "metadata": {},
   "outputs": [],
   "source": [
    "# Uno bastante claro: Queremos pegar a las canciones el nombre del album al que pertenecen\n",
    "# Manda la tabla de canciones (tracks) \n",
    "# sobre el de álbumes (albums)\n",
    "# Si te fijas en el modelo de datos la columna o clave de cruce es AlbumId (Foreing_Key en tracks, Primary_Key en albums)\n",
    "query = '''\n",
    "SELECT a.*, b.title as album_title    -- Nos quedamos con todos los campos de a, esto es muy típico y sólo con el de b que nos interese\n",
    "FROM tracks AS a        -- track la ponemos la primera, es la de la \"izquierda\", y como queremos que mande (todas sus filas) entonces es un LEFT JOIN\n",
    "LEFT JOIN albums AS b      -- album está detrás del JOIN, es la de la \"derecha\"\n",
    "ON a.albumid = b.albumid\n",
    "'''\n",
    "\n",
    "df_lj = sql_query(query)\n",
    "df_lj"
   ]
  },
  {
   "cell_type": "markdown",
   "id": "2be80911-6ad3-40af-91fa-f23fc1159420",
   "metadata": {},
   "source": [
    "método `info`, el campo que hemos llamado contiene nulos.\n",
    "algunos de los valores de `albumid` de la tabla tracks (la de la \"izquierda\") no están presentes en la tabla albums y por eso rellena ese campo con NaN. \n",
    " LEFT join manda la tabla de la izquierda, es decir se mantienen todos los registros de la izquierda (con los campos que hayamos seleccionado, en este caso todos) y si no encuentra correspondencia en la derecha rellena con nulos."
   ]
  },
  {
   "cell_type": "code",
   "execution_count": null,
   "id": "199061b4-cf04-4a0f-b858-084ba4009a89",
   "metadata": {},
   "outputs": [],
   "source": [
    "#obtenemos los valores de album id que no tienen correspondencia en la tabla album\n",
    "faltan = df_lj.loc[df_lj.album_title.isna(),\"AlbumId\"].to_list() # SQL no es case-sensitive pero Pandas sí, por eso AlbumId\n",
    "#df, aquellas filas donde el albun tittle es nan, devuelve los que contenían la otra tabla"
   ]
  },
  {
   "cell_type": "code",
   "execution_count": null,
   "id": "218f69fe-9e95-4bf3-9ab2-06f04f79aa22",
   "metadata": {},
   "outputs": [],
   "source": [
    "faltan = list(set(faltan))\n",
    "\n",
    "# Lo convertimos a una lista de strings (porque lo vamos a necesitar a continuación)\n",
    "faltan = [str(elemento) for elemento in faltan]\n",
    "#se continua haciendo la conversaión a set y luego a list y luego esos valores se pasan a string"
   ]
  },
  {
   "cell_type": "code",
   "execution_count": null,
   "id": "b85da676-ccbe-4d29-95ef-388c1155648e",
   "metadata": {},
   "outputs": [],
   "source": [
    "#Se construye una query en la cual esta lista, se convierte en un texto separado por comas, para poder meterlo en la query que habíamos visto\n",
    "query = f'''\n",
    "SELECT title \n",
    "FROM albums\n",
    "WHERE albumid in ({\",\".join(faltan)}) -- el \",\".join(faltan) devuelve un string con los ids separada por comas, que es lo que espera SQL\n",
    "'''\n",
    "#metemos los títulos de la tabla albums cuyos id estén en esa lista\n",
    "sql_query(query)\n",
    "#nos devuelve un df vacío"
   ]
  },
  {
   "cell_type": "markdown",
   "id": "d41e267e-efda-427a-807f-ba8ed8093fa1",
   "metadata": {},
   "source": [
    "### Left Join (II)\n"
   ]
  },
  {
   "cell_type": "code",
   "execution_count": null,
   "id": "edb87680-208d-41bc-a986-9d437fcf7715",
   "metadata": {},
   "outputs": [],
   "source": [
    "query = '''\n",
    "SELECT *\n",
    "FROM invoice_items\n",
    "'''\n",
    "df_invoices = sql_query(query)\n",
    "df_invoices\n",
    "#queremos pegar la canción en invoice items, pegando un campo de la otra tabla"
   ]
  },
  {
   "cell_type": "code",
   "execution_count": null,
   "id": "b163a787-8836-47de-8922-13871b5649c3",
   "metadata": {},
   "outputs": [],
   "source": [
    "query = '''\n",
    "SELECT a.*, tracks.name \n",
    "FROM Invoice_Items AS a\n",
    "LEFT JOIN tracks\n",
    "ON a.TrackId = tracks.TrackId\n",
    "'''\n",
    "\n",
    "df_invoices_with_names = sql_query(query)"
   ]
  },
  {
   "cell_type": "code",
   "execution_count": null,
   "id": "a707e979-c5d2-440c-b245-b4735dfe9f22",
   "metadata": {},
   "outputs": [],
   "source": [
    "df_invoices_with_names"
   ]
  },
  {
   "cell_type": "markdown",
   "id": "711d18e7-2ac4-4636-96d0-646c11fe554e",
   "metadata": {},
   "source": [
    "saber el top de ventas y sus ventas:"
   ]
  },
  {
   "cell_type": "code",
   "execution_count": null,
   "id": "0811e2e2-37cf-4b62-a6d5-60efc56cccbd",
   "metadata": {},
   "outputs": [],
   "source": [
    "df_invoices_with_names.Name.value_counts().nlargest(3)"
   ]
  },
  {
   "cell_type": "markdown",
   "id": "b4f4ec6f-a992-4481-b4e8-de346b44f11b",
   "metadata": {},
   "source": [
    "### Right Join"
   ]
  },
  {
   "cell_type": "markdown",
   "id": "ae55918d-446d-4b2a-9d8c-98a39fd03d15",
   "metadata": {},
   "source": [
    "manda la tabla de la \"derecha\", la que ponemos detrás del JOIN. Es la tabla de la que queremos mantener todas las filas y pegarle campos de otra tabla aunque no haya cruce, en cuyo caso se rellenarán con nulos (NULL o NaN si lo pasamos a Pandas)"
   ]
  },
  {
   "cell_type": "code",
   "execution_count": 61,
   "id": "1210f71c-c4c8-488f-af25-2182ec28a44c",
   "metadata": {},
   "outputs": [
    {
     "ename": "NameError",
     "evalue": "name 'sql_query' is not defined",
     "output_type": "error",
     "traceback": [
      "\u001b[1;31m---------------------------------------------------------------------------\u001b[0m",
      "\u001b[1;31mNameError\u001b[0m                                 Traceback (most recent call last)",
      "Cell \u001b[1;32mIn[61], line 11\u001b[0m\n\u001b[0;32m      1\u001b[0m \u001b[38;5;66;03m# Hagamos el inverso del anterior pero por la derecha: Queremos pegar a cada disco las canciones\u001b[39;00m\n\u001b[0;32m      2\u001b[0m \u001b[38;5;66;03m# Manda la tabla de álbumes (albums)  \u001b[39;00m\n\u001b[0;32m      3\u001b[0m \u001b[38;5;66;03m# sobre el de canciones (tracks)\u001b[39;00m\n\u001b[0;32m      4\u001b[0m \u001b[38;5;66;03m# Como en la sesión anterior la clave de cruce es AlbumId (Foreing_Key en tracks, Primary_Key en albums)\u001b[39;00m\n\u001b[0;32m      5\u001b[0m query \u001b[38;5;241m=\u001b[39m \u001b[38;5;124m'''\u001b[39m\n\u001b[0;32m      6\u001b[0m \u001b[38;5;124mSELECT b.*, a.name   --Selecciona todos los campos de albums y los saca de tracks  \u001b[39m\n\u001b[0;32m      7\u001b[0m \u001b[38;5;124mFROM tracks AS a\u001b[39m\n\u001b[0;32m      8\u001b[0m \u001b[38;5;124mRIGHT JOIN albums AS b\u001b[39m\n\u001b[0;32m      9\u001b[0m \u001b[38;5;124mON a.albumid = b.albumid\u001b[39m\n\u001b[0;32m     10\u001b[0m \u001b[38;5;124m'''\u001b[39m\n\u001b[1;32m---> 11\u001b[0m df_rj \u001b[38;5;241m=\u001b[39m \u001b[43msql_query\u001b[49m(query)\n\u001b[0;32m     12\u001b[0m df_rj \u001b[38;5;66;03m#me da error\u001b[39;00m\n",
      "\u001b[1;31mNameError\u001b[0m: name 'sql_query' is not defined"
     ]
    }
   ],
   "source": [
    "# Hagamos el inverso del anterior pero por la derecha: Queremos pegar a cada disco las canciones\n",
    "# Manda la tabla de álbumes (albums)  \n",
    "# sobre el de canciones (tracks)\n",
    "# Como en la sesión anterior la clave de cruce es AlbumId (Foreing_Key en tracks, Primary_Key en albums)\n",
    "query = '''\n",
    "SELECT b.*, a.name   --Selecciona todos los campos de albums y los saca de tracks  \n",
    "FROM tracks AS a\n",
    "RIGHT JOIN albums AS b\n",
    "ON a.albumid = b.albumid\n",
    "'''\n",
    "df_rj = sql_query(query)\n",
    "df_rj #me da error"
   ]
  },
  {
   "cell_type": "code",
   "execution_count": null,
   "id": "37378756-2c77-47bf-911d-6abb472f60a1",
   "metadata": {},
   "outputs": [],
   "source": [
    "query = '''\n",
    "SELECT *\n",
    "FROM albums\n",
    "'''\n",
    "df_albums = sql_query(query)\n",
    "df_albums.info() #se amplia por el número de canciones, graciasd al join"
   ]
  },
  {
   "cell_type": "code",
   "execution_count": null,
   "id": "27c15950-5cdc-4192-b114-f3006639e724",
   "metadata": {},
   "outputs": [],
   "source": [
    "print(df_albums.AlbumId.is_unique) #nos da info del índice\n",
    "print(df_rj.AlbumId.Is_unique) #da false"
   ]
  },
  {
   "cell_type": "markdown",
   "id": "55e91ac0-4414-4c9c-8413-488e188cc5dc",
   "metadata": {},
   "source": [
    "### Inner Join"
   ]
  },
  {
   "cell_type": "markdown",
   "id": "b6f3317e-fb47-46a8-aa65-18561365fdcf",
   "metadata": {},
   "source": [
    "sólo quiero quedarme con las filas que tengan valores comunes en las dos tablas"
   ]
  },
  {
   "cell_type": "code",
   "execution_count": null,
   "id": "b23f4375-883a-471b-9e6d-a6c0e54de797",
   "metadata": {},
   "outputs": [],
   "source": [
    "# Vamos a quedarnos ahora con las canciones para las cuales si haya disco\n",
    "query = '''\n",
    "SELECT tracks.*, albums.title    --no hace falta usar siempre enl nombre de los alias, podemos poner el nombre de las tablas\n",
    "FROM tracks\n",
    "INNER JOIN albums\n",
    "ON tracks.AlbumId = albums.AlbumId\n",
    "'''\n",
    "df_inner = sql_query(query)\n",
    "df_inner.info() #no hay más  nulos de los que habían\n",
    "#se ha reducido el número de salidas en co0mparación al anterior.\n"
   ]
  },
  {
   "cell_type": "markdown",
   "id": "32e2a21e-a3bf-4447-a304-056fe9a400db",
   "metadata": {},
   "source": [
    "### Full join"
   ]
  },
  {
   "cell_type": "markdown",
   "id": "5e06021b-7f95-4f43-b84e-62812effb048",
   "metadata": {},
   "source": [
    "se queda todos los cruces posibles (por valores existentes) aunque haya nulo. Sqlite3 no admite Full Join por lo que hay que simularlo."
   ]
  },
  {
   "cell_type": "code",
   "execution_count": 56,
   "id": "606f8b32-569b-41a4-aa6f-5a88177e39f2",
   "metadata": {},
   "outputs": [
    {
     "ename": "NameError",
     "evalue": "name 'sql_query' is not defined",
     "output_type": "error",
     "traceback": [
      "\u001b[1;31m---------------------------------------------------------------------------\u001b[0m",
      "\u001b[1;31mNameError\u001b[0m                                 Traceback (most recent call last)",
      "Cell \u001b[1;32mIn[56], line 17\u001b[0m\n\u001b[0;32m      1\u001b[0m \u001b[38;5;66;03m#FULL JOIN\u001b[39;00m\n\u001b[0;32m      2\u001b[0m \u001b[38;5;66;03m#FULL JOIN isn't supported in sqlite, \u001b[39;00m\n\u001b[0;32m      3\u001b[0m \u001b[38;5;66;03m#so we use a LEFT JOIN + RIGHT JOIN(inverse LEFT JOIN) as a workaround\u001b[39;00m\n\u001b[0;32m      5\u001b[0m query \u001b[38;5;241m=\u001b[39m \u001b[38;5;124m'''\u001b[39m\n\u001b[0;32m      6\u001b[0m \u001b[38;5;124mSELECT * \u001b[39m\n\u001b[0;32m      7\u001b[0m \u001b[38;5;124mFROM invoice_items AS a\u001b[39m\n\u001b[1;32m   (...)\u001b[0m\n\u001b[0;32m     14\u001b[0m \u001b[38;5;124mON a.trackid =b.trackid;\u001b[39m\n\u001b[0;32m     15\u001b[0m \u001b[38;5;124m'''\u001b[39m\n\u001b[1;32m---> 17\u001b[0m \u001b[43msql_query\u001b[49m(query)\n",
      "\u001b[1;31mNameError\u001b[0m: name 'sql_query' is not defined"
     ]
    }
   ],
   "source": [
    "#FULL JOIN\n",
    "#FULL JOIN isn't supported in sqlite, \n",
    "#so we use a LEFT JOIN + RIGHT JOIN(inverse LEFT JOIN) as a workaround\n",
    "\n",
    "query = '''\n",
    "SELECT * \n",
    "FROM invoice_items AS a\n",
    "LEFT JOIN tracks AS b\n",
    "ON a.trackid = b.trackid\n",
    "UNION ALL -- usa el union all que permite unir  la salida de dos queries por separado, no es una subquery una dentro de otra.\n",
    "SELECT *\n",
    "FROM tracks AS a\n",
    "LEFT JOIN invoice_items AS b\n",
    "ON a.trackid =b.trackid;\n",
    "'''\n",
    "\n",
    "sql_query(query)"
   ]
  },
  {
   "cell_type": "markdown",
   "id": "9476fa15-bff1-4244-88b8-7f8e7a73514f",
   "metadata": {},
   "source": [
    "# SQL en Python: Gestion BD (I)"
   ]
  },
  {
   "cell_type": "markdown",
   "id": "64341abf-2b87-4de9-ad76-d56912798558",
   "metadata": {},
   "source": [
    "### Creación de Bases de Datos y tablas"
   ]
  },
  {
   "cell_type": "code",
   "execution_count": 57,
   "id": "5ce9f51a-d7fe-4310-ae95-7307ec77db7e",
   "metadata": {},
   "outputs": [],
   "source": [
    "import pandas as pd\n",
    "import sqlite3"
   ]
  },
  {
   "cell_type": "code",
   "execution_count": 58,
   "id": "13b83bdc-b81e-4573-8ead-7527d8eff690",
   "metadata": {},
   "outputs": [],
   "source": [
    "#conexión a base de datos que no existe, pero la crea\n",
    "connection = sqlite3.connect(\"base_de_datos_I.db\") "
   ]
  },
  {
   "cell_type": "markdown",
   "id": "561f33a6-1343-41c3-8821-72f82a42d6c1",
   "metadata": {},
   "source": [
    "crear el cursor para poder interactuar con ella:"
   ]
  },
  {
   "cell_type": "code",
   "execution_count": 59,
   "id": "eeaa7bbc-2090-4f16-9b34-bf7d3fec4aa0",
   "metadata": {},
   "outputs": [],
   "source": [
    "cursor_gestion = connection.cursor()"
   ]
  },
  {
   "cell_type": "markdown",
   "id": "09c05f67-f586-4c80-a1a7-42f6c801d282",
   "metadata": {},
   "source": [
    "Y ahora ya podemos crear una tabla siguiendo la siguiente sintaxis:\n",
    "\n",
    "```SQL\n",
    "CREATE TABLE nombre_tabla (\n",
    "    columna1 tipo_de_dato restricciones, --creamos una linea donde ponemos el tipo(int, float, date... y restricciones(si va  ser primary key,\n",
    "    columna2 tipo_de_dato restricciones, --si no puede ser nulo...)\n",
    "    ...                                  --\n",
    "    columnaN tipo_de_dato restricciones\n",
    ");\n",
    "```"
   ]
  },
  {
   "cell_type": "markdown",
   "id": "ec4d165b-4ac7-4be8-9ce5-0451e3f29d45",
   "metadata": {},
   "source": [
    "- **nombre_tabla:** Es el nombre de la tabla que queremos crear.\n",
    "- **columna1, columna2, ..., columnaN:** Son los nombres de las columnas de la tabla.\n",
    "- **tipo_de_dato:** Es el tipo de dato de cada columna (por ejemplo, `INT` para enteros, `VARCHAR` o `CHAR` para cadenas de texto, `DATE` para fechas, etc.).\n",
    "- **restricciones:** Son las restricciones o reglas para cada columna (opcional). Algunas restricciones comunes incluyen `PRIMARY KEY`, `NOT NULL`, `UNIQUE`, `FOREIGN KEY`, etc. (que corresponden a un índice único, a que no puede dejarse vacío el campo, a que no puede repetirse o a que tendrá que enlazarse con la clave en otra tabla)"
   ]
  },
  {
   "cell_type": "code",
   "execution_count": 60,
   "id": "a2cadbaf-47ea-4dc9-a821-0f8fff2a1748",
   "metadata": {},
   "outputs": [
    {
     "ename": "OperationalError",
     "evalue": "table Master_Class already exists",
     "output_type": "error",
     "traceback": [
      "\u001b[1;31m---------------------------------------------------------------------------\u001b[0m",
      "\u001b[1;31mOperationalError\u001b[0m                          Traceback (most recent call last)",
      "Cell \u001b[1;32mIn[60], line 10\u001b[0m\n\u001b[0;32m      1\u001b[0m query_create \u001b[38;5;241m=\u001b[39m \u001b[38;5;124m'''\u001b[39m\n\u001b[0;32m      2\u001b[0m \u001b[38;5;124mCREATE TABLE Master_Class ( --El nombre\u001b[39m\n\u001b[0;32m      3\u001b[0m \u001b[38;5;124mID       INT PRIMARY KEY, -- nombre tipo_de_dato restricción como hemos visto antes tipo entero\u001b[39m\n\u001b[1;32m   (...)\u001b[0m\n\u001b[0;32m      8\u001b[0m \u001b[38;5;124m)\u001b[39m\n\u001b[0;32m      9\u001b[0m \u001b[38;5;124m'''\u001b[39m\n\u001b[1;32m---> 10\u001b[0m \u001b[43mcursor_gestion\u001b[49m\u001b[38;5;241;43m.\u001b[39;49m\u001b[43mexecute\u001b[49m\u001b[43m(\u001b[49m\u001b[43mquery_create\u001b[49m\u001b[43m)\u001b[49m\n",
      "\u001b[1;31mOperationalError\u001b[0m: table Master_Class already exists"
     ]
    }
   ],
   "source": [
    "query_create = '''\n",
    "CREATE TABLE Master_Class ( --El nombre\n",
    "ID       INT PRIMARY KEY, -- nombre tipo_de_dato restricción como hemos visto antes tipo entero\n",
    "NOMBRE   TEXT NOT NULL, --texto\n",
    "EDAD     INT NOT NULL,\n",
    "CIUDAD   CHARS(50), -- Le decimos que este campo siempre tiene 50 caracteres, y los que no llene los rellenará con espacios\n",
    "NOTAS    FLOAT\n",
    ")\n",
    "'''\n",
    "cursor_gestion.execute(query_create)"
   ]
  },
  {
   "cell_type": "markdown",
   "id": "3e4a664d-6f91-45ad-85a9-c301972ed5c1",
   "metadata": {},
   "source": [
    "Y una vez la tenemos, podemos buscarla en la tabla maestra:"
   ]
  },
  {
   "cell_type": "code",
   "execution_count": 44,
   "id": "f42819e3-fe55-4f25-b3e1-f6203dd34a33",
   "metadata": {},
   "outputs": [
    {
     "data": {
      "text/plain": [
       "[('table',\n",
       "  'Master_Class',\n",
       "  'Master_Class',\n",
       "  2,\n",
       "  'CREATE TABLE Master_Class ( --El nombre\\nID       INT PRIMARY KEY, -- nombre tipo_de_dato restricción como hemos visto antes tipo entero\\nNOMBRE   TEXT NOT NULL, --texto\\nEDAD     INT NOT NULL,\\nCIUDAD   CHARS(50), -- Le decimos que este campo siempre tiene 50 caracteres, y los que no llene los rellenará con espacios\\nNOTAS    FLOAT\\n)')]"
      ]
     },
     "execution_count": 44,
     "metadata": {},
     "output_type": "execute_result"
    }
   ],
   "source": [
    "query = \"SELECT * FROM sqlite_master WHERE type =='table'\" #buscamos en la tabla maestra\n",
    "cursor_gestion.execute(query) #La ejecutamos\n",
    "cursor_gestion.fetchall() #el fetchall, recupera todas las filas que ha traido la ejecución"
   ]
  },
  {
   "cell_type": "markdown",
   "id": "1f2bc757-99fe-4e43-8344-26a4a584fb94",
   "metadata": {},
   "source": [
    "En las tablas maestras lo que se guardan no son tanto los campos como los campos creados"
   ]
  },
  {
   "cell_type": "markdown",
   "id": "3060a731-c9f4-48dc-8a40-5ce591829122",
   "metadata": {},
   "source": [
    "### Insert\n",
    "En la tabla creadaa podemos ingestar registros (nombre técnico), modificarlos y borrarlos"
   ]
  },
  {
   "cell_type": "markdown",
   "id": "c4554d61-f1b7-452f-8ec7-7a70c971d135",
   "metadata": {},
   "source": [
    " sintaxis de un insert:"
   ]
  },
  {
   "cell_type": "markdown",
   "id": "c7c510da-bb47-4675-8616-5b66a57747cf",
   "metadata": {},
   "source": [
    "```SQL\n",
    "INSERT INTO nombre_tabla (columna1, columna2, columna3, ...)\n",
    "VALUES (valor1, valor2, valor3, ...);\n",
    "```\n",
    "- **nombre_tabla:** Nombre de la tabla donde se insertarán los datos.\n",
    "- **columna1, columna2, ... :** Las columnas de la tabla en las que se insertarán los datos. No es necesario incluir todas las columnas, especialmente si algunas tienen valores predeterminados o son autoincrementables.\n",
    "- **valor1, valor2, ... :** Los valores correspondientes a las columnas especificadas. Deben estar en el mismo orden que las columnas y deben ser del tipo de dato adecuado para cada columna.\n"
   ]
  },
  {
   "cell_type": "markdown",
   "id": "f630d87e-da77-46ba-a053-6f679b330d2b",
   "metadata": {},
   "source": [
    "Insertemos unos cuantos valores:\n",
    "\n",
    "- Luis, 24, Madrid, 8.5\n",
    "- Ana, 32, Lugo, 6.25\n",
    "- Juan, 35, Bilbao, 5.55\n",
    "- Nuria, 41, Alicante, 9.75\n",
    "\n",
    "Se pueden hacer los inserts uno a uno o a través de un diccionario\n",
    "\n",
    "A través de un for, lo añadimos a la tabla\n"
   ]
  },
  {
   "cell_type": "code",
   "execution_count": 45,
   "id": "0363ec86-1d79-437c-ac78-06842aea9435",
   "metadata": {},
   "outputs": [],
   "source": [
    "# Usa este diccionario para no ir valor a valor:\n",
    "datos = {\n",
    "    \"Luis\": (24,\"Madrid\", 8.5),\n",
    "    \"Ana\": (32,\"Lugo\", 6.25),\n",
    "    \"Juan\": (35, \"Bilbao\", 5.55),\n",
    "    \"Nuria\": (51, \"Alicante\", 9.75)\n",
    "}\n",
    "\n",
    "for indice,(nombre, valores) in enumerate(datos.items()): # El items, devuelve dos valores, pero al hacer el enumerate, no va a devolvernos 3, nos devolverá el índice y una tupla, si la quiero capturar he de ponerla de esta manera.\n",
    "    edad = valores[0] #primer valor\n",
    "    ciudad = valores[1] #segundo valor\n",
    "    nota = valores[2] # tercer valor\n",
    "    query = f\"INSERT INTO MaSTER_cLASS (ID, NOMBRE, EDAD, CIUDAD, NOTAS) values({indice},'{nombre}', {edad}, '{ciudad}', {nota})\" \n",
    "    cursor_gestion.execute(query)\n",
    "    #insertamos los valores y los campos enbtre paréntesis, al introducir los numéricos {} no importa, pero el nombre, al estar pasando una cadena e interpretarla\n",
    "    #tenemos que poner el nombre entre comillas, ya que el sql internamente, va a buscar el string entre comillas\n",
    "    #Para ejecutarlo, debemos confirmarle al gestor que esto que hemos hecho es real, haciendo un commit"
   ]
  },
  {
   "cell_type": "code",
   "execution_count": 46,
   "id": "3f94160e-a49a-4056-addf-81719b44d287",
   "metadata": {},
   "outputs": [],
   "source": [
    "connection.commit() \n",
    "#con esto decimos al gestor que se guarden nlos cambios."
   ]
  },
  {
   "cell_type": "markdown",
   "id": "ef910f72-20e2-4782-ae92-9a6370b24c1f",
   "metadata": {},
   "source": [
    "Para comprobar que realmente se han hecho los cambios haríamos nuestra consulta y podríamos pasarlo a un `DataFrame` pero vaya, no tenemos nuestra función, no importa porque ya es hora de que te enseñe otra cosa:"
   ]
  },
  {
   "cell_type": "code",
   "execution_count": 47,
   "id": "09963d87-d18e-4c2c-b4c1-42442f6e41dd",
   "metadata": {},
   "outputs": [],
   "source": [
    "query = '''\n",
    "SELECT * \n",
    "FROM Master_Class\n",
    "'''\n",
    "df = pd.read_sql(query, connection )\n",
    "#no necesitamnos la función si usamos esto"
   ]
  },
  {
   "cell_type": "code",
   "execution_count": 28,
   "id": "5a957988-4c41-4dfd-891a-5be0f1e8f952",
   "metadata": {},
   "outputs": [
    {
     "data": {
      "text/html": [
       "<div>\n",
       "<style scoped>\n",
       "    .dataframe tbody tr th:only-of-type {\n",
       "        vertical-align: middle;\n",
       "    }\n",
       "\n",
       "    .dataframe tbody tr th {\n",
       "        vertical-align: top;\n",
       "    }\n",
       "\n",
       "    .dataframe thead th {\n",
       "        text-align: right;\n",
       "    }\n",
       "</style>\n",
       "<table border=\"1\" class=\"dataframe\">\n",
       "  <thead>\n",
       "    <tr style=\"text-align: right;\">\n",
       "      <th></th>\n",
       "      <th>ID</th>\n",
       "      <th>NOMBRE</th>\n",
       "      <th>EDAD</th>\n",
       "      <th>CIUDAD</th>\n",
       "      <th>NOTAS</th>\n",
       "    </tr>\n",
       "  </thead>\n",
       "  <tbody>\n",
       "    <tr>\n",
       "      <th>0</th>\n",
       "      <td>0</td>\n",
       "      <td>Luis</td>\n",
       "      <td>24</td>\n",
       "      <td>Madrid</td>\n",
       "      <td>8.50</td>\n",
       "    </tr>\n",
       "    <tr>\n",
       "      <th>1</th>\n",
       "      <td>1</td>\n",
       "      <td>Ana</td>\n",
       "      <td>32</td>\n",
       "      <td>Lugo</td>\n",
       "      <td>6.25</td>\n",
       "    </tr>\n",
       "    <tr>\n",
       "      <th>2</th>\n",
       "      <td>2</td>\n",
       "      <td>Juan</td>\n",
       "      <td>35</td>\n",
       "      <td>Bilbao</td>\n",
       "      <td>5.55</td>\n",
       "    </tr>\n",
       "    <tr>\n",
       "      <th>3</th>\n",
       "      <td>3</td>\n",
       "      <td>Nuria</td>\n",
       "      <td>51</td>\n",
       "      <td>Alicante</td>\n",
       "      <td>9.75</td>\n",
       "    </tr>\n",
       "  </tbody>\n",
       "</table>\n",
       "</div>"
      ],
      "text/plain": [
       "   ID NOMBRE  EDAD    CIUDAD  NOTAS\n",
       "0   0   Luis    24    Madrid   8.50\n",
       "1   1    Ana    32      Lugo   6.25\n",
       "2   2   Juan    35    Bilbao   5.55\n",
       "3   3  Nuria    51  Alicante   9.75"
      ]
     },
     "execution_count": 28,
     "metadata": {},
     "output_type": "execute_result"
    }
   ],
   "source": [
    "df"
   ]
  },
  {
   "cell_type": "code",
   "execution_count": null,
   "id": "4cea9340-3e87-4ea8-827f-7f4dc20a804c",
   "metadata": {},
   "outputs": [],
   "source": []
  },
  {
   "cell_type": "code",
   "execution_count": 48,
   "id": "af8f78bf-4c6f-4423-834a-b5eae8b4e632",
   "metadata": {},
   "outputs": [
    {
     "name": "stdout",
     "output_type": "stream",
     "text": [
      "<class 'pandas.core.frame.DataFrame'>\n",
      "RangeIndex: 4 entries, 0 to 3\n",
      "Data columns (total 5 columns):\n",
      " #   Column  Non-Null Count  Dtype  \n",
      "---  ------  --------------  -----  \n",
      " 0   ID      4 non-null      int64  \n",
      " 1   NOMBRE  4 non-null      object \n",
      " 2   EDAD    4 non-null      int64  \n",
      " 3   CIUDAD  4 non-null      object \n",
      " 4   NOTAS   4 non-null      float64\n",
      "dtypes: float64(1), int64(2), object(2)\n",
      "memory usage: 288.0+ bytes\n"
     ]
    }
   ],
   "source": [
    "df.info()"
   ]
  },
  {
   "cell_type": "markdown",
   "id": "ae74c6a3-b03b-49f5-b6c5-5f68f761b66f",
   "metadata": {},
   "source": [
    "algo que no hemos hecho y que se suele hacer es cerrar las conexiones, para que las bases de datos no se queden abiertas, ya que por nuestra parte ocurre, pero por parte del gestor noesto puede generar fallos"
   ]
  },
  {
   "cell_type": "code",
   "execution_count": null,
   "id": "8b8ef60d-602b-48a2-b02b-118d78523956",
   "metadata": {},
   "outputs": [],
   "source": []
  },
  {
   "cell_type": "markdown",
   "id": "1499f193-3f68-42a6-a061-85f7005b9fef",
   "metadata": {},
   "source": [
    "### Update\n",
    "\n",
    "La sintaxis general de UPDATE es:\n",
    "\n",
    "```sql\n",
    "UPDATE nombre_tabla\n",
    "SET columna1 = valor1, columna2 = valor2, ...\n",
    "WHERE condicion;\n",
    "```\n",
    "\n",
    "- **nombre_tabla:** Es el nombre de la tabla donde se realizarán las modificaciones.\n",
    "- **SET columna1 = valor1, columna2 = valor2, ... :** Aquí se listan las columnas que se van a actualizar y los nuevos valores que se les asignarán. Puedes actualizar una o varias columnas a la vez.\n",
    "- **WHERE condicion:** Especifica qué registros deben ser actualizados. La condición puede ser cualquier expresión lógica válida. Si omites la cláusula WHERE, todos los registros en la tabla serán actualizados, lo cual puede tener consecuencias no deseadas."
   ]
  },
  {
   "cell_type": "code",
   "execution_count": 49,
   "id": "0e797f6a-b01a-403c-aa29-c2395fb978d3",
   "metadata": {},
   "outputs": [],
   "source": [
    "#Modifiquemos en nuestra tabla la edad de Nuria por 48 y comprobemos el resultado utlizando `read_sql`"
   ]
  },
  {
   "cell_type": "code",
   "execution_count": 50,
   "id": "0cf5325d-c1dd-456c-9ccf-502f64bcd19a",
   "metadata": {},
   "outputs": [
    {
     "data": {
      "text/html": [
       "<div>\n",
       "<style scoped>\n",
       "    .dataframe tbody tr th:only-of-type {\n",
       "        vertical-align: middle;\n",
       "    }\n",
       "\n",
       "    .dataframe tbody tr th {\n",
       "        vertical-align: top;\n",
       "    }\n",
       "\n",
       "    .dataframe thead th {\n",
       "        text-align: right;\n",
       "    }\n",
       "</style>\n",
       "<table border=\"1\" class=\"dataframe\">\n",
       "  <thead>\n",
       "    <tr style=\"text-align: right;\">\n",
       "      <th></th>\n",
       "      <th>ID</th>\n",
       "      <th>NOMBRE</th>\n",
       "      <th>EDAD</th>\n",
       "      <th>CIUDAD</th>\n",
       "      <th>NOTAS</th>\n",
       "    </tr>\n",
       "  </thead>\n",
       "  <tbody>\n",
       "    <tr>\n",
       "      <th>0</th>\n",
       "      <td>0</td>\n",
       "      <td>Luis</td>\n",
       "      <td>24</td>\n",
       "      <td>Madrid</td>\n",
       "      <td>8.50</td>\n",
       "    </tr>\n",
       "    <tr>\n",
       "      <th>1</th>\n",
       "      <td>1</td>\n",
       "      <td>Ana</td>\n",
       "      <td>32</td>\n",
       "      <td>Lugo</td>\n",
       "      <td>6.25</td>\n",
       "    </tr>\n",
       "    <tr>\n",
       "      <th>2</th>\n",
       "      <td>2</td>\n",
       "      <td>Juan</td>\n",
       "      <td>35</td>\n",
       "      <td>Bilbao</td>\n",
       "      <td>5.55</td>\n",
       "    </tr>\n",
       "    <tr>\n",
       "      <th>3</th>\n",
       "      <td>3</td>\n",
       "      <td>Nuria</td>\n",
       "      <td>48</td>\n",
       "      <td>Alicante</td>\n",
       "      <td>9.75</td>\n",
       "    </tr>\n",
       "  </tbody>\n",
       "</table>\n",
       "</div>"
      ],
      "text/plain": [
       "   ID NOMBRE  EDAD    CIUDAD  NOTAS\n",
       "0   0   Luis    24    Madrid   8.50\n",
       "1   1    Ana    32      Lugo   6.25\n",
       "2   2   Juan    35    Bilbao   5.55\n",
       "3   3  Nuria    48  Alicante   9.75"
      ]
     },
     "execution_count": 50,
     "metadata": {},
     "output_type": "execute_result"
    }
   ],
   "source": [
    "query = '''\n",
    "UPDATE Master_Class\n",
    "SET edad = 48\n",
    "WHERE nombre = \"Nuria\"\n",
    "'''\n",
    "cursor_gestion.execute(query)\n",
    "pd.read_sql(\"SELECT * FROM Master_Class\", connection)"
   ]
  },
  {
   "cell_type": "markdown",
   "id": "db4dcdb2-4f6c-4cff-8a08-bebe1fb71acc",
   "metadata": {},
   "source": [
    "El update no fuinciona tal cual, necesitamos hacer el commit igualmente para que el cambio se grabe en la base de datos:"
   ]
  },
  {
   "cell_type": "code",
   "execution_count": 51,
   "id": "568ef074-812a-49f6-b3be-fa2f3f4a5434",
   "metadata": {},
   "outputs": [],
   "source": [
    "connection.commit()"
   ]
  },
  {
   "cell_type": "code",
   "execution_count": 52,
   "id": "8a7ab63b-1280-48ba-8539-c5a0a543e90e",
   "metadata": {},
   "outputs": [],
   "source": [
    "#cerrar conexión\n",
    "connection.close()"
   ]
  },
  {
   "cell_type": "markdown",
   "id": "2d9940dd-f8a4-4220-9dfe-bc15a3a241bc",
   "metadata": {},
   "source": [
    "Si hubieramos intentado actualizar alguna columna incumpliendo las restricciones con las que fueron creadas hubiera dado error."
   ]
  },
  {
   "cell_type": "markdown",
   "id": "d358e17a-22ee-4a2e-956b-fcb9c290af18",
   "metadata": {},
   "source": [
    "### Delete\n",
    "DELETE nos permite borrar filas de las tablas, y sigue esta sintaxis:\n",
    "```sql\n",
    "DELETE FROM nombre_tabla WHERE condicion;\n",
    "```\n",
    "\n",
    "- **nombre_tabla:** Es el nombre de la tabla de la cual se eliminarán los registros.\n",
    "- **condicion:** Especifica qué registros deben ser eliminados. Puede ser cualquier expresión lógica válida.\n",
    "\n",
    "Si omites la cláusula WHERE en una instrucción DELETE, todos los registros de la tabla especificada serán eliminados, lo cual debe hacerse con precaución."
   ]
  },
  {
   "cell_type": "markdown",
   "id": "ba47ba5d-44c0-4b3d-83fd-38eb721188fc",
   "metadata": {},
   "source": [
    "Borremos las filas de los alumnos con menos de un 7:"
   ]
  },
  {
   "cell_type": "code",
   "execution_count": 54,
   "id": "5735ced8-5a4d-42f0-aaad-0fe887713339",
   "metadata": {},
   "outputs": [
    {
     "ename": "ProgrammingError",
     "evalue": "Cannot operate on a closed database.",
     "output_type": "error",
     "traceback": [
      "\u001b[1;31m---------------------------------------------------------------------------\u001b[0m",
      "\u001b[1;31mProgrammingError\u001b[0m                          Traceback (most recent call last)",
      "Cell \u001b[1;32mIn[54], line 3\u001b[0m\n\u001b[0;32m      1\u001b[0m query \u001b[38;5;241m=\u001b[39m \u001b[38;5;124m'''\u001b[39m\n\u001b[0;32m      2\u001b[0m \u001b[38;5;124mDELETE FROM Master_Class\u001b[39m\u001b[38;5;124m'''\u001b[39m\n\u001b[1;32m----> 3\u001b[0m \u001b[43mcursor_gestion\u001b[49m\u001b[38;5;241;43m.\u001b[39;49m\u001b[43mexecute\u001b[49m\u001b[43m(\u001b[49m\u001b[43mquery\u001b[49m\u001b[43m)\u001b[49m\n",
      "\u001b[1;31mProgrammingError\u001b[0m: Cannot operate on a closed database."
     ]
    }
   ],
   "source": [
    "query = '''\n",
    "DELETE FROM Master_Class'''\n",
    "cursor_gestion.execute(query)"
   ]
  },
  {
   "cell_type": "code",
   "execution_count": 55,
   "id": "4414391a-c50c-4890-82d5-cb64695a1c07",
   "metadata": {},
   "outputs": [
    {
     "ename": "ProgrammingError",
     "evalue": "Cannot operate on a closed database.",
     "output_type": "error",
     "traceback": [
      "\u001b[1;31m---------------------------------------------------------------------------\u001b[0m",
      "\u001b[1;31mProgrammingError\u001b[0m                          Traceback (most recent call last)",
      "Cell \u001b[1;32mIn[55], line 1\u001b[0m\n\u001b[1;32m----> 1\u001b[0m \u001b[43mpd\u001b[49m\u001b[38;5;241;43m.\u001b[39;49m\u001b[43mread_sql\u001b[49m\u001b[43m(\u001b[49m\u001b[38;5;124;43m\"\u001b[39;49m\u001b[38;5;124;43mSELECT * FROM Master_Class\u001b[39;49m\u001b[38;5;124;43m\"\u001b[39;49m\u001b[43m,\u001b[49m\u001b[43m \u001b[49m\u001b[43mconnection\u001b[49m\u001b[43m)\u001b[49m \u001b[38;5;66;03m#ha borrado el contenido\u001b[39;00m\n",
      "File \u001b[1;32m~\\AppData\\Local\\Programs\\Python\\Python310\\lib\\site-packages\\pandas\\io\\sql.py:654\u001b[0m, in \u001b[0;36mread_sql\u001b[1;34m(sql, con, index_col, coerce_float, params, parse_dates, columns, chunksize, dtype_backend, dtype)\u001b[0m\n\u001b[0;32m    652\u001b[0m \u001b[38;5;28;01mwith\u001b[39;00m pandasSQL_builder(con) \u001b[38;5;28;01mas\u001b[39;00m pandas_sql:\n\u001b[0;32m    653\u001b[0m     \u001b[38;5;28;01mif\u001b[39;00m \u001b[38;5;28misinstance\u001b[39m(pandas_sql, SQLiteDatabase):\n\u001b[1;32m--> 654\u001b[0m         \u001b[38;5;28;01mreturn\u001b[39;00m \u001b[43mpandas_sql\u001b[49m\u001b[38;5;241;43m.\u001b[39;49m\u001b[43mread_query\u001b[49m\u001b[43m(\u001b[49m\n\u001b[0;32m    655\u001b[0m \u001b[43m            \u001b[49m\u001b[43msql\u001b[49m\u001b[43m,\u001b[49m\n\u001b[0;32m    656\u001b[0m \u001b[43m            \u001b[49m\u001b[43mindex_col\u001b[49m\u001b[38;5;241;43m=\u001b[39;49m\u001b[43mindex_col\u001b[49m\u001b[43m,\u001b[49m\n\u001b[0;32m    657\u001b[0m \u001b[43m            \u001b[49m\u001b[43mparams\u001b[49m\u001b[38;5;241;43m=\u001b[39;49m\u001b[43mparams\u001b[49m\u001b[43m,\u001b[49m\n\u001b[0;32m    658\u001b[0m \u001b[43m            \u001b[49m\u001b[43mcoerce_float\u001b[49m\u001b[38;5;241;43m=\u001b[39;49m\u001b[43mcoerce_float\u001b[49m\u001b[43m,\u001b[49m\n\u001b[0;32m    659\u001b[0m \u001b[43m            \u001b[49m\u001b[43mparse_dates\u001b[49m\u001b[38;5;241;43m=\u001b[39;49m\u001b[43mparse_dates\u001b[49m\u001b[43m,\u001b[49m\n\u001b[0;32m    660\u001b[0m \u001b[43m            \u001b[49m\u001b[43mchunksize\u001b[49m\u001b[38;5;241;43m=\u001b[39;49m\u001b[43mchunksize\u001b[49m\u001b[43m,\u001b[49m\n\u001b[0;32m    661\u001b[0m \u001b[43m            \u001b[49m\u001b[43mdtype_backend\u001b[49m\u001b[38;5;241;43m=\u001b[39;49m\u001b[43mdtype_backend\u001b[49m\u001b[43m,\u001b[49m\n\u001b[0;32m    662\u001b[0m \u001b[43m            \u001b[49m\u001b[43mdtype\u001b[49m\u001b[38;5;241;43m=\u001b[39;49m\u001b[43mdtype\u001b[49m\u001b[43m,\u001b[49m\n\u001b[0;32m    663\u001b[0m \u001b[43m        \u001b[49m\u001b[43m)\u001b[49m\n\u001b[0;32m    665\u001b[0m     \u001b[38;5;28;01mtry\u001b[39;00m:\n\u001b[0;32m    666\u001b[0m         _is_table_name \u001b[38;5;241m=\u001b[39m pandas_sql\u001b[38;5;241m.\u001b[39mhas_table(sql)\n",
      "File \u001b[1;32m~\\AppData\\Local\\Programs\\Python\\Python310\\lib\\site-packages\\pandas\\io\\sql.py:2326\u001b[0m, in \u001b[0;36mSQLiteDatabase.read_query\u001b[1;34m(self, sql, index_col, coerce_float, parse_dates, params, chunksize, dtype, dtype_backend)\u001b[0m\n\u001b[0;32m   2315\u001b[0m \u001b[38;5;28;01mdef\u001b[39;00m \u001b[38;5;21mread_query\u001b[39m(\n\u001b[0;32m   2316\u001b[0m     \u001b[38;5;28mself\u001b[39m,\n\u001b[0;32m   2317\u001b[0m     sql,\n\u001b[1;32m   (...)\u001b[0m\n\u001b[0;32m   2324\u001b[0m     dtype_backend: DtypeBackend \u001b[38;5;241m|\u001b[39m Literal[\u001b[38;5;124m\"\u001b[39m\u001b[38;5;124mnumpy\u001b[39m\u001b[38;5;124m\"\u001b[39m] \u001b[38;5;241m=\u001b[39m \u001b[38;5;124m\"\u001b[39m\u001b[38;5;124mnumpy\u001b[39m\u001b[38;5;124m\"\u001b[39m,\n\u001b[0;32m   2325\u001b[0m ) \u001b[38;5;241m-\u001b[39m\u001b[38;5;241m>\u001b[39m DataFrame \u001b[38;5;241m|\u001b[39m Iterator[DataFrame]:\n\u001b[1;32m-> 2326\u001b[0m     cursor \u001b[38;5;241m=\u001b[39m \u001b[38;5;28;43mself\u001b[39;49m\u001b[38;5;241;43m.\u001b[39;49m\u001b[43mexecute\u001b[49m\u001b[43m(\u001b[49m\u001b[43msql\u001b[49m\u001b[43m,\u001b[49m\u001b[43m \u001b[49m\u001b[43mparams\u001b[49m\u001b[43m)\u001b[49m\n\u001b[0;32m   2327\u001b[0m     columns \u001b[38;5;241m=\u001b[39m [col_desc[\u001b[38;5;241m0\u001b[39m] \u001b[38;5;28;01mfor\u001b[39;00m col_desc \u001b[38;5;129;01min\u001b[39;00m cursor\u001b[38;5;241m.\u001b[39mdescription]\n\u001b[0;32m   2329\u001b[0m     \u001b[38;5;28;01mif\u001b[39;00m chunksize \u001b[38;5;129;01mis\u001b[39;00m \u001b[38;5;129;01mnot\u001b[39;00m \u001b[38;5;28;01mNone\u001b[39;00m:\n",
      "File \u001b[1;32m~\\AppData\\Local\\Programs\\Python\\Python310\\lib\\site-packages\\pandas\\io\\sql.py:2260\u001b[0m, in \u001b[0;36mSQLiteDatabase.execute\u001b[1;34m(self, sql, params)\u001b[0m\n\u001b[0;32m   2258\u001b[0m     \u001b[38;5;28;01mraise\u001b[39;00m \u001b[38;5;167;01mTypeError\u001b[39;00m(\u001b[38;5;124m\"\u001b[39m\u001b[38;5;124mQuery must be a string unless using sqlalchemy.\u001b[39m\u001b[38;5;124m\"\u001b[39m)\n\u001b[0;32m   2259\u001b[0m args \u001b[38;5;241m=\u001b[39m [] \u001b[38;5;28;01mif\u001b[39;00m params \u001b[38;5;129;01mis\u001b[39;00m \u001b[38;5;28;01mNone\u001b[39;00m \u001b[38;5;28;01melse\u001b[39;00m [params]\n\u001b[1;32m-> 2260\u001b[0m cur \u001b[38;5;241m=\u001b[39m \u001b[38;5;28;43mself\u001b[39;49m\u001b[38;5;241;43m.\u001b[39;49m\u001b[43mcon\u001b[49m\u001b[38;5;241;43m.\u001b[39;49m\u001b[43mcursor\u001b[49m\u001b[43m(\u001b[49m\u001b[43m)\u001b[49m\n\u001b[0;32m   2261\u001b[0m \u001b[38;5;28;01mtry\u001b[39;00m:\n\u001b[0;32m   2262\u001b[0m     cur\u001b[38;5;241m.\u001b[39mexecute(sql, \u001b[38;5;241m*\u001b[39margs)\n",
      "\u001b[1;31mProgrammingError\u001b[0m: Cannot operate on a closed database."
     ]
    }
   ],
   "source": [
    "pd.read_sql(\"SELECT * FROM Master_Class\", connection) #ha borrado el contenido"
   ]
  },
  {
   "cell_type": "markdown",
   "id": "453fd44b-70b7-438f-bb28-50439163f044",
   "metadata": {},
   "source": [
    "Si la queremos recuperar, debemos abrir y cerrar la base de datos para poder hacerlo:\n"
   ]
  },
  {
   "cell_type": "code",
   "execution_count": 35,
   "id": "0bb268b5-6f66-48a1-90aa-1349380a4399",
   "metadata": {},
   "outputs": [],
   "source": [
    "connection.close()\n",
    "connection = sqlite3.connect(\"gestion_sesion_db\")\n",
    "cursor_gestion = connection.cursor()"
   ]
  },
  {
   "cell_type": "code",
   "execution_count": 38,
   "id": "6233596d-2c55-4f7e-a6d8-ead835db501d",
   "metadata": {},
   "outputs": [
    {
     "ename": "DatabaseError",
     "evalue": "Execution failed on sql 'SELECT * FROM Master_Class': no such table: Master_Class",
     "output_type": "error",
     "traceback": [
      "\u001b[1;31m---------------------------------------------------------------------------\u001b[0m",
      "\u001b[1;31mOperationalError\u001b[0m                          Traceback (most recent call last)",
      "File \u001b[1;32m~\\AppData\\Local\\Programs\\Python\\Python310\\lib\\site-packages\\pandas\\io\\sql.py:2262\u001b[0m, in \u001b[0;36mSQLiteDatabase.execute\u001b[1;34m(self, sql, params)\u001b[0m\n\u001b[0;32m   2261\u001b[0m \u001b[38;5;28;01mtry\u001b[39;00m:\n\u001b[1;32m-> 2262\u001b[0m     \u001b[43mcur\u001b[49m\u001b[38;5;241;43m.\u001b[39;49m\u001b[43mexecute\u001b[49m\u001b[43m(\u001b[49m\u001b[43msql\u001b[49m\u001b[43m,\u001b[49m\u001b[43m \u001b[49m\u001b[38;5;241;43m*\u001b[39;49m\u001b[43margs\u001b[49m\u001b[43m)\u001b[49m\n\u001b[0;32m   2263\u001b[0m     \u001b[38;5;28;01mreturn\u001b[39;00m cur\n",
      "\u001b[1;31mOperationalError\u001b[0m: no such table: Master_Class",
      "\nThe above exception was the direct cause of the following exception:\n",
      "\u001b[1;31mDatabaseError\u001b[0m                             Traceback (most recent call last)",
      "Cell \u001b[1;32mIn[38], line 1\u001b[0m\n\u001b[1;32m----> 1\u001b[0m \u001b[43mpd\u001b[49m\u001b[38;5;241;43m.\u001b[39;49m\u001b[43mread_sql\u001b[49m\u001b[43m(\u001b[49m\u001b[38;5;124;43m\"\u001b[39;49m\u001b[38;5;124;43mSELECT * FROM Master_Class\u001b[39;49m\u001b[38;5;124;43m\"\u001b[39;49m\u001b[43m,\u001b[49m\u001b[43m \u001b[49m\u001b[43mconnection\u001b[49m\u001b[43m)\u001b[49m\n",
      "File \u001b[1;32m~\\AppData\\Local\\Programs\\Python\\Python310\\lib\\site-packages\\pandas\\io\\sql.py:654\u001b[0m, in \u001b[0;36mread_sql\u001b[1;34m(sql, con, index_col, coerce_float, params, parse_dates, columns, chunksize, dtype_backend, dtype)\u001b[0m\n\u001b[0;32m    652\u001b[0m \u001b[38;5;28;01mwith\u001b[39;00m pandasSQL_builder(con) \u001b[38;5;28;01mas\u001b[39;00m pandas_sql:\n\u001b[0;32m    653\u001b[0m     \u001b[38;5;28;01mif\u001b[39;00m \u001b[38;5;28misinstance\u001b[39m(pandas_sql, SQLiteDatabase):\n\u001b[1;32m--> 654\u001b[0m         \u001b[38;5;28;01mreturn\u001b[39;00m \u001b[43mpandas_sql\u001b[49m\u001b[38;5;241;43m.\u001b[39;49m\u001b[43mread_query\u001b[49m\u001b[43m(\u001b[49m\n\u001b[0;32m    655\u001b[0m \u001b[43m            \u001b[49m\u001b[43msql\u001b[49m\u001b[43m,\u001b[49m\n\u001b[0;32m    656\u001b[0m \u001b[43m            \u001b[49m\u001b[43mindex_col\u001b[49m\u001b[38;5;241;43m=\u001b[39;49m\u001b[43mindex_col\u001b[49m\u001b[43m,\u001b[49m\n\u001b[0;32m    657\u001b[0m \u001b[43m            \u001b[49m\u001b[43mparams\u001b[49m\u001b[38;5;241;43m=\u001b[39;49m\u001b[43mparams\u001b[49m\u001b[43m,\u001b[49m\n\u001b[0;32m    658\u001b[0m \u001b[43m            \u001b[49m\u001b[43mcoerce_float\u001b[49m\u001b[38;5;241;43m=\u001b[39;49m\u001b[43mcoerce_float\u001b[49m\u001b[43m,\u001b[49m\n\u001b[0;32m    659\u001b[0m \u001b[43m            \u001b[49m\u001b[43mparse_dates\u001b[49m\u001b[38;5;241;43m=\u001b[39;49m\u001b[43mparse_dates\u001b[49m\u001b[43m,\u001b[49m\n\u001b[0;32m    660\u001b[0m \u001b[43m            \u001b[49m\u001b[43mchunksize\u001b[49m\u001b[38;5;241;43m=\u001b[39;49m\u001b[43mchunksize\u001b[49m\u001b[43m,\u001b[49m\n\u001b[0;32m    661\u001b[0m \u001b[43m            \u001b[49m\u001b[43mdtype_backend\u001b[49m\u001b[38;5;241;43m=\u001b[39;49m\u001b[43mdtype_backend\u001b[49m\u001b[43m,\u001b[49m\n\u001b[0;32m    662\u001b[0m \u001b[43m            \u001b[49m\u001b[43mdtype\u001b[49m\u001b[38;5;241;43m=\u001b[39;49m\u001b[43mdtype\u001b[49m\u001b[43m,\u001b[49m\n\u001b[0;32m    663\u001b[0m \u001b[43m        \u001b[49m\u001b[43m)\u001b[49m\n\u001b[0;32m    665\u001b[0m     \u001b[38;5;28;01mtry\u001b[39;00m:\n\u001b[0;32m    666\u001b[0m         _is_table_name \u001b[38;5;241m=\u001b[39m pandas_sql\u001b[38;5;241m.\u001b[39mhas_table(sql)\n",
      "File \u001b[1;32m~\\AppData\\Local\\Programs\\Python\\Python310\\lib\\site-packages\\pandas\\io\\sql.py:2326\u001b[0m, in \u001b[0;36mSQLiteDatabase.read_query\u001b[1;34m(self, sql, index_col, coerce_float, parse_dates, params, chunksize, dtype, dtype_backend)\u001b[0m\n\u001b[0;32m   2315\u001b[0m \u001b[38;5;28;01mdef\u001b[39;00m \u001b[38;5;21mread_query\u001b[39m(\n\u001b[0;32m   2316\u001b[0m     \u001b[38;5;28mself\u001b[39m,\n\u001b[0;32m   2317\u001b[0m     sql,\n\u001b[1;32m   (...)\u001b[0m\n\u001b[0;32m   2324\u001b[0m     dtype_backend: DtypeBackend \u001b[38;5;241m|\u001b[39m Literal[\u001b[38;5;124m\"\u001b[39m\u001b[38;5;124mnumpy\u001b[39m\u001b[38;5;124m\"\u001b[39m] \u001b[38;5;241m=\u001b[39m \u001b[38;5;124m\"\u001b[39m\u001b[38;5;124mnumpy\u001b[39m\u001b[38;5;124m\"\u001b[39m,\n\u001b[0;32m   2325\u001b[0m ) \u001b[38;5;241m-\u001b[39m\u001b[38;5;241m>\u001b[39m DataFrame \u001b[38;5;241m|\u001b[39m Iterator[DataFrame]:\n\u001b[1;32m-> 2326\u001b[0m     cursor \u001b[38;5;241m=\u001b[39m \u001b[38;5;28;43mself\u001b[39;49m\u001b[38;5;241;43m.\u001b[39;49m\u001b[43mexecute\u001b[49m\u001b[43m(\u001b[49m\u001b[43msql\u001b[49m\u001b[43m,\u001b[49m\u001b[43m \u001b[49m\u001b[43mparams\u001b[49m\u001b[43m)\u001b[49m\n\u001b[0;32m   2327\u001b[0m     columns \u001b[38;5;241m=\u001b[39m [col_desc[\u001b[38;5;241m0\u001b[39m] \u001b[38;5;28;01mfor\u001b[39;00m col_desc \u001b[38;5;129;01min\u001b[39;00m cursor\u001b[38;5;241m.\u001b[39mdescription]\n\u001b[0;32m   2329\u001b[0m     \u001b[38;5;28;01mif\u001b[39;00m chunksize \u001b[38;5;129;01mis\u001b[39;00m \u001b[38;5;129;01mnot\u001b[39;00m \u001b[38;5;28;01mNone\u001b[39;00m:\n",
      "File \u001b[1;32m~\\AppData\\Local\\Programs\\Python\\Python310\\lib\\site-packages\\pandas\\io\\sql.py:2274\u001b[0m, in \u001b[0;36mSQLiteDatabase.execute\u001b[1;34m(self, sql, params)\u001b[0m\n\u001b[0;32m   2271\u001b[0m     \u001b[38;5;28;01mraise\u001b[39;00m ex \u001b[38;5;28;01mfrom\u001b[39;00m \u001b[38;5;21;01minner_exc\u001b[39;00m\n\u001b[0;32m   2273\u001b[0m ex \u001b[38;5;241m=\u001b[39m DatabaseError(\u001b[38;5;124mf\u001b[39m\u001b[38;5;124m\"\u001b[39m\u001b[38;5;124mExecution failed on sql \u001b[39m\u001b[38;5;124m'\u001b[39m\u001b[38;5;132;01m{\u001b[39;00msql\u001b[38;5;132;01m}\u001b[39;00m\u001b[38;5;124m'\u001b[39m\u001b[38;5;124m: \u001b[39m\u001b[38;5;132;01m{\u001b[39;00mexc\u001b[38;5;132;01m}\u001b[39;00m\u001b[38;5;124m\"\u001b[39m)\n\u001b[1;32m-> 2274\u001b[0m \u001b[38;5;28;01mraise\u001b[39;00m ex \u001b[38;5;28;01mfrom\u001b[39;00m \u001b[38;5;21;01mexc\u001b[39;00m\n",
      "\u001b[1;31mDatabaseError\u001b[0m: Execution failed on sql 'SELECT * FROM Master_Class': no such table: Master_Class"
     ]
    }
   ],
   "source": [
    "pd.read_sql(\"SELECT * FROM Master_Class\", connection)"
   ]
  },
  {
   "cell_type": "markdown",
   "id": "7c12902a-a0d8-49e1-9ff8-0e9b40cc3a72",
   "metadata": {},
   "source": [
    "Eliminar filas cuyas notas soin menores que 7:"
   ]
  },
  {
   "cell_type": "code",
   "execution_count": 74,
   "id": "fe0a8238-5fef-4c7e-8d01-d4135ab242d0",
   "metadata": {},
   "outputs": [
    {
     "data": {
      "text/html": [
       "<div>\n",
       "<style scoped>\n",
       "    .dataframe tbody tr th:only-of-type {\n",
       "        vertical-align: middle;\n",
       "    }\n",
       "\n",
       "    .dataframe tbody tr th {\n",
       "        vertical-align: top;\n",
       "    }\n",
       "\n",
       "    .dataframe thead th {\n",
       "        text-align: right;\n",
       "    }\n",
       "</style>\n",
       "<table border=\"1\" class=\"dataframe\">\n",
       "  <thead>\n",
       "    <tr style=\"text-align: right;\">\n",
       "      <th></th>\n",
       "      <th>ID</th>\n",
       "      <th>NOMBRE</th>\n",
       "      <th>CIUDAD</th>\n",
       "      <th>NOTAS</th>\n",
       "    </tr>\n",
       "  </thead>\n",
       "  <tbody>\n",
       "    <tr>\n",
       "      <th>0</th>\n",
       "      <td>0</td>\n",
       "      <td>Luis</td>\n",
       "      <td>Madrid</td>\n",
       "      <td>8.50</td>\n",
       "    </tr>\n",
       "    <tr>\n",
       "      <th>1</th>\n",
       "      <td>3</td>\n",
       "      <td>Nuria</td>\n",
       "      <td>Alicante</td>\n",
       "      <td>9.75</td>\n",
       "    </tr>\n",
       "  </tbody>\n",
       "</table>\n",
       "</div>"
      ],
      "text/plain": [
       "   ID NOMBRE    CIUDAD  NOTAS\n",
       "0   0   Luis    Madrid   8.50\n",
       "1   3  Nuria  Alicante   9.75"
      ]
     },
     "execution_count": 74,
     "metadata": {},
     "output_type": "execute_result"
    }
   ],
   "source": [
    "query = '''DELETE FROM Master_Class\n",
    "WHERE notas <7 '''\n",
    "cursor_gestion.execute(query)\n",
    "pd.read_sql(\"SELECT * FROM Master_Class\", connection)"
   ]
  },
  {
   "cell_type": "code",
   "execution_count": 73,
   "id": "599f3304-2f5f-4506-8114-ec3bf2ea5584",
   "metadata": {},
   "outputs": [],
   "source": [
    "#hacer el commit paraa que se quede en la base\n",
    "connection.commit()"
   ]
  },
  {
   "cell_type": "markdown",
   "id": "86f1b12c-4b1a-4ab7-ae42-fa2a16383b8a",
   "metadata": {},
   "source": [
    "### Borrado de columnas\n",
    "Igual que en pandas tenemos el método `drop` con su argumento columns para borrar columnas en SQL tenemos:\n",
    "\n",
    "\n",
    "```sql\n",
    "ALTER TABLE nombre_tabla DROP COLUMN nombre_columna;\n",
    "```\n",
    "\n",
    "- **nombre_tabla:** Es el nombre de la tabla de la que deseas eliminar una columna.\n",
    "- **nombre_columna:** Es el nombre de la columna que deseas eliminar.\n",
    "\n",
    "\n",
    "\n",
    "**Nota Importante:**\n",
    "- Algunos sistemas de bases de datos pueden requerir modificadores adicionales o tener restricciones específicas para eliminar columnas. Por ejemplo, si otras tablas dependen de la columna que estás intentando eliminar (a través de claves foráneas, por ejemplo), es posible que necesites modificar o eliminar esas dependencias antes de poder eliminar la columna.\n",
    "- Siempre es una buena práctica hacer una copia de seguridad de tu base de datos antes de realizar cambios estructurales como eliminar columnas."
   ]
  },
  {
   "cell_type": "markdown",
   "id": "2753d461-9df9-4ba8-8390-a300bb238335",
   "metadata": {},
   "source": [
    " borrar la columna \"edad\":"
   ]
  },
  {
   "cell_type": "code",
   "execution_count": 69,
   "id": "9e97e1f3-3ded-4b92-9ce3-48392ef5c0c2",
   "metadata": {},
   "outputs": [
    {
     "ename": "OperationalError",
     "evalue": "no such column: \"edad\"",
     "output_type": "error",
     "traceback": [
      "\u001b[1;31m---------------------------------------------------------------------------\u001b[0m",
      "\u001b[1;31mOperationalError\u001b[0m                          Traceback (most recent call last)",
      "Cell \u001b[1;32mIn[69], line 4\u001b[0m\n\u001b[0;32m      1\u001b[0m query \u001b[38;5;241m=\u001b[39m \u001b[38;5;124m'''\u001b[39m\n\u001b[0;32m      2\u001b[0m \u001b[38;5;124mALTER TABLE Master_Class\u001b[39m\n\u001b[0;32m      3\u001b[0m \u001b[38;5;124mDROP COLUMN edad\u001b[39m\u001b[38;5;124m'''\u001b[39m\n\u001b[1;32m----> 4\u001b[0m \u001b[43mcursor_gestion\u001b[49m\u001b[38;5;241;43m.\u001b[39;49m\u001b[43mexecute\u001b[49m\u001b[43m(\u001b[49m\u001b[43mquery\u001b[49m\u001b[43m)\u001b[49m\n",
      "\u001b[1;31mOperationalError\u001b[0m: no such column: \"edad\""
     ]
    }
   ],
   "source": [
    "query = '''\n",
    "ALTER TABLE Master_Class\n",
    "DROP COLUMN edad'''\n",
    "cursor_gestion.execute(query)"
   ]
  },
  {
   "cell_type": "code",
   "execution_count": 70,
   "id": "a8e68352-c384-493e-9675-834483c199fa",
   "metadata": {},
   "outputs": [
    {
     "data": {
      "text/html": [
       "<div>\n",
       "<style scoped>\n",
       "    .dataframe tbody tr th:only-of-type {\n",
       "        vertical-align: middle;\n",
       "    }\n",
       "\n",
       "    .dataframe tbody tr th {\n",
       "        vertical-align: top;\n",
       "    }\n",
       "\n",
       "    .dataframe thead th {\n",
       "        text-align: right;\n",
       "    }\n",
       "</style>\n",
       "<table border=\"1\" class=\"dataframe\">\n",
       "  <thead>\n",
       "    <tr style=\"text-align: right;\">\n",
       "      <th></th>\n",
       "      <th>ID</th>\n",
       "      <th>NOMBRE</th>\n",
       "      <th>CIUDAD</th>\n",
       "      <th>NOTAS</th>\n",
       "    </tr>\n",
       "  </thead>\n",
       "  <tbody>\n",
       "    <tr>\n",
       "      <th>0</th>\n",
       "      <td>0</td>\n",
       "      <td>Luis</td>\n",
       "      <td>Madrid</td>\n",
       "      <td>8.50</td>\n",
       "    </tr>\n",
       "    <tr>\n",
       "      <th>1</th>\n",
       "      <td>3</td>\n",
       "      <td>Nuria</td>\n",
       "      <td>Alicante</td>\n",
       "      <td>9.75</td>\n",
       "    </tr>\n",
       "  </tbody>\n",
       "</table>\n",
       "</div>"
      ],
      "text/plain": [
       "   ID NOMBRE    CIUDAD  NOTAS\n",
       "0   0   Luis    Madrid   8.50\n",
       "1   3  Nuria  Alicante   9.75"
      ]
     },
     "execution_count": 70,
     "metadata": {},
     "output_type": "execute_result"
    }
   ],
   "source": [
    "pd.read_sql(\"SELECT * FROM Master_Class\", connection) #desaparece la columna edad"
   ]
  },
  {
   "cell_type": "code",
   "execution_count": 71,
   "id": "2846b6c6-e74c-4d6a-9dcf-9e762f995932",
   "metadata": {},
   "outputs": [],
   "source": [
    "connection.commit() #parra que se guarden los cambios"
   ]
  },
  {
   "cell_type": "markdown",
   "id": "36cbb2b2-575d-4c26-9638-be398f58f56c",
   "metadata": {},
   "source": [
    "### Borrado de tablas"
   ]
  },
  {
   "cell_type": "markdown",
   "id": "1ffc5721-3ffd-4647-b212-7d815c3fb016",
   "metadata": {},
   "source": [
    "```sql\n",
    "DROP TABLE nombre_tabla;\n",
    "```\n",
    "\n",
    "**Algunas consideraciones importantes:**\n",
    "\n",
    "1. **Cuidado con los Datos:** Al usar `DROP TABLE`, la tabla y todos sus datos se eliminan permanentemente. No hay forma de deshacer esta acción en la mayoría de los sistemas de gestión de bases de datos. Asegúrate de que realmente deseas eliminar la tabla y de que has realizado una copia de seguridad de los datos si es necesario.\n",
    "\n",
    "2. **Dependencias:** Si la tabla está referenciada por otras tablas a través de claves foráneas u otros mecanismos de integridad referencial, es posible que primero debas eliminar o modificar estas dependencias.\n",
    "\n",
    "3. **Sintaxis Específica del SGBD:** La sintaxis básica de `DROP TABLE` es bastante uniforme en los diferentes sistemas de gestión de bases de datos (SGBD), pero algunos pueden ofrecer opciones adicionales. Por ejemplo, en algunos SGBD puedes usar `DROP TABLE IF EXISTS nombre_tabla;` para evitar errores si la tabla no existe.\n",
    "\n",
    "4. **Permisos:** Necesitas tener los permisos adecuados en la base de datos para eliminar tablas. Si no tienes los permisos necesarios, la operación fallará."
   ]
  },
  {
   "cell_type": "code",
   "execution_count": 75,
   "id": "825ef124-f575-43bc-943f-1d2bf5e159a1",
   "metadata": {},
   "outputs": [
    {
     "data": {
      "text/plain": [
       "<sqlite3.Cursor at 0x1cbf1024ec0>"
      ]
     },
     "execution_count": 75,
     "metadata": {},
     "output_type": "execute_result"
    }
   ],
   "source": [
    "querry = '''\n",
    "DROP TABLE Master_Class\n",
    "'''\n",
    "cursor_gestion.execute(query)"
   ]
  },
  {
   "cell_type": "code",
   "execution_count": 76,
   "id": "614297aa-2f57-492d-aa9a-4de43677b150",
   "metadata": {},
   "outputs": [
    {
     "data": {
      "text/html": [
       "<div>\n",
       "<style scoped>\n",
       "    .dataframe tbody tr th:only-of-type {\n",
       "        vertical-align: middle;\n",
       "    }\n",
       "\n",
       "    .dataframe tbody tr th {\n",
       "        vertical-align: top;\n",
       "    }\n",
       "\n",
       "    .dataframe thead th {\n",
       "        text-align: right;\n",
       "    }\n",
       "</style>\n",
       "<table border=\"1\" class=\"dataframe\">\n",
       "  <thead>\n",
       "    <tr style=\"text-align: right;\">\n",
       "      <th></th>\n",
       "      <th>name</th>\n",
       "    </tr>\n",
       "  </thead>\n",
       "  <tbody>\n",
       "    <tr>\n",
       "      <th>0</th>\n",
       "      <td>Master_Class</td>\n",
       "    </tr>\n",
       "  </tbody>\n",
       "</table>\n",
       "</div>"
      ],
      "text/plain": [
       "           name\n",
       "0  Master_Class"
      ]
     },
     "execution_count": 76,
     "metadata": {},
     "output_type": "execute_result"
    }
   ],
   "source": [
    "pd.read_sql(\"SELECT Name FROM sqlite_master WHERE type = 'table'\", connection)\n",
    "#se borraría la tabla, pero hay que hacer commit para guardar\n",
    "#hay gestores que hacen commit automático, no hay que fiarse nunca."
   ]
  },
  {
   "cell_type": "code",
   "execution_count": 77,
   "id": "c7c744fb-ba01-420b-ba77-6dc1e84c6fca",
   "metadata": {},
   "outputs": [],
   "source": [
    "#cerrar conexión\n",
    "connection.close()"
   ]
  },
  {
   "cell_type": "code",
   "execution_count": null,
   "id": "b54c8307-7d99-4e16-a44c-ea00a48b9696",
   "metadata": {},
   "outputs": [],
   "source": []
  }
 ],
 "metadata": {
  "kernelspec": {
   "display_name": "Python 3 (ipykernel)",
   "language": "python",
   "name": "python3"
  },
  "language_info": {
   "codemirror_mode": {
    "name": "ipython",
    "version": 3
   },
   "file_extension": ".py",
   "mimetype": "text/x-python",
   "name": "python",
   "nbconvert_exporter": "python",
   "pygments_lexer": "ipython3",
   "version": "3.10.11"
  }
 },
 "nbformat": 4,
 "nbformat_minor": 5
}
