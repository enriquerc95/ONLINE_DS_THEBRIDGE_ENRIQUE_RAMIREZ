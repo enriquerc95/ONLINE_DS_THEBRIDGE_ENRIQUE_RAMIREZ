{
 "cells": [
  {
   "cell_type": "markdown",
   "id": "be360ac9-e5dc-457a-9949-1d2f1dd4452b",
   "metadata": {},
   "source": [
    "## Tipos de los datos\n",
    "* **Numérico**: tenemos `int`, `float` y `complex`. Dependiendo de si es un numero entero, uno real o un complejo.\n",
    "* **String**: o Cadena. Cadena de texto plano\n",
    "* **Booleano**: o Lógico. `True`/`False`\n",
    "\n",
    "**¿Cómo sabemos el tipo de datos de una variable?** Mediante `type(nombre_variable)`"
   ]
  },
  {
   "cell_type": "markdown",
   "id": "d04c6c48-d28d-4f86-a750-4e725c11df6d",
   "metadata": {},
   "source": [
    "Algunas operaciones básicas que podemos hacer con los numeros:\n",
    "* Sumar: `+`\n",
    "* Restar: `-`\n",
    "* Multiplicar: `*`\n",
    "* Dividir: `/`\n",
    "* Elevar: `**`\n",
    "* Cociente division: `//`\n",
    "* Resto de la división: `%`"
   ]
  },
  {
   "cell_type": "code",
   "execution_count": 3,
   "id": "41ae5d0b-8483-440e-bb88-66b505b06149",
   "metadata": {},
   "outputs": [
    {
     "name": "stdout",
     "output_type": "stream",
     "text": [
      "Sumas/restas\n",
      "3\n",
      "3.0\n",
      "-1.0\n",
      "3.0\n",
      "-1\n"
     ]
    }
   ],
   "source": [
    "print(\"Sumas/restas\")\n",
    "print(1 + 2)\n",
    "print(1.0 + 2) # Fijate que cuando fuerzo a que alguno de los numeros sea float, el resultado es float\n",
    "print(1.0 - 2) #Siempre que opero float e int, nos dará float como tipo de resultado\n",
    "print(1 + 2.0)\n",
    "print(1-2)"
   ]
  },
  {
   "cell_type": "code",
   "execution_count": 7,
   "id": "400533ce-d14a-4ae5-8ad5-b0ffae0b4941",
   "metadata": {},
   "outputs": [
    {
     "name": "stdout",
     "output_type": "stream",
     "text": [
      "Multiplicaciones/Divisiones\n",
      "4\n",
      "4.0\n",
      "1.0\n",
      "100.0\n"
     ]
    }
   ],
   "source": [
    "print(\"Multiplicaciones/Divisiones\")\n",
    "print(2 * 2)\n",
    "print(2.0 * 2) # Ocurre lo mismo que en las sumas, cuando ponemos uno de los numeros como float.\n",
    "print(2/2) # Al hacer la división, directamente convierte el numero en float, a pesar de que los dos son enteros y el resultado también.\n",
    "print(1000/10)"
   ]
  },
  {
   "cell_type": "code",
   "execution_count": 8,
   "id": "ed6dc08c-daf9-450d-8308-45b35eb0eb29",
   "metadata": {},
   "outputs": [
    {
     "name": "stdout",
     "output_type": "stream",
     "text": [
      "Resto de la división\n",
      "3.3333333333333335\n",
      "3\n",
      "1\n",
      "3\n"
     ]
    }
   ],
   "source": [
    "print(\"Resto de la división\")\n",
    "print(10/3)\n",
    "print(int(10/3)) # Me quedo con el entero de la division\n",
    "print(10 % 3) # Me quedo con el resto de la division, se queda con la parte entera, no redondea\n",
    "print(10//3)"
   ]
  },
  {
   "cell_type": "code",
   "execution_count": 9,
   "id": "26f5faea-775f-4c26-88c1-19ec4c08c5ad",
   "metadata": {},
   "outputs": [
    {
     "name": "stdout",
     "output_type": "stream",
     "text": [
      "Saber si un número es par\n",
      "¿Es 435678910 par?\n",
      "El resto es 0\n",
      "es par\n"
     ]
    }
   ],
   "source": [
    "print(\"Saber si un número es par\")\n",
    "n = 435678910\n",
    "print(\"¿Es\", n, \"par?\")\n",
    "resto = n % 2\n",
    "print(\"El resto es\", resto)\n",
    "if resto == 0:       #If  significa \"si\", si esta condición se cumple, si la variableresto tiene el valos 0, print es par\n",
    "    print(\"es par\")\n",
    "else:                #Si no se cumple usamos else, quiere decir que si no se cumple la condición de if, se cumple la del else.\n",
    "    print(\"Es impar\")"
   ]
  },
  {
   "cell_type": "markdown",
   "id": "53b19d3a-8651-49e3-a041-196cc585b954",
   "metadata": {},
   "source": [
    "Para unir dos variables de tipo String, simplemente usamos el `+`"
   ]
  },
  {
   "cell_type": "code",
   "execution_count": 11,
   "id": "b247c4b5-3f79-41d2-8f27-ba7de6bce9a2",
   "metadata": {},
   "outputs": [
    {
     "name": "stdout",
     "output_type": "stream",
     "text": [
      "Antonia Scott\n"
     ]
    }
   ],
   "source": [
    "nombre = \"Antonia\"\n",
    "apellido = \"Scott\"\n",
    "nombre_apellido = (nombre + \" \" +apellido)\n",
    "print(nombre_apellido)"
   ]
  },
  {
   "cell_type": "markdown",
   "id": "19fb5b3d-b3f6-445b-a12f-0da5cc171e67",
   "metadata": {},
   "source": [
    "### Booleano\n",
    "  [al indice](#Contenidos)\n",
    "\n",
    "Por último, el cuarto tipo de datos basiquísimo es el *booleano*: `True`/`False`. Para que Python reconoza este tipo de datos, hay que escribirlos con la primera letra en mayúscula"
   ]
  },
  {
   "cell_type": "code",
   "execution_count": null,
   "id": "9b9dafe4-11ff-429e-800a-798e2f5e7dae",
   "metadata": {},
   "outputs": [],
   "source": [
    "True "
   ]
  },
  {
   "cell_type": "markdown",
   "id": "56a3b553-964f-4984-ae74-6c6457d7cd28",
   "metadata": {},
   "source": [
    "Tipos de datos hay muchos, verás más adelante cómo crear tus propios tipos de datos mediante las clases y los objetos. Pero por ahora, quédate con los tipos de datos más simples:\n",
    "* **int**: entero\n",
    "* **float**: real\n",
    "* **str**: cadena de texto\n",
    "* **booleano**: true/false"
   ]
  },
  {
   "cell_type": "markdown",
   "id": "f473d127-24b6-4c2f-822b-424b2abcae79",
   "metadata": {},
   "source": [
    "## Conversión de tipos  "
   ]
  },
  {
   "cell_type": "code",
   "execution_count": 12,
   "id": "a591311d-946b-4369-9208-c6bac65f4027",
   "metadata": {},
   "outputs": [
    {
     "name": "stdout",
     "output_type": "stream",
     "text": [
      "<class 'float'>\n",
      "24\n",
      "<class 'int'>\n"
     ]
    }
   ],
   "source": [
    "num_real =24.69\n",
    "print(type(num_real))\n",
    "num_entero = int(num_real)\n",
    "print(num_entero)\n",
    "print(type(num_entero))"
   ]
  },
  {
   "cell_type": "code",
   "execution_count": 14,
   "id": "6bbd2f48-8008-4c5a-a3d8-f48483eca194",
   "metadata": {},
   "outputs": [
    {
     "name": "stdout",
     "output_type": "stream",
     "text": [
      "24.686\n",
      "25.0\n"
     ]
    }
   ],
   "source": [
    "# Esta funcion tiene dos argumentos: el número y la cantidad de decimales que queremos conservar.\n",
    "# Veremos funciones más adelante.\n",
    "num_real = 24.686\n",
    "print(num_real)\n",
    "num_redondeado = round(num_real,0)\n",
    "print(num_redondeado)"
   ]
  },
  {
   "cell_type": "code",
   "execution_count": null,
   "id": "74690f0a-77d5-436f-b0a9-821a91d31f2d",
   "metadata": {},
   "outputs": [],
   "source": [
    "num_redondeado = 24.69\n",
    "num_convertido = round (num_redondeado,0)\n",
    "print(num_convertido, type(num_convertido))\n",
    "print(int(num_convertido))"
   ]
  },
  {
   "cell_type": "code",
   "execution_count": null,
   "id": "0c5d6d7f-6df4-445d-b54d-fa5424a3c6dc",
   "metadata": {},
   "outputs": [],
   "source": [
    "#pasar de num a string\n",
    "num_real = 24.69\n",
    "num_entero = 12\n",
    "\n",
    "real_str = str(num_real)\n",
    "entero_str =str(num_entero)\n",
    "print(real_str, \"su tipo\", type(real_str))\n",
    "print(entero_str, \"su tipo\", type(entero_str))"
   ]
  },
  {
   "cell_type": "code",
   "execution_count": 16,
   "id": "9df55c11-fb16-4a0b-bf66-7c2fe20357d1",
   "metadata": {},
   "outputs": [
    {
     "name": "stdout",
     "output_type": "stream",
     "text": [
      "98 <class 'str'>\n",
      "98 <class 'int'>\n",
      "98.33 <class 'float'>\n"
     ]
    }
   ],
   "source": [
    "#string a número\n",
    "mi_cadena = \"98\"\n",
    "mi_entero = int(mi_cadena)\n",
    "print(mi_cadena, type(mi_cadena))\n",
    "print(mi_entero, type(mi_entero))\n",
    "mi_cadena_real = \"98.33\"\n",
    "mi_real = float(mi_cadena_real)\n",
    "print(mi_real, type(mi_real))"
   ]
  },
  {
   "cell_type": "markdown",
   "id": "77ff37fb-55c1-4311-92bb-979070035856",
   "metadata": {},
   "source": [
    "Pasar de **numero a boleano y viceversa**, tambien es bastante sencillo. Simplemente ten en cuenta que los 0s son `False`, y el resto de numeros equivalen a un `True`"
   ]
  },
  {
   "cell_type": "code",
   "execution_count": 15,
   "id": "1813e7fa-6d30-4f5e-b6f9-adc33a8f99d8",
   "metadata": {},
   "outputs": [
    {
     "name": "stdout",
     "output_type": "stream",
     "text": [
      "True\n"
     ]
    },
    {
     "data": {
      "text/plain": [
       "(None, bool)"
      ]
     },
     "execution_count": 15,
     "metadata": {},
     "output_type": "execute_result"
    }
   ],
   "source": [
    "booleano = bool(123)\n",
    "print(booleano), type(booleano)"
   ]
  },
  {
   "cell_type": "code",
   "execution_count": 17,
   "id": "6c69c00e-175a-491f-9329-d4c8f3ec8bd2",
   "metadata": {},
   "outputs": [
    {
     "name": "stdout",
     "output_type": "stream",
     "text": [
      "False <class 'bool'>\n"
     ]
    }
   ],
   "source": [
    "booleano = bool(0)\n",
    "print(booleano,type(booleano))\n"
   ]
  },
  {
   "cell_type": "markdown",
   "id": "8c4e35f8-3327-49c8-a7bf-ff6149468c06",
   "metadata": {},
   "source": [
    "En el caso de transformar **String a booleano**, los strings vacíos serán `False`, mientras que los que tengan cualquier cadena, equivaldrán a `True`.\n",
    "\n",
    "Sin embargo, si la operación es la inversa, el booleano `True` pasará a valer una cadena de texto como `True`, y para `False` lo mismo."
   ]
  },
  {
   "cell_type": "code",
   "execution_count": 18,
   "id": "2a1c5715-28f1-4476-a232-0cfa64dfe703",
   "metadata": {},
   "outputs": [
    {
     "name": "stdout",
     "output_type": "stream",
     "text": [
      "False <class 'bool'>\n",
      "True <class 'bool'>\n"
     ]
    }
   ],
   "source": [
    "booleano =bool(\"\")\n",
    "booleano_2 = bool(\"Esto es otro tipo de booleano al hacer la conversión\")\n",
    "print(booleano, type(booleano))\n",
    "print(booleano_2, type(booleano_2))"
   ]
  },
  {
   "cell_type": "code",
   "execution_count": 19,
   "id": "ac288688-1e70-4d88-8d4a-f508c897634c",
   "metadata": {},
   "outputs": [
    {
     "name": "stdout",
     "output_type": "stream",
     "text": [
      "False True\n"
     ]
    }
   ],
   "source": [
    "bool_str = str(booleano)\n",
    "bool_2_str = str(booleano_2)\n",
    "print(bool_str, bool_2_str)"
   ]
  },
  {
   "cell_type": "markdown",
   "id": "9fa533ec-fc2b-481c-9c99-4417d52975db",
   "metadata": {},
   "source": [
    "## Operaciones aritméticas  \n",
    "[al indice](#Contenidos)   \n",
    "\n",
    "Hace un par de sesiones ya vimos por encima las principales operaciones aritméticas en Python. Las recordamos:\n",
    "* Sumar: `+`\n",
    "* Restar: `-`\n",
    "* Multiplicar: `*`\n",
    "* Dividir: `/`\n",
    "* Elevar: `**`\n",
    "* Cociente division: `//`\n",
    "* Resto de la división: `%`"
   ]
  },
  {
   "cell_type": "markdown",
   "id": "c9e62cd5-d9a9-461c-a481-0f12f73dd06a",
   "metadata": {},
   "source": [
    "### Propiedad conmutativa, asociativa, distributiva y el paréntesis\n",
    "Si queremos concatenar varias operaciones, ten siempre en cuenta las propiedades matemáticas de la multiplicación"
   ]
  },
  {
   "cell_type": "code",
   "execution_count": 20,
   "id": "c0e91f32-8a73-4797-ae04-b47dbc8017a7",
   "metadata": {},
   "outputs": [
    {
     "name": "stdout",
     "output_type": "stream",
     "text": [
      "Conmutativa\n",
      "6\n",
      "6\n",
      "\n",
      "Asociativa\n",
      "30\n",
      "30\n",
      "\n",
      "Distributiva\n",
      "16\n",
      "16\n",
      "\n",
      "El Orden de operaciones se mantiene. Siempre podemos usar paréntesis\n",
      "50\n",
      "1.7272727272727273\n"
     ]
    }
   ],
   "source": [
    "print(\"Conmutativa\")\n",
    "print(2 * 3)\n",
    "print(3 * 2)\n",
    "\n",
    "print(\"\\nAsociativa\") # Recuerda que \"\\n\" se usa para que haya un salto de linea en el output.\n",
    "print((3 * 2) * 5)\n",
    "print(3 * (2 * 5))\n",
    "\n",
    "print(\"\\nDistributiva\")\n",
    "print(2 * (3 + 5))\n",
    "print(2 * 3 + 2 * 5)\n",
    "\n",
    "print(\"\\nEl Orden de operaciones se mantiene. Siempre podemos usar paréntesis\")\n",
    "print(2 * (2 + 3) * 5)\n",
    "print((2 * 2 + 3 * 5)/(4 + 7))"
   ]
  },
  {
   "cell_type": "markdown",
   "id": "366540ed-f067-450d-9633-7d31b0417bdf",
   "metadata": {},
   "source": [
    "* Raíz cuadrada\n",
    "* Seno/Coseno\n",
    "* Valor absoluto"
   ]
  },
  {
   "cell_type": "code",
   "execution_count": 21,
   "id": "ac3ec48a-fe6c-4d56-bd12-e4e133a20385",
   "metadata": {},
   "outputs": [
    {
     "name": "stdout",
     "output_type": "stream",
     "text": [
      "5.0\n",
      "1.0\n",
      "123.45\n"
     ]
    }
   ],
   "source": [
    "import math\n",
    "print(math.sqrt(25))\n",
    "print(math.cos(0))\n",
    "print(math.fabs(-123.45))\n"
   ]
  },
  {
   "cell_type": "markdown",
   "id": "b64838c8-83d9-4bae-b7c7-8d5dbc6a3a60",
   "metadata": {},
   "source": [
    "## Operaciones comparativas  \n",
    "[al indice](#Contenidos)  \n",
    "\n",
    "Es bastante intuitivo comparar valores en Python. La sintaxis es la siguiente:\n",
    "* `==`: Igualdad. No es un `=`. Hay que diferenciar entre una comparativa, y una asignación de valores\n",
    "* `!=`: Desigualdad\n",
    "* `>`: Mayor que\n",
    "* `<`: Menor que\n",
    "* `>=`: Mayor o igual que\n",
    "* `<=`: Menor o igual que"
   ]
  },
  {
   "cell_type": "code",
   "execution_count": 22,
   "id": "15cb97ad-c86b-429c-b1a7-f2f3b443c1d5",
   "metadata": {},
   "outputs": [
    {
     "name": "stdout",
     "output_type": "stream",
     "text": [
      "1\n",
      "False\n",
      "False\n"
     ]
    }
   ],
   "source": [
    "# asignacion\n",
    "asign= 1\n",
    "print(asign)\n",
    "print(asign==5)\n",
    "print(asign != 1)"
   ]
  },
  {
   "cell_type": "code",
   "execution_count": 23,
   "id": "cb705ab7-0e2f-4287-9968-c63e01d07a63",
   "metadata": {},
   "outputs": [
    {
     "name": "stdout",
     "output_type": "stream",
     "text": [
      "False\n",
      "True\n",
      "True\n"
     ]
    }
   ],
   "source": [
    "print(\"AAA\"==\"BBB\")\n",
    "print(\"AAA\" == \"AAA\")\n",
    "print(93>12)"
   ]
  },
  {
   "cell_type": "markdown",
   "id": "68d9bafa-4b3e-44a7-a7a5-21a4f59c4d67",
   "metadata": {},
   "source": [
    "## Funciones (I): *Built in*  \n",
    "[al indice](#Contenidos)  \n",
    "\n",
    "\n",
    "Hay una serie de funciones internas, que vienen en el intérprete de Python. Algunas de las más comunes son:\n",
    "* **Tipos**: `bool()`, `str()`, `int()`, `float()`\n",
    "* **Min/Max**: `min()`, `max()`\n",
    "* **print()**\n",
    "* **type()**\n",
    "* **range()**\n",
    "* **zip()**\n",
    "* **len()**\n",
    "* ..."
   ]
  },
  {
   "cell_type": "code",
   "execution_count": 24,
   "id": "f8b5a5b7-5fce-4a22-9e1b-5f1d4a81d6b5",
   "metadata": {},
   "outputs": [
    {
     "name": "stdout",
     "output_type": "stream",
     "text": [
      "33\n",
      "25\n"
     ]
    }
   ],
   "source": [
    "# Len se usa para calcular la longitud de una variable. Ya veras que lo usaremos mucho en colecciones\n",
    "print(len(\"Esto es una cadena de longitud...\"))\n",
    "\n",
    "\n",
    "# Funcion max. Tiene tantos argumentos como cantidad de números entre los cuales queramos sacar su valor máximo.\n",
    "print(max(1,12,24,25,6))\n"
   ]
  },
  {
   "cell_type": "markdown",
   "id": "31fd596a-44aa-41dc-9fd9-5910668639d2",
   "metadata": {},
   "source": [
    "## Métodos  \n",
    "[al indice](#Contenidos)  \n",
    "Para usar un método se usa la sintaxis `objeto.metodo()`."
   ]
  },
  {
   "cell_type": "code",
   "execution_count": 25,
   "id": "3d990094-6ed4-4efb-9a1b-49760af2a517",
   "metadata": {},
   "outputs": [
    {
     "name": "stdout",
     "output_type": "stream",
     "text": [
      "STRING EN MINUSCULAS\n",
      "esto es un ejemplo diferente\n",
      "esto es un ejemplo diferente\n",
      "ctring en minucculac\n",
      "string en minúsculas\n",
      "tring en minucula\n",
      "['Esto', 'se', 'va', 'a', 'convertir', 'en', 'una', 'lista', 'de', 'strings']\n",
      "10\n"
     ]
    }
   ],
   "source": [
    "string_ejemplo = \"string en minusculas\"\n",
    "\n",
    "#metodo string en mayus\n",
    "print(string_ejemplo.upper())\n",
    "string_ejemplo\n",
    "\n",
    "#metodo en minusculas\n",
    "print(\"ESTO ES UN EJEMPLO DIFERENTE\".lower())\n",
    "string_ejemplo_2 =\"ESTO ES UN EJEMPLO DIFERENTE\"\n",
    "print(string_ejemplo_2.lower())\n",
    "\n",
    "#método para reemplazar algún caracter o varios\n",
    "print(string_ejemplo.replace(\"s\",\"c\"))\n",
    "print(string_ejemplo.replace(\"minusculas\", \"minúsculas\"))\n",
    "print(string_ejemplo.replace(\"s\", \"\"))\n",
    "\n",
    "#Método convertir string en lista\n",
    "print(\"Esto se va a convertir en una lista de strings\".split(\" \"))#Método para conocer la posición dentro de un string\n",
    "\n",
    "\n",
    "#Método para conocer la posición dentro de un string\n",
    "print(string_ejemplo.index(\"m\"))"
   ]
  },
  {
   "cell_type": "markdown",
   "id": "6a6c6797-7a96-45e2-98d4-fbcecf05a71f",
   "metadata": {},
   "source": [
    "## Listas\n",
    "**Nos permiten almacenar conjuntos de variables u objetos**, y son\n",
    "* **Mutables**: una vez se ha creado la lista, se puede modificar\n",
    "* **Ordenada**: Los elementos tienen un cierto orden, lo que nos permite acceder al elemento que queramos teniendo en cuenta tal orden"
   ]
  },
  {
   "cell_type": "code",
   "execution_count": 26,
   "id": "bee454d9-3956-4104-bda7-d319e136fd38",
   "metadata": {},
   "outputs": [
    {
     "name": "stdout",
     "output_type": "stream",
     "text": [
      "[1, 2, 3, 5, 6]\n",
      "<class 'list'>\n",
      "['esto', 'es', 'lista']\n",
      "[True, False, True, True, False]\n"
     ]
    },
    {
     "ename": "NameError",
     "evalue": "name 'lista' is not defined",
     "output_type": "error",
     "traceback": [
      "\u001b[1;31m---------------------------------------------------------------------------\u001b[0m",
      "\u001b[1;31mNameError\u001b[0m                                 Traceback (most recent call last)",
      "Cell \u001b[1;32mIn[26], line 14\u001b[0m\n\u001b[0;32m     11\u001b[0m \u001b[38;5;28mbool\u001b[39m \u001b[38;5;241m=\u001b[39m [\u001b[38;5;28;01mTrue\u001b[39;00m, \u001b[38;5;28;01mFalse\u001b[39;00m, \u001b[38;5;129;01mnot\u001b[39;00m \u001b[38;5;28;01mFalse\u001b[39;00m, \u001b[38;5;28;01mTrue\u001b[39;00m \u001b[38;5;129;01mor\u001b[39;00m \u001b[38;5;28;01mFalse\u001b[39;00m, \u001b[38;5;28;01mFalse\u001b[39;00m \u001b[38;5;129;01mand\u001b[39;00m \u001b[38;5;28;01mFalse\u001b[39;00m]\n\u001b[0;32m     12\u001b[0m \u001b[38;5;28mprint\u001b[39m(\u001b[38;5;28mbool\u001b[39m)\n\u001b[1;32m---> 14\u001b[0m \u001b[38;5;28mlen\u001b[39m(\u001b[43mlista\u001b[49m) \u001b[38;5;66;03m#para saber el número de elementos de la lista\u001b[39;00m\n\u001b[0;32m     15\u001b[0m conc \u001b[38;5;241m=\u001b[39m mix \u001b[38;5;241m+\u001b[39m lista\n\u001b[0;32m     16\u001b[0m \u001b[38;5;28mprint\u001b[39m(conc)\n",
      "\u001b[1;31mNameError\u001b[0m: name 'lista' is not defined"
     ]
    }
   ],
   "source": [
    "# Lista numeros = \n",
    "numeros = [1,2,3,5,6]\n",
    "print(numeros)\n",
    "print(type(numeros))\n",
    "\n",
    "#lista strings\n",
    "strings = [\"esto\", \"es\",\"lista\"]\n",
    "print(strings)\n",
    "\n",
    "#se pueden hacer de booleanos\n",
    "bool = [True, False, not False, True or False, False and False]\n",
    "print(bool)\n",
    "\n",
    "len(lista) #para saber el número de elementos de la lista\n",
    "conc = mix + lista\n",
    "print(conc)\n",
    "print(type(conc))\n",
    "\n"
   ]
  },
  {
   "cell_type": "markdown",
   "id": "21c38533-675d-46e1-a5e6-15ef9b116721",
   "metadata": {},
   "source": [
    "### Metodos en Listas  "
   ]
  },
  {
   "cell_type": "code",
   "execution_count": 27,
   "id": "713630d6-8ecd-4295-834c-ba03afbe00bf",
   "metadata": {},
   "outputs": [
    {
     "name": "stdout",
     "output_type": "stream",
     "text": [
      "['física', 'química', 'mates', 'literatura', 'Filosofía']\n",
      "['física', 'Gimnasia', 'química', 'mates', 'literatura', 'Filosofía']\n",
      "['física', 'química', 'mates', 'literatura', 'Filosofía']\n",
      "['física', 'química', 'mates', 'literatura']\n",
      "['física', 'literatura', 'mates', 'química']\n"
     ]
    }
   ],
   "source": [
    "asignaturas = [\"física\", \"química\", \"mates\", \"literatura\"]\n",
    "#añadir elemento a una lista\n",
    "asignaturas.append(\"Filosofía\")\n",
    "print(asignaturas)\n",
    "\n",
    "#añadir elementois en posición determinada\n",
    "asignaturas.insert(1, \"Gimnasia\")\n",
    "print(asignaturas) \n",
    "\n",
    "#quitar elementos\n",
    "#asignaturas.clear()\n",
    "#print(asignaturas)\n",
    "\n",
    "#Quitar un elemento a partir de su índice o posición\n",
    "asignaturas.pop(1)\n",
    "print(asignaturas)\n",
    "\n",
    "#Quitar un elemento por su valor\n",
    "asignaturas.remove(\"Filosofía\")\n",
    "print(asignaturas)\n",
    "\n",
    "#Ordenar la lista\n",
    "asignaturas.sort()\n",
    "print(asignaturas)"
   ]
  },
  {
   "cell_type": "code",
   "execution_count": null,
   "id": "cf94fb63-3b27-4d6d-b4d1-6d67b1e03e55",
   "metadata": {},
   "outputs": [],
   "source": []
  }
 ],
 "metadata": {
  "kernelspec": {
   "display_name": "Python 3 (ipykernel)",
   "language": "python",
   "name": "python3"
  },
  "language_info": {
   "codemirror_mode": {
    "name": "ipython",
    "version": 3
   },
   "file_extension": ".py",
   "mimetype": "text/x-python",
   "name": "python",
   "nbconvert_exporter": "python",
   "pygments_lexer": "ipython3",
   "version": "3.10.11"
  }
 },
 "nbformat": 4,
 "nbformat_minor": 5
}
