{
 "cells": [
  {
   "cell_type": "markdown",
   "id": "33e33cd0-254d-4171-a12a-f5f77ac73812",
   "metadata": {},
   "source": [
    "## Acceso Local: Lectura, Escritura y ficheros TXT\n",
    " Un archivo es un conjunto de datos almacenados en el ordenador en forma de bits.\n",
    "Header: metadatos del archivo (nombre, tamaño, tipo...)\n",
    "Data: contenido del archivo\n",
    "End of file (EOF): caracter especial que indica el final del archivo"
   ]
  },
  {
   "cell_type": "code",
   "execution_count": null,
   "id": "4cde6ff4-afa0-46cb-ab2d-b4c9bedfe77d",
   "metadata": {},
   "outputs": [],
   "source": [
    "Si estamos trabajando en el directorio to, accederemos a cats.gif como cats.gif\n",
    "Si queremos leer dog_breeds.txt, hay que ir un directorio hacia atrás, ../dog_breeds.txt\n",
    "Y si queremos acceder a animals.csv, son dos directorios hacia atrás: ../../animals.csv"
   ]
  },
  {
   "cell_type": "markdown",
   "id": "4db209ab-2d59-4b3a-a10e-73b96a5439e9",
   "metadata": {},
   "source": [
    "## 2. Abrir ficheros\n",
    " **usaremos la función `open`**, que devuelve un objeto de tipo `File`, con unos métodos y atributos propios empleados para obtener información de los archivos abiertos. `open` sigue la siguiente sitaxis:\n",
    "\n",
    "```Python\n",
    "file_object  = open(\"filename\", \"mode\")\n",
    "```\n",
    "el modo nos dice si leemos en modo lectura o escrtura.\n",
    "l primer argumento es el nombre del archivo, mientras que en el modo tendremos que especificar si queremos leer, o escribir. Por defecto leerá, es decir, el parámetro valdrá *r*, de read. [Te dejo el enlace a la documentación para consultar el resto de modos](https://docs.python.org/3/library/functions.html#open).\n"
   ]
  },
  {
   "cell_type": "code",
   "execution_count": 2,
   "id": "9fc235ca-c579-4aaf-8fd0-3893cc44ba57",
   "metadata": {},
   "outputs": [
    {
     "ename": "FileNotFoundError",
     "evalue": "[Errno 2] No such file or directory: './data/dog_breeds.txt'",
     "output_type": "error",
     "traceback": [
      "\u001b[1;31m---------------------------------------------------------------------------\u001b[0m",
      "\u001b[1;31mFileNotFoundError\u001b[0m                         Traceback (most recent call last)",
      "Cell \u001b[1;32mIn[2], line 2\u001b[0m\n\u001b[0;32m      1\u001b[0m \u001b[38;5;66;03m#leer ficheros de texto\u001b[39;00m\n\u001b[1;32m----> 2\u001b[0m \u001b[38;5;28;01mwith\u001b[39;00m \u001b[38;5;28;43mopen\u001b[39;49m\u001b[43m(\u001b[49m\u001b[38;5;124;43m\"\u001b[39;49m\u001b[38;5;124;43m./data/dog_breeds.txt\u001b[39;49m\u001b[38;5;124;43m\"\u001b[39;49m\u001b[43m,\u001b[49m\u001b[43m \u001b[49m\u001b[38;5;124;43m\"\u001b[39;49m\u001b[38;5;124;43mr\u001b[39;49m\u001b[38;5;124;43m\"\u001b[39;49m\u001b[43m)\u001b[49m \u001b[38;5;28;01mas\u001b[39;00m open_file: \u001b[38;5;66;03m#r no haría falta, porque viene por defecto\u001b[39;00m\n\u001b[0;32m      3\u001b[0m     all_text \u001b[38;5;241m=\u001b[39m open_file\u001b[38;5;241m.\u001b[39mread()\n\u001b[0;32m      4\u001b[0m     \u001b[38;5;28mprint\u001b[39m(\u001b[38;5;28mtype\u001b[39m(all_text))\n",
      "File \u001b[1;32m~\\AppData\\Local\\Programs\\Python\\Python310\\lib\\site-packages\\IPython\\core\\interactiveshell.py:286\u001b[0m, in \u001b[0;36m_modified_open\u001b[1;34m(file, *args, **kwargs)\u001b[0m\n\u001b[0;32m    279\u001b[0m \u001b[38;5;28;01mif\u001b[39;00m file \u001b[38;5;129;01min\u001b[39;00m {\u001b[38;5;241m0\u001b[39m, \u001b[38;5;241m1\u001b[39m, \u001b[38;5;241m2\u001b[39m}:\n\u001b[0;32m    280\u001b[0m     \u001b[38;5;28;01mraise\u001b[39;00m \u001b[38;5;167;01mValueError\u001b[39;00m(\n\u001b[0;32m    281\u001b[0m         \u001b[38;5;124mf\u001b[39m\u001b[38;5;124m\"\u001b[39m\u001b[38;5;124mIPython won\u001b[39m\u001b[38;5;124m'\u001b[39m\u001b[38;5;124mt let you open fd=\u001b[39m\u001b[38;5;132;01m{\u001b[39;00mfile\u001b[38;5;132;01m}\u001b[39;00m\u001b[38;5;124m by default \u001b[39m\u001b[38;5;124m\"\u001b[39m\n\u001b[0;32m    282\u001b[0m         \u001b[38;5;124m\"\u001b[39m\u001b[38;5;124mas it is likely to crash IPython. If you know what you are doing, \u001b[39m\u001b[38;5;124m\"\u001b[39m\n\u001b[0;32m    283\u001b[0m         \u001b[38;5;124m\"\u001b[39m\u001b[38;5;124myou can use builtins\u001b[39m\u001b[38;5;124m'\u001b[39m\u001b[38;5;124m open.\u001b[39m\u001b[38;5;124m\"\u001b[39m\n\u001b[0;32m    284\u001b[0m     )\n\u001b[1;32m--> 286\u001b[0m \u001b[38;5;28;01mreturn\u001b[39;00m io_open(file, \u001b[38;5;241m*\u001b[39margs, \u001b[38;5;241m*\u001b[39m\u001b[38;5;241m*\u001b[39mkwargs)\n",
      "\u001b[1;31mFileNotFoundError\u001b[0m: [Errno 2] No such file or directory: './data/dog_breeds.txt'"
     ]
    }
   ],
   "source": [
    "#leer ficheros de texto\n",
    "with open(\"./data/dog_breeds.txt\", \"r\") as open_file: #r no haría falta, porque viene por defecto\n",
    "    all_text = open_file.read()\n",
    "    print(type(all_text))\n",
    "    print(all_text)"
   ]
  },
  {
   "cell_type": "markdown",
   "id": "369970ff-3653-4b0c-8f15-1baa4c3bb189",
   "metadata": {},
   "source": [
    "El método `.read()` nos devuelve un string con todo el texto, que no es lo ideal para tratar luego los datos.\n",
    "\n",
    "En el siguiente ejemplo vemos como también lo leemos, pero en este caso cada línea la guarda en una lista."
   ]
  },
  {
   "cell_type": "code",
   "execution_count": null,
   "id": "4ae5fed1-2e4c-4e5c-aff6-7d8ab418549e",
   "metadata": {},
   "outputs": [],
   "source": [
    "with open(\"./data/dog_breeds.txt\", \"r\") as open_file:\n",
    "    all_text = open_file.readlines()\n",
    "    print(type(all_text))\n",
    "    print(all_text) #le añade el salto de carro \"\\n"
   ]
  },
  {
   "cell_type": "code",
   "execution_count": null,
   "id": "bd3d9f16-f987-4f98-985e-45dd2d2d374f",
   "metadata": {},
   "outputs": [],
   "source": [
    "#otro estilo\n",
    "with open(\"./data/dog_breeds.txt\", \"r\") as f:\n",
    "   lineas = [line.replace(\"\\n\",\"\") for line in f] #lee linea a linea f y la devuelvbe a variable line\n",
    "#crea otra lista por compresion, quita el retorno de carro y devuelve \"\""
   ]
  },
  {
   "cell_type": "code",
   "execution_count": null,
   "id": "211da5fe-63d6-4804-b759-8482d49860a2",
   "metadata": {},
   "outputs": [],
   "source": [
    "#compresión\n",
    "#quitar terrier y spanyel de las lineas\n",
    "nuevos_datos = [perrito.replace(\"Terrier\",\"\").replace(\"Spaniel\",\"\") for perrito in lineas]\n",
    "nuevos_datos"
   ]
  },
  {
   "cell_type": "markdown",
   "id": "3099def3-35d4-476c-8918-5d3845138dbc",
   "metadata": {},
   "source": [
    "Y ahora para escribir sólo tenemos que cambiar el modo a \"w\" (sobreescribiremos lo que haya) o \"a\" (añadiremos al final)"
   ]
  },
  {
   "cell_type": "code",
   "execution_count": null,
   "id": "c43c4661-48a5-4f7c-b460-7f33699cd599",
   "metadata": {},
   "outputs": [],
   "source": [
    "with open(\"./data/dog_breeds.txt\", \"w\") as g: #suele escribir f y g\n",
    "    for linea in nuevos_datos:\n",
    "        g.write(linea + \"\\n\")\n",
    "with open(\"./data/dog_breeds.txt\", \"r\") as f: #para comprobarlo lo abrimos\n",
    "    for linea in f:\n",
    "        print(linea) #nos da el salto de carro del texto"
   ]
  },
  {
   "cell_type": "code",
   "execution_count": null,
   "id": "2d001ac8-0231-41a7-9f8e-4d5e5341ae0a",
   "metadata": {},
   "outputs": [],
   "source": []
  }
 ],
 "metadata": {
  "kernelspec": {
   "display_name": "Python 3 (ipykernel)",
   "language": "python",
   "name": "python3"
  },
  "language_info": {
   "codemirror_mode": {
    "name": "ipython",
    "version": 3
   },
   "file_extension": ".py",
   "mimetype": "text/x-python",
   "name": "python",
   "nbconvert_exporter": "python",
   "pygments_lexer": "ipython3",
   "version": "3.10.11"
  }
 },
 "nbformat": 4,
 "nbformat_minor": 5
}
