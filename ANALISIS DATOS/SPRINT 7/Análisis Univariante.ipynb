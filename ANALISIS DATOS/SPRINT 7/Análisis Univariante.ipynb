{
 "cells": [
  {
   "cell_type": "markdown",
   "id": "01c7d302-aed5-4f06-892c-e5e7adfcb350",
   "metadata": {},
   "source": [
    "## Análisis de Datos: Tendencia Central"
   ]
  },
  {
   "cell_type": "code",
   "execution_count": null,
   "id": "8c1b96d1-9755-4fd4-973d-67926b2f5197",
   "metadata": {},
   "outputs": [],
   "source": [
    "import pandas as pd\n",
    "\n",
    "df_seguros = pd.read_csv(\"./data/Marketing-Customer-Analysis.csv\")\n",
    "df_air_jun = pd.read_csv(\"./data/dataset_viajes_jun23.csv\")"
   ]
  },
  {
   "cell_type": "markdown",
   "id": "2cbac01a-82e6-4e7a-a487-f6996e4000d9",
   "metadata": {},
   "source": [
    " las medidas estadísticas que se conconen como medidas de tendencia central."
   ]
  },
  {
   "cell_type": "markdown",
   "id": "0008b5dd-e89d-4729-806e-10591ecbf44d",
   "metadata": {},
   "source": [
    "### Por qué y para qué\n",
    "+ De primeras, **permiten resumir los datos**, quizás muy mucho, por que nos resume la variable en un solo número pero de una forma consistente y con criterio.\n",
    "\n",
    "las medidas de tendencia central\n",
    "se llaman así porque indican el punto central o el **valor típico** de un conjunto de datos. Estas medidas \"tienden\" a ubicarse en el centro de la distribución de los datos. (De ahí su nombre)\n",
    "\n",
    "+ Además permiten hacer **comparaciones**, quizás gruesas, pero lo permiten,\n",
    "sí las medidas de tendencia central son una por variable.\n",
    "\n",
    "+ Un sólo valor que en función de la distribución puede servirnos para **tomar decisiones**.\n",
    "\n",
    "+ Finalmente, son la **base de cálculos más complicados** y, en general, más significativos."
   ]
  },
  {
   "cell_type": "markdown",
   "id": "ae11a99f-8fe7-446d-9fb1-4d136edc4821",
   "metadata": {},
   "source": [
    "## Medidas de tendencia central\n",
    "\n",
    "Las medidas más comunes, sin contar las medidas de posición, son:\n",
    "\n",
    "\n",
    "* **Media** Suma de todos los valores partido por el número de valores. Solo se puede hacer con numéricas.\n",
    "\n",
    "* **Moda** valor con mayor frecuencia, aplicable a las categóricas nominales\n",
    "\n",
    "* **Mediana** Se aplica tantoa las numéricas como a las categóricas nominales y m,e quedo con la que represente el 50% y si son pares me quedo con la media..\n",
    "\n",
    "Además fijate que son medidas que aplican cada una a un tipo de variable:\n",
    "\n",
    "* La media la aplicamos a numéricas discretas o continuas  \n",
    "* La mediana la podemos aplicar a numéricas pero tiene más sentido con categóricas ordinales (donde podemos establecer una relación de orden)  \n",
    "* La moda la podemos aplicar a las categóricas nominales (y también a las ordinales), no tiene mucho sentido con las numéricas con una cardinalidad media y alta  "
   ]
  },
  {
   "cell_type": "markdown",
   "id": "3a7a361f-0fef-43c7-b660-e7016be13135",
   "metadata": {},
   "source": [
    "## Media \n",
    "La [media aritmética](https://es.wikipedia.org/wiki/Media_aritm%C3%A9tica) es el valor obtenido al sumar todos los *[datos](https://es.wikipedia.org/wiki/Dato)* y dividir el resultado entre el número total elementos. Se suele representar con la letra griega $\\mu$. Si tenemos una [muestra](https://es.wikipedia.org/wiki/Muestra_estad%C3%ADstica) de $n$ valores, $x_i$, la *media aritmética*, $\\mu$, es la suma de los valores divididos por el numero de elementos; en otras palabras:\n",
    "$$\\mu = \\frac{1}{n} \\sum_{i}x_i$$"
   ]
  },
  {
   "cell_type": "markdown",
   "id": "aae810d2-9a0b-464f-88e3-a4a4298ad3e2",
   "metadata": {},
   "source": [
    "Está bien que te sepas la fórmula, aunque en Python emplearemos funciones. Los métodos de pandas y si no np.mean."
   ]
  },
  {
   "cell_type": "markdown",
   "id": "f4ad9b6f-8af9-4374-ad3c-c08dadd6417d",
   "metadata": {},
   "source": [
    "### Aplicación al Análisis"
   ]
  },
  {
   "cell_type": "markdown",
   "id": "ad2e01db-0324-4dc1-98a1-ebe90290807a",
   "metadata": {},
   "source": [
    " obtén la media de todas tus variables (numéricas y guárdala, aunque con Pandas es inmediato obtenerla)"
   ]
  },
  {
   "cell_type": "markdown",
   "id": "7e326322-9226-4574-a011-96c475ef726e",
   "metadata": {},
   "source": [
    "#### Caso 1. Seguros: Medias"
   ]
  },
  {
   "cell_type": "code",
   "execution_count": null,
   "id": "994f05cc-a3fc-4671-a650-6d2cd22da635",
   "metadata": {},
   "outputs": [],
   "source": [
    "df_seguros.describe().loc[\"mean\"] #describe nos devuelve un df, y nos da la media para cada una de las columnnas numéricas a las qque se puede aplicar."
   ]
  },
  {
   "cell_type": "code",
   "execution_count": null,
   "id": "024f7b42-9ede-4c5c-8b9f-a4e32c059a51",
   "metadata": {},
   "outputs": [],
   "source": [
    "customer_lifetime_value           8004.940475\n",
    "income                           37657.380009\n",
    "monthly_premium_auto                93.219291\n",
    "months_since_last_claim             15.097000\n",
    "months_since_policy_inception       48.064594\n",
    "number_of_open_complaints            0.384388\n",
    "number_of_policies                   2.966170\n",
    "total_claim_amount                 434.088794\n",
    "Name: mean, dtype: float64 #nos devuelve esto"
   ]
  },
  {
   "cell_type": "markdown",
   "id": "03d7d5ad-2d24-40fa-8b46-3509245f1800",
   "metadata": {},
   "source": [
    " no simplemente nos da una idea pero nos permite describir la compañía de una forma resumida:\n",
    "* Los ingresos medios de nuestros clientes son de 37K$ anuales\n",
    "* Nuestro valor medio prolongado en el tiempo es de 8K€, es decir en media un cliente suele aportar en su vida con la compañía ese valor\n",
    "* La prima media premium mensual de un seguro de coche es de 93€, es decir que cobramos unos 1116K€ en media a los clientes premium\n",
    "* Los partes de un cliente suelen distanciarse en media unos 15 meses"
   ]
  },
  {
   "cell_type": "markdown",
   "id": "2846bf55-18fc-4fec-a634-9e7cc12ed4f9",
   "metadata": {},
   "source": [
    "## Mediana \n",
    "La <a href=\"https://es.wikipedia.org/wiki/Mediana_(estad%C3%ADstica)\">mediana</a> es el valor que ocupa el lugar central de todos los datos cuando éstos están ordenados de menor a mayor. Se representa con $\\widetilde{x}$."
   ]
  },
  {
   "cell_type": "markdown",
   "id": "0e51c1a1-6739-4a93-86ab-c349628c92d1",
   "metadata": {},
   "source": [
    "Si los datos están concentrados, usamos la media, si son asimétricos, usamos la mediana, ya que será más representativa.\n",
    "\n",
    "```Python\n",
    "x = [  4,  6,  2,  1,  7,  8, 11,  3]\n",
    "```\n",
    "\n",
    "Para calcular la mediana tendríamos que ordenar los datos, y escoger el valor que caiga justo en medio\n",
    "\n",
    "```Python\n",
    "x = [  4,  6,  2,  1,  7,  8, 11,  3]\n",
    "y = [  1,  2,  3,  4,  6,  7,  8, 11]\n",
    "```\n",
    "Una vez ordenado, buscamos el valor que divide la mitad, hay 8 valores por lo cual, como es par, elegimos la media entre los dos valores que caen en el centro (4 y 6 = 5). Esto es polrque hacemos la media de los valores del centro, como no tenemos 4 y 5 , hacemo0s el cálculo 4+6=10/2=5."
   ]
  },
  {
   "cell_type": "code",
   "execution_count": null,
   "id": "7f0e50a0-65b5-4a2f-956d-afb17eddf784",
   "metadata": {},
   "outputs": [],
   "source": [
    "df_seguros.describe().loc[\"50%\"] #es el caso del percentil 50"
   ]
  },
  {
   "cell_type": "markdown",
   "id": "7f7186e8-c7b3-4fe1-a466-d6cfdde4df05",
   "metadata": {},
   "source": [
    "Comparándola con la media, podemos ver que quizás es mejor caracterizar algunos valores con la \"mediana\" para no llevarnos a subestimar o sobreestimar algunas características:"
   ]
  },
  {
   "cell_type": "markdown",
   "id": "46984728-f943-4ef4-9505-9f58aee2a115",
   "metadata": {},
   "source": [
    "Para hacer un rápido check veamos los valores máximos:\n"
   ]
  },
  {
   "cell_type": "code",
   "execution_count": null,
   "id": "9a86aeb0-4caf-4080-9b20-0d4a50d87dd5",
   "metadata": {},
   "outputs": [],
   "source": [
    "df_seguros.describe().loc[\"max\"]"
   ]
  },
  {
   "cell_type": "markdown",
   "id": "2ae22822-1c70-4847-8714-fc93cfebb8a2",
   "metadata": {},
   "source": [
    "    * Valores que destacan -> Me los apunto como interesantes para seguir.\n",
    "\n",
    "En definitiva, sin ser un gran mensajes si que me apuntaría:\n",
    "- Mirar distribuciones de CLV, mirar distribuciones de claims.\n",
    "- Mirar distribuciones de consumos, y de distancias."
   ]
  },
  {
   "cell_type": "markdown",
   "id": "ab127985-95ec-4f7b-977a-122643a5001e",
   "metadata": {},
   "source": [
    "## Moda \n",
    "La <a href=\"https://es.wikipedia.org/wiki/Moda_(estad%C3%ADstica)\">moda</a> es el valor que tiene mayor frecuencia absoluta. Se representa con $M_0$. La moda puede ser compartida por varios valores.\n",
    "\n",
    "La moda, es el valor que se repite con mayor frecuencia, es la forma que podemos aplicar en las categóricas, para ver cuantas veces se repiten.\n",
    "\n",
    "Antes hay que apuntarse todas las categóricas que teíamos:"
   ]
  },
  {
   "cell_type": "code",
   "execution_count": null,
   "id": "0f46254d-f07d-484d-8d6a-91ef781a69af",
   "metadata": {},
   "outputs": [],
   "source": [
    "categoricas_seguros = [ # Sí, conviene pasar la tabla a listas python :-)\n",
    "    \"state\",\n",
    "    \"response\",\n",
    "    \"coverage\",\n",
    "    \"education\",\n",
    "    \"employmentstatus\",\n",
    "    \"gender\",\n",
    "    \"location_code\",\n",
    "    \"marital_status\",\n",
    "    \"policy_type\",\n",
    "    \"policy\",\n",
    "    \"renew_offer_type\",\n",
    "    \"sales_channel\",\n",
    "    \"vehicle_class\",\n",
    "    \"vehicle_size\"\n",
    "]"
   ]
  },
  {
   "cell_type": "code",
   "execution_count": null,
   "id": "6e6e9117-2cef-418a-866d-0ebae6f28e90",
   "metadata": {},
   "outputs": [],
   "source": [
    "df_seguros[categoricas_seguros].mode().T #nos da un df .T es por el cambio de tamaño."
   ]
  },
  {
   "cell_type": "markdown",
   "id": "241394e2-7e03-4d8f-bbbd-78e3a53d6aa1",
   "metadata": {},
   "source": [
    "Este podría decirse que es un perfil \"típico\" en nuestro dataset."
   ]
  },
  {
   "cell_type": "markdown",
   "id": "1f66816a-be9d-40dc-952d-d8514e5eae0e",
   "metadata": {},
   "source": [
    "## Análisis de Datos: Frecuencias"
   ]
  },
  {
   "cell_type": "markdown",
   "id": "1940d772-95cb-4778-a251-dd5d3a991208",
   "metadata": {},
   "source": [
    "Las variables se suelen tratar a partir de sus frecuencias, del número de apariciones de las mismas tanto en términos absolutos como relativos, dándonos una idea de como se distribuyen los valores"
   ]
  },
  {
   "cell_type": "code",
   "execution_count": null,
   "id": "64903544-9695-48e5-92f3-cf77dbd8d871",
   "metadata": {},
   "outputs": [],
   "source": [
    "import matplotlib.pyplot as plt\n",
    "import pandas as pd\n",
    "import seaborn as sns\n",
    "\n",
    "df_seguros = pd.read_csv(\"./data/Marketing-Customer-Analysis.csv\")\n",
    "df_air_jun = pd.read_csv(\"./data/dataset_viajes_jun23.csv\")"
   ]
  },
  {
   "cell_type": "code",
   "execution_count": null,
   "id": "09cf24e4-ca63-4370-8c1d-94c8e9773788",
   "metadata": {},
   "outputs": [],
   "source": [
    "categoricas_seguros = [ # Sí, conviene pasar la tabla a listas python :-)\n",
    "    \"state\",\n",
    "    \"response\",\n",
    "    \"coverage\",\n",
    "    \"education\",\n",
    "    \"employmentstatus\",\n",
    "    \"gender\",\n",
    "    \"location_code\",\n",
    "    \"marital_status\",\n",
    "    \"policy_type\",\n",
    "    \"policy\",\n",
    "    \"renew_offer_type\",\n",
    "    \"sales_channel\",\n",
    "    \"vehicle_class\",\n",
    "    \"vehicle_size\"\n",
    "]\n"
   ]
  },
  {
   "cell_type": "code",
   "execution_count": null,
   "id": "b8226856-a1d5-4c65-a723-83721b63bb1f",
   "metadata": {},
   "outputs": [],
   "source": [
    "\n",
    "variables_categoricas_viajes = [\n",
    "    \"aircompany\",\n",
    "    \"origen\",\n",
    "    \"destino\",\n",
    "    \"avion\",\n",
    "    \"con_escala\"\n",
    "]\n"
   ]
  },
  {
   "cell_type": "markdown",
   "id": "1c743902-db13-43ef-9534-db17ca73c7c8",
   "metadata": {},
   "source": [
    "Esta función nos ayuda a pintar gráficos de barras"
   ]
  },
  {
   "cell_type": "code",
   "execution_count": null,
   "id": "8904bb64-957e-4af6-9147-5e1298535e5a",
   "metadata": {},
   "outputs": [],
   "source": [
    "def pinta_distribucion_categoricas(df, columnas_categoricas, relativa=False, mostrar_valores=False):\n",
    "    num_columnas = len(columnas_categoricas)\n",
    "    num_filas = (num_columnas // 2) + (num_columnas % 2)\n",
    "\n",
    "    fig, axes = plt.subplots(num_filas, 2, figsize=(15, 5 * num_filas))\n",
    "    axes = axes.flatten() \n",
    "\n",
    "    for i, col in enumerate(columnas_categoricas):\n",
    "        ax = axes[i]\n",
    "        if relativa:\n",
    "            total = df[col].value_counts().sum()\n",
    "            serie = df[col].value_counts().apply(lambda x: x / total)\n",
    "            sns.barplot(x=serie.index, y=serie, ax=ax, palette='viridis', hue = serie.index, legend = False)\n",
    "            ax.set_ylabel('Frecuencia Relativa')\n",
    "        else:\n",
    "            serie = df[col].value_counts()\n",
    "            sns.barplot(x=serie.index, y=serie, ax=ax, palette='viridis', hue = serie.index, legend = False)\n",
    "            ax.set_ylabel('Frecuencia')\n",
    "\n",
    "        ax.set_title(f'Distribución de {col}')\n",
    "        ax.set_xlabel('')\n",
    "        ax.tick_params(axis='x', rotation=45)\n",
    "\n",
    "        if mostrar_valores:\n",
    "            for p in ax.patches:\n",
    "                height = p.get_height()\n",
    "                ax.annotate(f'{height:.2f}', (p.get_x() + p.get_width() / 2., height), \n",
    "                            ha='center', va='center', xytext=(0, 9), textcoords='offset points')\n",
    "\n",
    "    for j in range(i + 1, num_filas * 2):\n",
    "        axes[j].axis('off')\n",
    "\n",
    "    plt.tight_layout()\n",
    "    plt.show()\n",
    "\n"
   ]
  },
  {
   "cell_type": "markdown",
   "id": "7e0e8ffb-6f7c-4038-bf62-65eedf7060fa",
   "metadata": {},
   "source": [
    "### Frecuencias absolutas\n",
    "Siendo la moda el valor más común entre todos los posibles de la variable, también podemos sacar su **tabla de frecuencia absoluta**, que se define como el número de veces que se repite cada valor de la variable. Nosotros lo obtenemos con value_counts"
   ]
  },
  {
   "cell_type": "markdown",
   "id": "1a3f080f-5485-48bc-91bf-8ac55a3b79f3",
   "metadata": {},
   "source": [
    "#### Caso 1. Seguros: Frecuencias absolutas"
   ]
  },
  {
   "cell_type": "code",
   "execution_count": null,
   "id": "b317b425-d5f8-49b1-9661-e5a63e96b4bb",
   "metadata": {},
   "outputs": [],
   "source": [
    "for catego in categoricas_seguros:\n",
    "    print(f\"Para{catego}\")\n",
    "    print(df_seguros[catego].value_counts())\n",
    "    print(\"\\n\"*2)"
   ]
  },
  {
   "cell_type": "markdown",
   "id": "4e824e64-caba-466c-97e3-5b05b1788a34",
   "metadata": {},
   "source": [
    "#### Visualización\n",
    "Las frecuencias es una de esas medidas, como todas las de distribución de datos, que más que leer es mejor visualizar para analizarlas.\n",
    "Así que empleemos esa función criptica del principio para visualizar nuestras frecuencias:"
   ]
  },
  {
   "cell_type": "code",
   "execution_count": null,
   "id": "df604312-194f-4dca-8803-5699e4bf97f5",
   "metadata": {},
   "outputs": [],
   "source": [
    "pinta_distribucion_categoricas(df_seguros, categoricas_seguros) #nos genera para cada función un diagrama de barras"
   ]
  },
  {
   "cell_type": "markdown",
   "id": "1a14ece1-c994-448d-9db8-19a212e035f4",
   "metadata": {},
   "source": [
    "### Frecuencia Relativa\n",
    "Dividir la frecuencia absoluta entre el registro de números que tiene nuestro dataset."
   ]
  },
  {
   "cell_type": "markdown",
   "id": "bef00b21-2492-4a30-a441-96b2565bb868",
   "metadata": {},
   "source": [
    "#### Caso 1. Seguros: Frecuencia relativa\n"
   ]
  },
  {
   "cell_type": "code",
   "execution_count": null,
   "id": "76aebd29-fc46-4e57-b2a0-ccb2d1c05ac1",
   "metadata": {},
   "outputs": [],
   "source": [
    "for catego in categoricas_viajes:\n",
    "    print(f\"Para{catego}\")\n",
    "    print(df_air_jun[catego].value_counts()/len(df_seguros*100))\n",
    "    print(\"\\n\"*2)"
   ]
  },
  {
   "cell_type": "markdown",
   "id": "1bef4f01-1b70-4c67-ae8d-859ca715ce61",
   "metadata": {},
   "source": [
    "visualizar función relativa:"
   ]
  },
  {
   "cell_type": "code",
   "execution_count": null,
   "id": "63e0a5db-8989-407a-861c-27a1d37db7f6",
   "metadata": {},
   "outputs": [],
   "source": [
    "pinta_distribucion_categoricas(df_seguros, categoricas_seguros, relativa = True)"
   ]
  },
  {
   "cell_type": "markdown",
   "id": "561f7e63-f2a9-4da5-bed2-c20f1e4bcdbb",
   "metadata": {},
   "source": [
    "## Análisis de Datos: Medidas de posición y rangos"
   ]
  },
  {
   "cell_type": "code",
   "execution_count": null,
   "id": "8ae96e0f-a706-4ea4-b797-78047930d3c2",
   "metadata": {},
   "outputs": [],
   "source": [
    "import numpy as np\n",
    "import matplotlib.pyplot as plt\n",
    "import pandas as pd\n",
    "import seaborn as sns\n",
    "\n",
    "df_seguros = pd.read_csv(\"./data/Marketing-Customer-Analysis.csv\")\n",
    "df_air_jun = pd.read_csv(\"./data/dataset_viajes_jun23.csv\")"
   ]
  },
  {
   "cell_type": "code",
   "execution_count": null,
   "id": "610a0956-b331-4be2-bf67-1f40409fe351",
   "metadata": {},
   "outputs": [],
   "source": [
    "def plot_multiple_boxplots(df, columns, dim_matriz_visual = 2): #funcion pintar gráficas\n",
    "    num_cols = len(columns)\n",
    "    num_rows = num_cols // dim_matriz_visual + num_cols % dim_matriz_visual\n",
    "    fig, axes = plt.subplots(num_rows, dim_matriz_visual, figsize=(12, 6 * num_rows))\n",
    "    axes = axes.flatten()\n",
    "\n",
    "    for i, column in enumerate(columns):\n",
    "        if df[column].dtype in ['int64', 'float64']:\n",
    "            sns.boxplot(data=df, x=column, ax=axes[i])\n",
    "            axes[i].set_title(column)\n",
    "\n",
    "    # Ocultar ejes vacíos\n",
    "    for j in range(i+1, num_rows * 2):\n",
    "        axes[j].axis('off')\n",
    "\n",
    "    plt.tight_layout()\n",
    "    plt.show()\n",
    "\n",
    "\n"
   ]
  },
  {
   "cell_type": "code",
   "execution_count": null,
   "id": "90721619-96c3-448d-8479-6c15df3111bc",
   "metadata": {},
   "outputs": [],
   "source": [
    "def plot_boxplot_grouped(df, column_to_plot, group_column): #función diagrama de cajas\n",
    "    if df[column_to_plot].dtype in ['int64', 'float64'] and df[group_column].dtype in ['object', 'category']:\n",
    "        sns.boxplot(data=df, x=group_column, y=column_to_plot)\n",
    "        plt.show()"
   ]
  },
  {
   "cell_type": "markdown",
   "id": "5aa356cf-f6b9-492f-b63e-7eda7647ef11",
   "metadata": {},
   "source": [
    "### Percentil\n",
    "El percentil es el valor que divide un conjunto ordenado de datos estadísticos de forma que un porcentaje de tales datos sea inferior a dicho valor.\n",
    "**Teniendo la variable ordenada en sentido ascendente, el percentil representa el orden relativo de cada valor respecto al resto de variables.**\n",
    "\n",
    "Por ejemplo, si en una clase hay 100 alumnos, y en un examen solo tenemos 4 personas que hayan sacado mejor nota que nosotros, estaremos en el percentil 95%.\n",
    "\n",
    "Por cierto, si recuerdas, la mediana es equivalente al percentil 50."
   ]
  },
  {
   "cell_type": "markdown",
   "id": "9b61be17-3b3e-41b8-9258-04740cdeaa6a",
   "metadata": {},
   "source": [
    "En pandas tenemos el método `quantile` para calcular los percentiles y en numpy la función `percentile`."
   ]
  },
  {
   "cell_type": "markdown",
   "id": "c4d41c32-ab09-4150-a81c-b70337a714b5",
   "metadata": {},
   "source": [
    "Por ejemplo si quiero el grado de dispersión en el CLV de los seguros, donde sé que la media y la mediana se separan entre otras cosas por que el valor máximo es muy alto, puedo acudir a ver los percentiles siguientes:\n",
    "```Python\n",
    "print(df_seguros[\"customer_lifetime_value\"].quantile(0.5),\n",
    "    df_seguros[\"customer_lifetime_value\"].quantile(0.9), \n",
    "      df_seguros[\"customer_lifetime_value\"].quantile(0.95),\n",
    "     df_seguros[\"customer_lifetime_value\"].max())\n",
    "```\n",
    "5780.182197 15433.385306000006 22064.3612665 83325.38119"
   ]
  },
  {
   "cell_type": "markdown",
   "id": "5d3f81ed-1ca2-469f-91f0-6f721178f913",
   "metadata": {},
   "source": [
    "### Quartiles\n",
    "Los **[cuartiles](https://es.wikipedia.org/wiki/Cuartil)** son los tres valores de la variable estadística que dividen a un [conjunto de datos](https://es.wikipedia.org/wiki/Conjunto_de_datos) ordenados en cuatro partes iguales. Q1, Q2 y Q3 determinan los valores correspondientes a **los percentiles 25%, al 50% y al 75% de los datos**. Q2 coincide con la <a href=\"https://es.wikipedia.org/wiki/Mediana_(estad%C3%ADstica)\">mediana</a>.\n",
    "\n",
    "Podemos obtener los valores de los cuartiles utilizando los métodos y funciones comentados de pandas y numpy, pero también directamente del método `describe`."
   ]
  },
  {
   "cell_type": "code",
   "execution_count": null,
   "id": "085734e4-d2e4-452f-9699-2f3f9c5f9c54",
   "metadata": {},
   "outputs": [],
   "source": [
    "df_air_jun.describe()"
   ]
  },
  {
   "cell_type": "markdown",
   "id": "b4e2de59-5e6d-469c-9d2f-266d5b29f2ab",
   "metadata": {},
   "source": [
    " usa un concepto denominado \"rango intercuartílico\" o `IQR` que es la diferencia entre el percentil 75% y el percentil 25% y,por tanto es un rango de valores entre los que se encuentra el 50% de los valores que no están en un extremo ni en el otro."
   ]
  },
  {
   "cell_type": "code",
   "execution_count": 1,
   "id": "ccc1f21d-05b9-44d6-a705-7cd8b0d6074b",
   "metadata": {},
   "outputs": [],
   "source": [
    "#el iqr, nos da idea de la dispersión:\n",
    "def get_IQR(df, col):\n",
    "    return df[col].quantile(0.75) - df[col].quantile(0.25)"
   ]
  },
  {
   "cell_type": "code",
   "execution_count": null,
   "id": "94575263-dbe0-4120-be74-8a31252d2d20",
   "metadata": {},
   "outputs": [],
   "source": [
    "get_IQR(df_seguros,\"customer_lifetime_value\")"
   ]
  },
  {
   "cell_type": "markdown",
   "id": "262249e6-2001-4c03-bd71-9059355da917",
   "metadata": {},
   "source": [
    "* Si el IQR es mucho mayor que la mediana (por ejemplo más de un 50%) podríamos pensar en una variable con valores bastante dispersos (y por tanto las medidas de tendencia central hay que considerarlas con más cuidado)\n",
    "* Podemos comparar el IQR con la diferencia entre valor máximo y mínimo (lo que veremos en un momento que es el rango) y si el IQR es comparable entonces de nuevo podremos hablar de una variable dispersa."
   ]
  },
  {
   "cell_type": "markdown",
   "id": "e5f66351-d972-4c77-801d-ebf0e3fc4d21",
   "metadata": {},
   "source": [
    "###  Diagramas de caja\n",
    "Los [diagramas de cajas](https://es.wikipedia.org/wiki/Diagrama_de_caja) son una presentación visual que describe varias características importantes al mismo tiempo, tales como la dispersión y simetría. Para su realización se representan los tres cuartiles y los valores mínimo y máximo de los datos, sobre un rectángulo, alineado horizontal o verticalmente. Estos gráficos nos proporcionan abundante información y son sumamente útiles para encontrar [valores atípicos](https://es.wikipedia.org/wiki/Valor_at%C3%ADpico) y comparar dos [conjunto de datos](https://es.wikipedia.org/wiki/Conjunto_de_datos). \n",
    "\n",
    "<img src=\"https://miro.medium.com/max/18000/1*2c21SkzJMf3frPXPAR_gZA.png\" width=\"500\" height=\"550\">"
   ]
  },
  {
   "cell_type": "markdown",
   "id": "1eca8c57-39ff-49f0-9804-83a0dd21b985",
   "metadata": {},
   "source": [
    "Nos da dispersión, asimetría y valores atípicos de un conjunto de datos.Un boxplot, es una gráfica donde hay una caja cuyos valores límite son el cuartil 1 y el 3 (percentil 25 y 75), que va a tener una linea en medio, que reresenta la mediana, percentil 50(quartil 2, con lieas denominadas bigotes, que tienen elk mínimo y el máximo, y los valores que estén más ayá del mínimo y máximo, serán valores raros. Cuanto más centrada esté la linea de la mediana en la caja, más simétrica será la distribución yu cuanto más pequeña sea esa caja, más concentrada estarála distribuciónj de valores.\n",
    "\n",
    "Nos sirve para comparar dseries de valores entre sí y ver valores anómalos."
   ]
  },
  {
   "cell_type": "markdown",
   "id": "cc2fe31d-a0b1-43a4-a27e-1f7a47522550",
   "metadata": {},
   "source": [
    "#### Caso 1. Seguros: Percentiles y BoxPlots\n"
   ]
  },
  {
   "cell_type": "code",
   "execution_count": null,
   "id": "3180f81a-3ebe-4866-84b8-37f359687eb4",
   "metadata": {},
   "outputs": [],
   "source": [
    "# Primero necesitamos las columnas numéricas:\n",
    "columnas_numericas_customers = [\n",
    "    \"customer_lifetime_value\",\n",
    "    \"income\",\n",
    "    \"monthly_premium_auto\",\n",
    "    \"months_since_last_claim\",\n",
    "    \"months_since_policy_inception\",\n",
    "    \"number_of_open_complaints\",\n",
    "    \"number_of_policies\",\n",
    "    \"total_claim_amount\"\n",
    "]\n",
    "columnas_numericas_customers = df_seguros.describe().T.index.to_list()\n",
    "print(columnas_numericas_customers)\n",
    "#otra manera de printar las columnas numéricas es agtravés el describe y usando el index to list."
   ]
  },
  {
   "cell_type": "code",
   "execution_count": null,
   "id": "62014235-8be5-45bc-81a8-7557eba743a0",
   "metadata": {},
   "outputs": [],
   "source": [
    "plot_multiple_boxplots(df_seguros, columnas_numericas_customers)"
   ]
  },
  {
   "cell_type": "code",
   "execution_count": null,
   "id": "034aa6ba-6de9-413a-bc1f-4f24d65f66d0",
   "metadata": {},
   "outputs": [],
   "source": [
    "plot_boxplot_grouped(df_seguros, \"customer_lifetime_value\", \"response\")#podemos comparar entre dos para ver la diferencia de la distribución"
   ]
  },
  {
   "cell_type": "markdown",
   "id": "dbfc8108-30c6-4473-81c4-69fca19c2dc0",
   "metadata": {},
   "source": [
    "### Rangos\n",
    " obtener los rangos de cada varible numérica, es decir hacer la diferencia entre su valor máximo y su valor mínimo:"
   ]
  },
  {
   "cell_type": "code",
   "execution_count": null,
   "id": "b70f10e4-af37-4080-967b-3d0501cfab94",
   "metadata": {},
   "outputs": [],
   "source": [
    "df_seguros.describe().loc[\"max\"] - df_seguros.describe().loc[\"min\"]"
   ]
  },
  {
   "cell_type": "code",
   "execution_count": null,
   "id": "4a539900-96f6-4532-8049-2301e4e6436e",
   "metadata": {},
   "outputs": [],
   "source": [
    "df_air_jun.describe().loc[\"max\"] - df_air_jun.describe().loc[\"min\"]"
   ]
  },
  {
   "cell_type": "markdown",
   "id": "f604bbec-81e5-407f-8def-756bb2a1c077",
   "metadata": {},
   "source": [
    "Para ver los rangos, hacemo0s la difgerencia de máximos y mínimos.\n",
    "\n",
    "En ambos casos los rangos nos sirven más para comparar y como referencia que como un dato a analizar de primeras. \n"
   ]
  },
  {
   "cell_type": "markdown",
   "id": "2df64f97-5f87-4cf7-81d6-6905b1f324dd",
   "metadata": {},
   "source": [
    "## Análisis de Datos: Dispersión de variables numéricas"
   ]
  },
  {
   "cell_type": "code",
   "execution_count": null,
   "id": "325917ee-ad47-4430-aa8a-0bc8e0ddb113",
   "metadata": {},
   "outputs": [],
   "source": [
    "import numpy as np\n",
    "import matplotlib.pyplot as plt\n",
    "import pandas as pd\n",
    "import seaborn as sns\n",
    "\n",
    "df_seguros = pd.read_csv(\"./data/Marketing-Customer-Analysis.csv\")\n",
    "df_air_jun = pd.read_csv(\"./data/dataset_viajes_jun23.csv\")"
   ]
  },
  {
   "cell_type": "markdown",
   "id": "15ca052e-1cc0-4811-b920-e0a005675278",
   "metadata": {},
   "source": [
    "### Medidas de dispersión o variabilidad: Varianza"
   ]
  },
  {
   "cell_type": "markdown",
   "id": "366a1c2d-7c82-4cac-88b9-baa467f1adc4",
   "metadata": {},
   "source": [
    "La [varianza](https://es.wikipedia.org/wiki/Varianza) es la media aritmética del cuadrado de las desviaciones respecto a la media de un conjunto de datos. Cojo dato a dato de una variable, le resto la media lo elevo al cuadrado y lo divido por el número de valores de mi variable. Esto da sigma cuadrado o varianza\n",
    "$$\\sigma^2 = \\frac{\\sum\\limits_{i=1}^n(x_i - \\mu)^2}{n} $$\n",
    "Básicamente representa lo que varían los datos*. **Como está elevada al cuadrado, la varianza no puede tener las mismas unidades que los datos**.\n",
    "Una varianza elevada significa que los datos están más dispersos. Mientras que un valor bajo, indica que los datos están próximos a la media. Se representa como $\\sigma^2$.\n",
    "\n",
    "está elevado al cuadrado\n",
    "Porque no quiero que las diferencias positivas y negativas se compensen. Piensa en esta serie de datos:\n",
    "\n"
   ]
  },
  {
   "cell_type": "markdown",
   "id": "7409ccc9-72f1-4e35-b644-ba330471cb14",
   "metadata": {},
   "source": [
    "En vez de aplicarla a los datos veamos la versión comparable (es decir medida en las mismas unidades que los datos que estamos analziando) que es la desviación estándar. Porque la desviación estandar están las mismas variables que la columna que estamos analizando.\n",
    "Nos sirve para indicar que hay desviación de datos y que la media y la mediana no son buenos representantes para las medias centrales y de datos."
   ]
  },
  {
   "cell_type": "markdown",
   "id": "dd99a68c-0026-4dc2-b7a7-6667413306d1",
   "metadata": {},
   "source": [
    "Podemos aplicar directamente el concepto de \"Coeficiente de Variación\" (CV) que es la división de la desviación estándar entre la media. Como pautas generales:\n",
    "\n",
    "- Un CV menor al 15% suele considerarse como una baja variabilidad.\n",
    "- Un CV entre 15% y 30% indica una variabilidad moderada.\n",
    "- Un CV mayor al 30% a menudo se considera como una alta variabilidad.\n",
    "\n",
    "Estos valores son orientativos y deben interpretarse en el contexto específico de tus datos y el área de estudio."
   ]
  },
  {
   "cell_type": "markdown",
   "id": "9f7234f3-3693-4a41-bbae-2489c9d2581f",
   "metadata": {},
   "source": [
    "#### Caso 1. Seguros: Dispersión\n"
   ]
  },
  {
   "cell_type": "code",
   "execution_count": null,
   "id": "6d2c6cb8-b055-4679-be2e-f115ef92d03f",
   "metadata": {},
   "outputs": [],
   "source": [
    "df_seguros.describe().loc[[\"std\",\"mean\"]].T #nos da la desviación estandard y su media"
   ]
  },
  {
   "cell_type": "code",
   "execution_count": null,
   "id": "6ecfcef0-7977-43ad-8386-35166c1c15ad",
   "metadata": {},
   "outputs": [],
   "source": [
    "#obtenemos el cociente de variación\n",
    "def variabilidad(df):\n",
    "    df_var = df.describe().loc[[\"std\",\"mean\"]].T\n",
    "    df_var[\"CV\"] = df_var[\"std\"]/df_var[\"mean\"]\n",
    "    return df_var"
   ]
  },
  {
   "cell_type": "code",
   "execution_count": null,
   "id": "441cca8b-833b-48da-9d2e-c8f33537d467",
   "metadata": {},
   "outputs": [],
   "source": [
    "variabilidad(df_seguros) #nos da los coeficientes"
   ]
  },
  {
   "cell_type": "markdown",
   "id": "28ab9bcf-d5c7-482c-9d8d-783e4c6dd134",
   "metadata": {},
   "source": [
    "## Análisis de Datos: Distribución de valores en variables numéricas"
   ]
  },
  {
   "cell_type": "code",
   "execution_count": null,
   "id": "563736cb-d117-42a1-84f1-24244ada330a",
   "metadata": {},
   "outputs": [],
   "source": [
    "import numpy as np\n",
    "import matplotlib.pyplot as plt\n",
    "import pandas as pd\n",
    "import seaborn as sns\n",
    "\n",
    "df_seguros = pd.read_csv(\"./data/Marketing-Customer-Analysis.csv\")\n",
    "df_air_jun = pd.read_csv(\"./data/dataset_viajes_jun23.csv\")"
   ]
  },
  {
   "cell_type": "code",
   "execution_count": null,
   "id": "97d479a6-67bb-4671-9da6-a9d41c85af95",
   "metadata": {},
   "outputs": [],
   "source": [
    "\n",
    "def plot_multiple_boxplots(df, columns, dim_matriz_visual = 2):\n",
    "    num_cols = len(columns)\n",
    "    num_rows = num_cols // dim_matriz_visual + num_cols % dim_matriz_visual\n",
    "    fig, axes = plt.subplots(num_rows, dim_matriz_visual, figsize=(12, 6 * num_rows))\n",
    "    axes = axes.flatten()\n",
    "\n",
    "    for i, column in enumerate(columns):\n",
    "        if df[column].dtype in ['int64', 'float64']:\n",
    "            sns.boxplot(data=df, x=column, ax=axes[i])\n",
    "            axes[i].set_title(column)\n",
    "\n",
    "    # Ocultar ejes vacíos\n",
    "    for j in range(i+1, num_rows * 2):\n",
    "        axes[j].axis('off')\n",
    "\n",
    "    plt.tight_layout()\n",
    "    plt.show()"
   ]
  },
  {
   "cell_type": "code",
   "execution_count": null,
   "id": "01d59b26-0fb4-4a17-8c22-4252268e5771",
   "metadata": {},
   "outputs": [],
   "source": [
    "\n",
    "def plot_histo_den(df, columns):\n",
    "    num_cols = len(columns)\n",
    "    num_rows = num_cols // 2 + num_cols % 2\n",
    "    fig, axes = plt.subplots(num_rows, 2, figsize=(12, 6 * num_rows))\n",
    "    axes = axes.flatten()\n",
    "\n",
    "    for i, column in enumerate(columns):\n",
    "        if df[column].dtype in ['int64', 'float64']:\n",
    "            sns.histplot(df[column], kde=True, ax=axes[i])\n",
    "            axes[i].set_title(f'Histograma y KDE de {column}')\n",
    "\n",
    "    # Ocultar ejes vacíos\n",
    "    for j in range(i + 1, num_rows * 2):\n",
    "        axes[j].axis('off')\n",
    "\n",
    "    plt.tight_layout()\n",
    "    plt.show()\n"
   ]
  },
  {
   "cell_type": "markdown",
   "id": "eb768fd7-317c-49f5-82a8-9d0f5fb08e52",
   "metadata": {},
   "source": [
    "### Distribución de valores: Histogramas\n",
    "Los histogramas son la mejor herramienta para ver la forma, dispersión y tendencia central de los datos. Nos dan la frecuencia de aparición de cada valor de los datos."
   ]
  },
  {
   "cell_type": "code",
   "execution_count": null,
   "id": "e9783ed1-b252-4af8-b07b-0277fa466fdb",
   "metadata": {},
   "outputs": [],
   "source": [
    "df_seguros[\"customer_lifetime_value\"].hist() #histograma"
   ]
  },
  {
   "cell_type": "code",
   "execution_count": null,
   "id": "c8fc18f7-3f0c-4c82-bfc4-c0fb3311027f",
   "metadata": {},
   "outputs": [],
   "source": [
    "plot_multiple_boxplots(df_seguros, [\"customer_lifetime_value\"]) #boxplot"
   ]
  },
  {
   "cell_type": "markdown",
   "id": "4beac92f-cce9-435c-ab8b-9ea0b4bae88d",
   "metadata": {},
   "source": [
    "¿Y qué podemos hacer?\n",
    "1. Analizar la variable filtrando los valores extremos.\n",
    "2. En cualquier caso, parece interesante crearse una nueva variable categórica ordinal (con el *binning* que vimos en su momento) y emplearla para hacer una análisis más detallado por CLV (recuerda que es nuestra variable directora)\n",
    "[Y me sigo apuntando estas cosas para mi continuación de EDA]"
   ]
  },
  {
   "cell_type": "markdown",
   "id": "01161ab7-c220-4696-8a09-12bbc036a9d1",
   "metadata": {},
   "source": [
    "### Distribución de valores: Función densidad de probabilidad\n",
    "Nos sirve para ver la forma que tiene una variable, así como la probabilidad de aparición de cada uno de sus valores. Este tipo de gráficos se utiliza para variables contínuas. Las vamos presentando porque: \n",
    "\n",
    "* Hay determinadas \"formas\" de esa función que cuando los datos las siguen podemos aplicar ciertas propiedas a los mismos\n",
    "\n",
    "* las emplearemos bastante más adelante ya que según la forma de esa función, podremos hacer transformaciones o tendremos que hacerlas para el modelado en sprints posteriores."
   ]
  },
  {
   "cell_type": "code",
   "execution_count": null,
   "id": "4443bf4c-7b14-451c-8c59-861d44123603",
   "metadata": {},
   "outputs": [],
   "source": [
    "plot_histo_den(df_seguros,[\"customer_lifetime_value\"])"
   ]
  },
  {
   "cell_type": "markdown",
   "id": "a665a80e-f6ae-4d8a-960f-582a1ee1599c",
   "metadata": {},
   "source": [
    "Compararemos nuestras variables on figuras estudiadas, porque si siguen esas distribucione spodemos hacer más inferencia sobre nuestros datos."
   ]
  },
  {
   "cell_type": "markdown",
   "id": "e92e614f-febc-4ce5-948d-2dd0ee3c3528",
   "metadata": {},
   "source": [
    "## EN EL EDA, DEBEMOS EMPLEAR ESE GRÁFICO EN TODAS LAS VARIABNLES NUMÉRICAS"
   ]
  },
  {
   "cell_type": "markdown",
   "id": "f9a4cd22-e4c1-4cd7-aa90-cd26bc62a5a5",
   "metadata": {},
   "source": [
    "#### Caso 1. Seguros: Histogramas y densidades"
   ]
  },
  {
   "cell_type": "code",
   "execution_count": null,
   "id": "4a44e821-0df1-4997-b635-3a760c20cfdf",
   "metadata": {},
   "outputs": [],
   "source": [
    "Nos da los tipos de gráficos de la columna\n",
    "columnas_numericas = df_seguros.describe().columns.to_list()\n",
    "\n",
    "plot_histo_den(df_seguros,columnas_numericas)\n",
    "#para buscar sobre valores, debemos incidr sobre ellos con otras funciones."
   ]
  },
  {
   "cell_type": "markdown",
   "id": "f5998169-916f-4bd6-91e3-ce92519859bd",
   "metadata": {},
   "source": [
    "## Análisis de Datos: Outliers\n",
    "Un outlier es una observación anormal y extrema en un conjunto de valores relacionados, como los de nuestras variables o los de una muestra estadística. Son valores extremos tanto por arriba como por abajo. Estas anomalías son datos que puede afectar potencialmente a la estimación de los parámetros del mismo.\n",
    "\n",
    "Se trata de datos que no son consistentes con el resto.\n"
   ]
  },
  {
   "cell_type": "code",
   "execution_count": 3,
   "id": "37fb8aa2-d27e-4d25-9a60-e04c89ad7be6",
   "metadata": {},
   "outputs": [
    {
     "name": "stdout",
     "output_type": "stream",
     "text": [
      "Media de alturas: 1.737\n",
      "Maximo de alturas: 1.85\n",
      "Minimo de alturas: 1.62\n"
     ]
    }
   ],
   "source": [
    "alturas = [1.65, 1.80, 1.72, 1.68, 1.75, 1.85, 1.62, 1.79, 1.82, 1.69]\n",
    "\n",
    "print(\"Media de alturas:\", sum(alturas)/len(alturas))\n",
    "\n",
    "print(\"Maximo de alturas:\", max(alturas))\n",
    "\n",
    "print(\"Minimo de alturas:\", min(alturas))"
   ]
  },
  {
   "cell_type": "markdown",
   "id": "eb997e27-6109-477d-8f96-e9f8d809797b",
   "metadata": {},
   "source": [
    "La altura media cae aproximadamente a mitad del rango (1.735), lo cual tiene sentido al ser una medida de centralidad. Ahora imaginemos que se incorporan a la clase dos futuros NBA."
   ]
  },
  {
   "cell_type": "code",
   "execution_count": 4,
   "id": "d73e274d-a8d6-4cea-b821-4dce0dd91b04",
   "metadata": {},
   "outputs": [
    {
     "name": "stdout",
     "output_type": "stream",
     "text": [
      "Media de alturas: 1.8141666666666667\n",
      "Maximo de alturas: 2.22\n",
      "Minimo de alturas: 1.62\n"
     ]
    }
   ],
   "source": [
    "alturas = [1.65, 1.80, 1.72, 1.68, 1.75, 1.85, 1.62, 1.79, 1.82, 1.69, 2.18, 2.22]\n",
    "\n",
    "print(\"Media de alturas:\", sum(alturas)/len(alturas))\n",
    "\n",
    "print(\"Maximo de alturas:\", max(alturas))\n",
    "\n",
    "print(\"Minimo de alturas:\", min(alturas))"
   ]
  },
  {
   "cell_type": "markdown",
   "id": "6cfb5662-724a-43d7-a47c-52cba45db22e",
   "metadata": {},
   "source": [
    "Ahora la media difiere bastante de la mitad del rango (1.92), por lo que nos desvirtúa mucho el cálculo."
   ]
  },
  {
   "cell_type": "markdown",
   "id": "187a8880-43c0-4373-a523-bfa76e52afaf",
   "metadata": {},
   "source": [
    "Visto el ejemplo, tenemos dos puntos que cubrir:\n",
    "1. Cómo se detectan.\n",
    "2. ¿Qué hacer con ellos?\n"
   ]
  },
  {
   "cell_type": "code",
   "execution_count": null,
   "id": "59be3ca3-c44f-4d1d-853e-d2e91ddcbd17",
   "metadata": {},
   "outputs": [],
   "source": [
    "import numpy as np\n",
    "import matplotlib.pyplot as plt\n",
    "import pandas as pd\n",
    "import seaborn as sns\n",
    "\n",
    "df_seguros = pd.read_csv(\"./data/Marketing-Customer-Analysis.csv\")\n",
    "df_air_jun = pd.read_csv(\"./data/dataset_viajes_jun23.csv\")"
   ]
  },
  {
   "cell_type": "code",
   "execution_count": null,
   "id": "8965cf09-f84d-4679-adff-e5386c28d238",
   "metadata": {},
   "outputs": [],
   "source": [
    "\n",
    "def plot_multiple_boxplots(df, columns, dim_matriz_visual = 2):\n",
    "    num_cols = len(columns)\n",
    "    num_rows = num_cols // dim_matriz_visual + num_cols % dim_matriz_visual\n",
    "    fig, axes = plt.subplots(num_rows, dim_matriz_visual, figsize=(12, 6 * num_rows))\n",
    "    axes = axes.flatten()\n",
    "\n",
    "    for i, column in enumerate(columns):\n",
    "        if df[column].dtype in ['int64', 'float64']:\n",
    "            sns.boxplot(data=df, x=column, ax=axes[i])\n",
    "            axes[i].set_title(column)\n",
    "\n",
    "    # Ocultar ejes vacíos\n",
    "    for j in range(i+1, num_rows * 2):\n",
    "        axes[j].axis('off')\n",
    "\n",
    "    plt.tight_layout()\n",
    "    plt.show()"
   ]
  },
  {
   "cell_type": "code",
   "execution_count": null,
   "id": "2e4975be-5442-4997-b05b-e87bbe5d9599",
   "metadata": {},
   "outputs": [],
   "source": [
    "def plot_histo_dens(df, columns, bins=None):\n",
    "    num_cols = len(columns)\n",
    "    num_rows = num_cols // 2 + num_cols % 2\n",
    "    fig, axes = plt.subplots(num_rows, 2, figsize=(12, 6 * num_rows))\n",
    "    axes = axes.flatten()\n",
    "\n",
    "    for i, column in enumerate(columns):\n",
    "        if df[column].dtype in ['int64', 'float64']:\n",
    "            if bins:\n",
    "                sns.histplot(df[column], kde=True, ax=axes[i], bins=bins)\n",
    "            else:\n",
    "                sns.histplot(df[column], kde=True, ax=axes[i])\n",
    "            axes[i].set_title(f'Histograma y KDE de {column}')\n",
    "\n",
    "    # Ocultar ejes vacíos\n",
    "    for j in range(i + 1, num_rows * 2):\n",
    "        axes[j].axis('off')\n",
    "\n",
    "    plt.tight_layout()\n",
    "    plt.show()\n",
    "\n",
    "# Ejemplo de uso:\n",
    "# plot_histograms_with_density(df, ['columna1', 'columna2', 'columna3'], bins=20)\n"
   ]
  },
  {
   "cell_type": "code",
   "execution_count": null,
   "id": "e1b3e362-b850-43c5-ba80-9c9bca1542af",
   "metadata": {},
   "outputs": [],
   "source": [
    "\n",
    "def plot_combined_graphs(df, columns, whisker_width=1.5):\n",
    "    num_cols = len(columns)\n",
    "    if num_cols:\n",
    "        \n",
    "        fig, axes = plt.subplots(num_cols, 2, figsize=(12, 5 * num_cols))\n",
    "        print(axes.shape)\n",
    "\n",
    "        for i, column in enumerate(columns):\n",
    "            if df[column].dtype in ['int64', 'float64']:\n",
    "                # Histograma y KDE\n",
    "                sns.histplot(df[column], kde=True, ax=axes[i,0] if num_cols > 1 else axes[0])\n",
    "                if num_cols > 1:\n",
    "                    axes[i,0].set_title(f'Histograma y KDE de {column}')\n",
    "                else:\n",
    "                    axes[0].set_title(f'Histograma y KDE de {column}')\n",
    "\n",
    "                # Boxplot\n",
    "                sns.boxplot(x=df[column], ax=axes[i,1] if num_cols > 1 else axes[1], whis=whisker_width)\n",
    "                if num_cols > 1:\n",
    "                    axes[i,1].set_title(f'Boxplot de {column}')\n",
    "                else:\n",
    "                    axes[1].set_title(f'Boxplot de {column}')\n",
    "\n",
    "        plt.tight_layout()\n",
    "        plt.show()\n"
   ]
  },
  {
   "cell_type": "markdown",
   "id": "e9b29916-4f74-485f-9990-b4c4109b718b",
   "metadata": {},
   "source": [
    "### Detección de Outliers"
   ]
  },
  {
   "cell_type": "code",
   "execution_count": null,
   "id": "57b9b3b5-588c-4e9f-887f-bc2094a2a688",
   "metadata": {},
   "outputs": [],
   "source": [
    "plot_combined_graphs(df_seguros, [\"customer_lifetime_value\"]) #nos da el histograma y el diagrama de caja."
   ]
  },
  {
   "cell_type": "markdown",
   "id": "04955467-a553-43d8-8500-7deecee01f8e",
   "metadata": {},
   "source": [
    "En ambos casos vemos que la larga cola de uno y los valores fuera del \"maximum\" ya nos indican la presencia de valores anómalos en el rango superior "
   ]
  },
  {
   "cell_type": "markdown",
   "id": "ab12436b-045e-4db9-aa0c-95fe9547a65b",
   "metadata": {},
   "source": [
    "1. Cuando la densidad estimada en el diagrama combinado histograma-densidad se parece a una normal, entonces un buen criterio es [y lo explicaremos en la sesión en vivo] obtener la desviación estándar de nuestra variable y considerar outliers a aquellos valores que superen 2 o 3 veces la desviación (valores < media - std\\*n) y (valores > media + std\\*n) (como puedes ver la distribución normal es simétrica respecto a la media por eso hay que contar a derecha e izquierda). \n",
    "\n",
    "|Valor de n | Tanto % de valores comprendidos en el rango no outlier|\n",
    "|-|-|\n",
    "|1|68%|\n",
    "|2|95%|\n",
    "|3|98%|\n",
    "\n",
    "2. \n",
    "\n",
    "\n",
    "Si se parece a:"
   ]
  },
  {
   "cell_type": "markdown",
   "id": "f26cdb6f-62cb-486f-bf70-ce5ea42846f4",
   "metadata": {},
   "source": [
    "una campana de gaus"
   ]
  },
  {
   "cell_type": "markdown",
   "id": "c3ea31c4-00d6-41a6-abdf-536db6a35d0e",
   "metadata": {},
   "source": [
    "Lo que está fuera de la campana de gaus son outlier y la mitad es la media."
   ]
  },
  {
   "cell_type": "markdown",
   "id": "cc867f09-261e-47c6-a1cf-1d6233510476",
   "metadata": {},
   "source": [
    "2. Si nuestra densidad no tiene pinta de gaussiana, como le pasa a la distribución de valores de CLV, entonces podemos escoger la longitud de los bigotes de nuestro bloxplot, lo que quede por debajo del \"minimum\" y por encima del maximum serán outliers. Pero para estos casos te recomiendo que aumentes la longitud de los bigotes en función de lo que veas en el histograma. En plata:"
   ]
  },
  {
   "cell_type": "code",
   "execution_count": null,
   "id": "5d98fac0-69dd-4ccd-a58d-66f47b5a7338",
   "metadata": {},
   "outputs": [],
   "source": [
    "plot_combined_graphs(df_seguros, [\"customer_lifetime_value\"], whisker_width= 4.5) # 3 veces la longitud habitual (que es 1.5*IQR)\n",
    "#se hace a través del whisker"
   ]
  },
  {
   "cell_type": "markdown",
   "id": "8bd943b0-ee5b-48bc-b155-e757de65f731",
   "metadata": {},
   "source": [
    "#### Caso 1.Seguros: Detección de Outliers"
   ]
  },
  {
   "cell_type": "code",
   "execution_count": null,
   "id": "a69e7402-ef29-483d-b7d9-cdb20b199ab5",
   "metadata": {},
   "outputs": [],
   "source": [
    "columnas_numericas = df_seguros.describe().columns.to_list()\n",
    "\n",
    "plot_combined_graphs(df_seguros, columns = columnas_numericas, whisker_width=3)"
   ]
  },
  {
   "cell_type": "markdown",
   "id": "06c23903-4773-42de-9c6d-3e84e57f2ceb",
   "metadata": {},
   "source": [
    "### Tratamiento de Outliers"
   ]
  },
  {
   "cell_type": "markdown",
   "id": "ba432b15-60af-4e65-b9cf-d9a3d9cac18e",
   "metadata": {},
   "source": [
    "Los outliers no son necesariamente malos, de hecho, habrá veces que querrás cazar outliers y que son precisamente esos valores los que te interesan. Por eso qué hacer con ellos depende mucho del problema y el contexto. **No hay una regla para el tratamiento de los mismos**. Un conjunto de posibles tratamientos:\n",
    "\n",
    "* Mantenerlos \n",
    "* Elimiar si son valores erróneos \n",
    "* Eliminarlos directamente, indicando que se ha hecho \n",
    "* Aplicar transformaciones (se verá en feature engineering), para que estos outliers no molesten, los cambiaremos. \n",
    "* Discretizar la variable \n",
    "* Imputar el valor por otro nuevo (como los missings) \n",
    "* Tratar por separado "
   ]
  },
  {
   "cell_type": "markdown",
   "id": "d8ccf0c4-56a8-4112-af88-009ba277408f",
   "metadata": {},
   "source": [
    "#### Caso 1. Seguros: Tratamiento de Outliers.\n",
    "En este caso al ser CLV la variable casi más importante, descartamos eliminarlos, mi sugerencia sería:\n",
    "1. Asegurarnos de que no son valores erróneos (no tiene pinta)\n",
    "2. Dividir el dataset en dos, hacer un estudio para unos y otros.\n",
    "3. Previamente analizar como se relacionan con las otras dos columns de outliers. \n",
    "\n",
    "Una vez separados los datasets, analizar los nuevos outliers  (es decir ya en el dataset de outliers de CVL estos ya nos on outliers, pero puede que haya outliers en los otros campos):\n",
    "1. Categorizar las variables con outliers, rehacer su análisis tal como hicimos con las otras categóricas. "
   ]
  },
  {
   "cell_type": "code",
   "execution_count": null,
   "id": "64a6fa04-2582-4023-82e1-9aec33f7d81f",
   "metadata": {},
   "outputs": [],
   "source": []
  }
 ],
 "metadata": {
  "kernelspec": {
   "display_name": "Python 3 (ipykernel)",
   "language": "python",
   "name": "python3"
  },
  "language_info": {
   "codemirror_mode": {
    "name": "ipython",
    "version": 3
   },
   "file_extension": ".py",
   "mimetype": "text/x-python",
   "name": "python",
   "nbconvert_exporter": "python",
   "pygments_lexer": "ipython3",
   "version": "3.10.11"
  }
 },
 "nbformat": 4,
 "nbformat_minor": 5
}
