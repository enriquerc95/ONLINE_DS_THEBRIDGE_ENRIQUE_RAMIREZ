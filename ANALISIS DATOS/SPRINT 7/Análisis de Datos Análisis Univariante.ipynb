{
 "cells": [
  {
   "cell_type": "markdown",
   "id": "992c2471-3a95-4a25-809c-395cc9a7bfd0",
   "metadata": {},
   "source": [
    "## Ánalisis de Datos: Primeros Pasos"
   ]
  },
  {
   "cell_type": "markdown",
   "id": "da8d6879-ebae-4c6c-a609-522776721c87",
   "metadata": {},
   "source": [
    "### Aclaración previa: Estadistica descriptiva e Inferencial, población y muestra."
   ]
  },
  {
   "cell_type": "markdown",
   "id": "6594bb1c-44a3-42f2-8bda-6bd1295464dd",
   "metadata": {},
   "source": [
    "En la **estadística descriptiva** trabajamos sobre nuestros datos como si fueran los únicos que hubiera del tema que estamos tratando (como si fueran lo que se dice la población completa) y con la **estadística inferencial** partimos del contexto de que queremos sacar conclusiones que se puedan generalizar fuera de esos datos concretos (pensamos que trabajamos con una muestra del total de datos posibles)."
   ]
  },
  {
   "cell_type": "markdown",
   "id": "de88da22-7e6b-422b-b7ee-1e387c98b8fd",
   "metadata": {},
   "source": [
    "### Tengo los datos preparadísimos, limpiados y almacenados y ahora ¿qué?"
   ]
  },
  {
   "cell_type": "markdown",
   "id": "0d7fe97a-bc7d-4f1f-b80b-296c3fe5a2f8",
   "metadata": {},
   "source": [
    "Ahora puedes estar en una de estas dos situaciones:\n",
    "\n",
    "1. Tienes claro que quieres sacar de los datos (o te lo han dejado claro las jefas): preguntas a respuestas del tipo ¿qué tipo de cliente compra más en mis tiendas del norte del páis frente al resto?¿Es mejor comprar o alquilar, en qué ciudades?, o confirmaciones/negaciones de hipótesis de trabajo:las criptomonedas se emplean principalmente para el lavado de dinero.\n",
    "\n",
    "2.  Tienes una idea muy vaga o ninguna sobre lo qué quieres obtener, sólo sabes que te gusta el dataset o es el que te han proporcionado en el curro.\n",
    "\n",
    "Si estás en la primera, no te aceleres, déjame que te dé unas pautas que adaptes según esas preguntas. Si estás en la segunda, sigue las pautas y a medida que analicemos los datos surgirán preguntas o conclusiones que debes empezar a pensar si son interesantes o no (recuerda que si no tienes objetivo tu objetivo es buscarlo, y que estos pasos te ayudarán)"
   ]
  },
  {
   "cell_type": "markdown",
   "id": "c3744dab-eb9e-4ed7-9b32-2831a5c64d79",
   "metadata": {},
   "source": [
    "### #0 Los datasets guía"
   ]
  },
  {
   "cell_type": "code",
   "execution_count": 4,
   "id": "f18307ea-3194-4353-8075-52bdd9daf6dc",
   "metadata": {},
   "outputs": [],
   "source": [
    "import pandas as pd"
   ]
  },
  {
   "cell_type": "markdown",
   "id": "2571191a-925f-4d9e-aa8f-ef8f587d3da2",
   "metadata": {},
   "source": [
    "#### Caso 1 (top-down EDA): Compañía de Seguros\n",
    "En este caso, que llamaremos EDA-TD, vamos a partir de un dataset de una compañía de seguros que tiene muy claro lo que quiere que hagas: Quiere que analices el Lifetime Customer Value (el valor acumulado de un cliente a lo largo de su relación con una empresa, por ejemplo: todo el dinero que le has dado a tu compañía de teléfonos), resumidadmente CLV, y la respuesta a las ofertas de marketing. En concreto quiere saber:\n",
    "1. ¿Cómo se distribuye demográficamente el CLV? (es decir por género, región, nivel de eduación, etc)\n",
    "2. ¿Cómo responden los clientes a las ofertas de renovación?\n",
    "3. ¿Cómo se distribuye esa oferta de renovación? (¿Responden mejor los hombres?¿Los dueños de coches de lujo?¿Qué canal tiene mejor respuesta)\n",
    "4. ¿Qué relación hay entre las reclamaciones y CLV y entre aquellas y la respuesta a marketing?\n",
    "\n",
    "Para ello cargamos en df_seguros los datos de esta empresa:"
   ]
  },
  {
   "cell_type": "code",
   "execution_count": null,
   "id": "0549ed22-30c8-44c2-accd-33ea3d21559a",
   "metadata": {},
   "outputs": [],
   "source": [
    "df_seguros = pd.read_csv(\"./data/Marketing-Customer-Analysis.csv\")"
   ]
  },
  {
   "cell_type": "code",
   "execution_count": null,
   "id": "e9109660-f58c-42c4-8f9c-ebcd88d2975c",
   "metadata": {},
   "outputs": [],
   "source": [
    "pd.set_option(\"display.max_columns\", None)\n",
    "df_seguros.head(10)"
   ]
  },
  {
   "cell_type": "code",
   "execution_count": null,
   "id": "63bc420f-c39d-49aa-b5ea-5cfd285dec35",
   "metadata": {},
   "outputs": [],
   "source": [
    "df_seguros.info() # 9134 entradas que corresponden a clientes y suis datos, 23 columnas con datos y tenemos que responmder las preguntas"
   ]
  },
  {
   "cell_type": "markdown",
   "id": "6184ba7a-89dc-4dd6-bab7-33832bd9f5b9",
   "metadata": {},
   "source": [
    "#### Caso 2 (bottom-up EDA): Nuevo departamento DataScience de TabarAir\n",
    "nos pide que le saquemos, literalmente \"todo el jugo posible\". Vamos que ninguna directriz \"operativa\"...\n",
    "\n",
    "no tienen muy claro que quieren y nos pide que saquemos datos\n",
    "\n",
    " De hecho nos ha pasado datos de dos meses, Junio y Julio, por separado."
   ]
  },
  {
   "cell_type": "code",
   "execution_count": null,
   "id": "8c9ad76a-27c9-44bd-8cbf-3880a6ce680b",
   "metadata": {},
   "outputs": [],
   "source": [
    "df_air_jun = pd.read_csv(\"./data/dataset_viajes_jun23.csv\")\n",
    "df_air_jul = pd.read_csv(\"./data/dataset_viajes_jul23.csv\")"
   ]
  },
  {
   "cell_type": "code",
   "execution_count": null,
   "id": "53738db3-2a6e-4578-8f51-0d23312920b3",
   "metadata": {},
   "outputs": [],
   "source": [
    "df_air_jun.info()"
   ]
  },
  {
   "cell_type": "markdown",
   "id": "cef8d48e-2077-4715-858b-88d8533fda93",
   "metadata": {},
   "source": [
    "### #1 Completa lo que sabes de tus datos: definiciones y temporalidad### #1 Completa lo que sabes de tus datos: definiciones y temporalidad\n",
    "\n",
    "Y ahora sí, empezamos y lo primero que te comento que hagas es una ficha y una tabla como la siguiente:\n",
    "\n",
    "**Dataset:**  \n",
    "**Descripción:**  \n",
    "**Periodo:**  \n",
    "\n",
    "|Columna/Variable|Descripción|Tipo_de_Variable|Importancia inicial|Nota|\n",
    "|-|-|-|-|-|\n",
    "|Col1|Se trata de la variable que mide x...|||||\n",
    "Y que rellenes la parte superior y las dos primeras columnas (no rellenes tipo porque no se refiere al tipo de los valores, lo vemos más adelante) y la de notas con todo aquello especial de lo que te hayan podido informar cuando recabaste los datos y sus definiciones. Si no puedes o no lo tienes claro, PREGUNTA (a quien te proporcionó los datos)\n",
    "\n",
    "Y ahora sí, empezamos y lo primero que te comento que hagas es una ficha y una tabla como la siguiente:\n",
    "\n",
    "**Dataset:**  \n",
    "**Descripción:**  \n",
    "**Periodo:**  \n",
    "\n",
    "|Columna/Variable|Descripción|Tipo_de_Variable|Importancia inicial|Nota|\n",
    "|-|-|-|-|-|\n",
    "|Col1|Se trata de la variable que mide x...|||||\n",
    "Y que rellenes la parte superior y las dos primeras columnas (no rellenes tipo porque no se refiere al tipo de los valores, lo vemos más adelante) y la de notas con todo aquello especial de lo que te hayan podido informar cuando recabaste los datos y sus definiciones. Si no puedes o no lo tienes claro, PREGUNTA (a quien te proporcionó los datos)"
   ]
  },
  {
   "cell_type": "markdown",
   "id": "0e6c7ea4-429f-4d11-8f08-8c85f7020624",
   "metadata": {},
   "source": [
    "Debemos rellenar las columnas con su descripción.\n",
    "Se va rellenando la descripción a la vez que se van realizando preguntas a quien nos hayan pasado los datos y apuntando cualquier cosa adicional impotante.\n"
   ]
  },
  {
   "cell_type": "markdown",
   "id": "9f1d3d5a-0e78-45b0-9b25-a136a749c8a6",
   "metadata": {},
   "source": [
    "#### Caso 1: Seguros, top-down"
   ]
  },
  {
   "cell_type": "markdown",
   "id": "3f04424b-3f25-405a-9c16-b4a79458c312",
   "metadata": {},
   "source": [
    "**Dataset:**  Marketing-Customer-Analysis.csv         Primero llamar al dataset\n",
    "\n",
    "**Descripción:** Datos acumulados de clientes con CLV, respuestas de marketing y datos demográficos y de partes  \n",
    "\n",
    "**Periodo:**  Foto global hasta la fecha desde el comienzo de operaciones. \n",
    "\n",
    "Abajo la descripción del dataset, "
   ]
  },
  {
   "cell_type": "markdown",
   "id": "f4358884-6c85-491a-bf8d-39df363bfd07",
   "metadata": {},
   "source": [
    "| Nombre del campo                  | Descripción                                                                 | Tipo de variable | Importancia Inicial | Notas |\n",
    "|-----------------------------------|----------------------------------------------------------------------------|------------------|---------------------|-------|\n",
    "| customer                          | ID del cliente                                                             |                  |                     |       |\n",
    "| state                             | Estados en US                                                              |                  |                     |       |\n",
    "| customer_lifetime_value           | CLV es el valor económico del cliente para la empresa durante toda su relación |                  |                     |   En dolares    |\n",
    "| response                          | Respuesta a campañas/llamadas (marketing-engagement)                       |                  |                     |       |\n",
    "| coverage                          | Tipo de cobertura del cliente                                              |                  |                     |       |\n",
    "| education                         | Nivel educativo del cliente                                                |                  |                     |       |\n",
    "| effective_to_date                 | Fecha efectiva                                                             |                  |                     |       |\n",
    "| employmentstatus                  | Estado laboral del cliente                                                 |                  |                     |       |\n",
    "| gender                            | Género del cliente                                                         |                  |                     |       |\n",
    "| income                            | Ingresos del cliente                                                       |                  |                     |       |\n",
    "| location_code                     | Zona de residencia del cliente                                             |                  |                     |       |\n",
    "| marital_status                    | Estado Civil del cliente                                                   |                  |                     |       |\n",
    "| monthly_premium_auto              | Premium mensual                                                            |                  |                     |       |\n",
    "| months_since_last_claim           | Última reclamación del cliente                                             |                  |                     |       |\n",
    "| months_since_policy_inception     | Inicio de la póliza                                                        |                  |                     |       |\n",
    "| number_of_open_complaints         | Reclamaciones abiertas                                                     |                  |                     |  Son partes, no quejas     |\n",
    "| number_of_policies                | Número de pólizas                                                          |                  |                     |       |\n",
    "| policy_type                       | Tipo de póliza                                                             |                  |                     |       |\n",
    "| policy                            | Póliza                                                                     |                  |                     |       |\n",
    "| renew_offer_type                  | Oferta de renovación                                                       |                  |                     |       |\n",
    "| sales_channel                     | Canal de ventas (primer contacto compañía-cliente)                         |                  |                     |  Puede continuar en otro canal diferente     |\n",
    "| total_claim_amount                | Monto de la reclamación                                                    |                  |                     |       |\n",
    "| vehicle_class                     | Tipo de vehículo                                                           |                  |                     |       |\n",
    "| vehicle_size                      | Tamaño del vehículo                                                        |                  |                     |       |\n"
   ]
  },
  {
   "cell_type": "markdown",
   "id": "d87e68a1-c2bb-4683-9954-291e1d817194",
   "metadata": {},
   "source": [
    "Nos vamos a enfocar sólo en la situación y no en su evolución temporal."
   ]
  },
  {
   "cell_type": "markdown",
   "id": "38ca8de5-feb0-4ba4-b251-353a833faae8",
   "metadata": {},
   "source": [
    "#### Caso 2: Viajes, bottom-up"
   ]
  },
  {
   "cell_type": "markdown",
   "id": "876e91cf-34a5-4003-b445-fbb8541f531d",
   "metadata": {},
   "source": [
    " tenemos dos datsets, uno para el mes de Junio y otro para el mes de Julio. Así que rellenamos dos minifichas y una única tabla."
   ]
  },
  {
   "cell_type": "markdown",
   "id": "50cbc09f-e98b-4b66-afdd-77e3696272b4",
   "metadata": {},
   "source": [
    "**Dataset1:**  dataset_viajes_jun23.csv  \n",
    "**Descripción:** Datos de vuelos de las cinco compañías, con origen, destino, ingresos para el mes de Junio de 2023  \n",
    "**Periodo:**  Foto para el mes de junio. Sin datos diarios."
   ]
  },
  {
   "cell_type": "markdown",
   "id": "6b518458-cc92-4577-bb05-8258eb9f4743",
   "metadata": {},
   "source": [
    "**Dataset2:**  dataset_viajes_jun23.csv  \n",
    "**Descripción:** Datos de vuelos de las cinco compañías, con origen, destino, ingresos para el mes de Julio de 2023  \n",
    "**Periodo:**  Foto para el mes de julio. Sin datos diarios.  "
   ]
  },
  {
   "cell_type": "markdown",
   "id": "546d194b-6ba4-4cc3-aab1-e035ed593f69",
   "metadata": {},
   "source": [
    "| Nombre del campo | Descripción                                              | Tipo de variable | Importancia Inicial | Notas |\n",
    "|------------------|----------------------------------------------------------|------------------|---------------------|-------|\n",
    "| aircompany       | Nombre de la compañía aérea                              |        |                     |       |\n",
    "| origen           | Aeropuerto o ciudad de salida del vuelo                  |       |                     |       |\n",
    "| destino          | Aeropuerto o ciudad de llegada del vuelo                 |       |                     |       |\n",
    "| distancia        | Distancia recorrida por el vuelo en kilómetros           |      |                     |       |\n",
    "| avion            | Modelo o tipo de avión utilizado en el vuelo             |      |                     |       |\n",
    "| con_escala       | Indicador de si el vuelo tiene escalas (Sí/No)           |          |                     |       |\n",
    "| consumo_kg       | Consumo de combustible en kilogramos del vuelo           |        |                     |       |\n",
    "| duracion         | Tiempo total del vuelo en minutos                |        |                     |       |\n",
    "| ingresos         | Ingresos generados por el vuelo                         |         |                     |   Euros    |\n",
    "| id_vuelo         | Identificador del vuelo                            |        |                     | Es el mismo para Origen-Destino y compañía, no es único      |\n",
    "| mes              | Mes en el que se realizó el vuelo                        |       |                     |    Con año   |\n"
   ]
  },
  {
   "cell_type": "markdown",
   "id": "5cf36a90-8666-44db-aeb1-5b8dd76f4831",
   "metadata": {},
   "source": [
    "#### Análisis con periodos temporales o históricos."
   ]
  },
  {
   "cell_type": "markdown",
   "id": "ec49275f-5af4-4d35-95cb-923c0987822d",
   "metadata": {},
   "source": [
    " que debes decidir qué haces cuando tienes histórico: ¿un mini-análisis por mes y luego los comparo?¿Concateno los dataframes y uso la variable temporal como una variable más de análisis\n",
    "una respuesta correcta, depende y por tanto, o bien preguntamos a nuestros jefes o bien usamos el mejor criterio que tengamos.  \n",
    " con temas de histórico y temporales se suele dividir el análisis en \"estaciones\" o \"periodos\", analizarlos cada uno por separado y por año y compararlos entre sí luego\n",
    "analizar uno sólo y luego analizaremos el otro (repitiendo los pasos y compararemos, de hecho lo harás tú en los ejercicios)\n",
    "os centramos en Junio y luego lo llevaremos a Julio."
   ]
  },
  {
   "cell_type": "markdown",
   "id": "4495be1d-2b77-4de7-b7e1-8e1982d355e7",
   "metadata": {},
   "source": [
    "### #2 Completa lo que sabes de tus datos: variables numéricas y categóricas\n",
    " rellenar la columna de tipo de variables, pero no el tipo Python o pandas, sino el tipo categórico, numérico, fecha o booleanos que ya vimos.\n",
    "las vamos a tratar diferentes y sobre todo, porque a la hora de hacer el análisis lo despiezaremos por un tipo de variables y lo realizaremos sobre otro tipo de variables (en general, no hay un caso único).\n",
    "repasemos los tipos de forma somera\n",
    "#### Variables categóricas, numéricas, fechas y binarias:\n",
    "lamamos variable o feature o característica a cada una de las columnas de nuestros datos tabulares\n",
    " vamos a marcar que tipo son siguiendo el siguiente esquema: "
   ]
  },
  {
   "cell_type": "markdown",
   "id": "f9c673bf-b3b6-45e5-8867-a2fda59f63c5",
   "metadata": {},
   "source": [
    "Hay que repasar las variables **categóricas** y **numéricas**:\n",
    "\n",
    "En las **categóricas**, encontramos las nominales, que tienen relación de orden entre ellas y hay un orden(Mejoría de un tratamiento, satisfacción, intensidad de dolor...). Y las **nominales**, no hay orden, los valores son distintos entre sí(Sexo, religión, grupo sanguineo...).\n",
    "\n",
    "En las **numéricas**, distinguimos las **discretas**, que le pertenece números enteros (Nº hijos, alumnos, edad...) y **continuas** que le pertenecen decimales(peso, altura, ingresos...)."
   ]
  },
  {
   "cell_type": "markdown",
   "id": "651661ab-3bfb-4ff9-9663-bfb819eb386e",
   "metadata": {},
   "source": [
    " en general también distiguiremos las tipo Fecha (si no nos las han dado convertidas) y un tipo especial de Categóricas que son las que solo tienen dos valores (las binarias)"
   ]
  },
  {
   "cell_type": "code",
   "execution_count": null,
   "id": "4032dfb3-5b9c-487e-9077-6837521564a6",
   "metadata": {},
   "outputs": [],
   "source": []
  },
  {
   "cell_type": "markdown",
   "id": "9a8a42b7-f4ee-4b04-be95-d1c019d63168",
   "metadata": {},
   "source": [
    "clasificar\n",
    "variables para los dos casos\n",
    "obtén siempre la cardinalidad de las variables por si te ayuda junto con las descripciones a usarlo."
   ]
  },
  {
   "cell_type": "code",
   "execution_count": null,
   "id": "ea3e9b3e-bfc2-4201-9e70-cfc32096d44b",
   "metadata": {},
   "outputs": [],
   "source": [
    "# Caso 1. Selección\n",
    "\n",
    "df_tipificacion = pd.DataFrame([df_seguros.nunique(), df_seguros.nunique()/len(df_seguros) * 100, df_seguros.dtypes]).T.rename(columns = {0: \"Card\",\\\n",
    "                                                                                                                                 1: \"%_Card\", 2: \"Tipo\"})\n",
    "df_tipificacion #obtener cardinalidad y elo tipo"
   ]
  },
  {
   "cell_type": "code",
   "execution_count": null,
   "id": "4576e869-6b09-4bf2-a9ac-048eb2ad8080",
   "metadata": {},
   "outputs": [],
   "source": [
    "df_seguros.effective_to_date #son fechas referidas a clientesde un mismo año"
   ]
  },
  {
   "cell_type": "markdown",
   "id": "73314649-f557-4136-adb8-9850971e22ca",
   "metadata": {},
   "source": [
    "podemos hacer una clasificación directa por la cardinalidad, directamente los que tengan 2 serán binarios, los que tengan menos de 10 valores categóricas y el resto numéricas.   \n",
    "Dentro de las numéricas, las que tengan % de cardinalidad superior al 30% las consideraremos continuas, el resto serán discretas. \n",
    "finalmente las de cardinalidad 100% serán indices.\n",
    "las categóricas habrá que separarlas en ordinales y nominales, las tipo fecha que no aparecen como tal pues como fechas\n",
    "\n",
    "\n",
    " primer análisis para el caso 1, y te dejo resueto el caso 2 para que lo hagas por tu cuenta."
   ]
  },
  {
   "cell_type": "code",
   "execution_count": null,
   "id": "ecfd500a-f0bd-4667-a1e8-9c8a9e237bfd",
   "metadata": {},
   "outputs": [],
   "source": [
    "df_tipificacion[\"Clasificada_como\"] = \"Categorica\" # PArtiendo de que casi todas parecen categóricas y las clasificamos como tal\n",
    "df_tipificacion.loc[df_tipificacion.Card == 2, \"Clasificada_como\"] = \"Binaria\" #cardinalidad = 2 binarias\n",
    "df_tipificacion.loc[df_tipificacion[\"Card\"] > 10, \"Clasificada_como\"] =\"Numerica Discreta\" #cardinalidad > 10 numérica discreta\n",
    "df_tipificacion.loc[df_tipificacion[\"%_Card\"] > 30, \"Clasificada_como\"] = \"Numerica Continua\" #cardinalidad > 30 numérica continua\n",
    "df_tipificacion\n",
    "#tipìficación clasificada nos la llevamos a nuestra tabla.\n"
   ]
  },
  {
   "cell_type": "markdown",
   "id": "e12fb3ab-097a-4e22-b084-6d122474f73b",
   "metadata": {},
   "source": [
    "+ Si las repasamos, vemos que customer con esa cardinalidad, y viendo sus valores, es claramente un índice. Y lo marcaremos así.\n",
    "+ Las otras variables que me llaman la atención: effective_to_date (por la definición que claramente dice que es una fecha), todas las que comienzan por number (porque tienen pinta de que son numéricas discretas y así es como es mejor clasificarlas).\n",
    "+ Para estas haremos un unique:\n"
   ]
  },
  {
   "cell_type": "code",
   "execution_count": 8,
   "id": "be44237d-d94b-4d24-b732-eb9feff22606",
   "metadata": {},
   "outputs": [
    {
     "ename": "IndentationError",
     "evalue": "unexpected indent (674223954.py, line 3)",
     "output_type": "error",
     "traceback": [
      "\u001b[1;36m  Cell \u001b[1;32mIn[8], line 3\u001b[1;36m\u001b[0m\n\u001b[1;33m    '1/18/11', '1/26/11', '2/17/11', '2/21/11', '1/6/11', '2/6/11',\u001b[0m\n\u001b[1;37m    ^\u001b[0m\n\u001b[1;31mIndentationError\u001b[0m\u001b[1;31m:\u001b[0m unexpected indent\n"
     ]
    }
   ],
   "source": [
    "df_seguros.effective_to_date.unique() # Sí es una fecha\n",
    "#resultado:\n",
    "array(['2/24/11', '1/31/11', '2/19/11', '1/20/11', '2/3/11', '1/25/11',\n",
    "       '1/18/11', '1/26/11', '2/17/11', '2/21/11', '1/6/11', '2/6/11',\n",
    "       '1/10/11', '1/17/11', '1/5/11', '2/27/11', '1/14/11', '1/21/11',\n",
    "       '2/5/11', '1/29/11', '2/28/11', '2/12/11', '2/2/11', '2/7/11',\n",
    "       '1/22/11', '2/13/11', '1/15/11', '1/8/11', '1/11/11', '1/28/11',\n",
    "       '2/8/11', '2/23/11', '1/2/11', '2/16/11', '1/27/11', '1/23/11',\n",
    "       '1/9/11', '2/11/11', '2/4/11', '2/1/11', '2/15/11', '2/26/11',\n",
    "       '1/16/11', '1/1/11', '2/10/11', '1/24/11', '2/25/11', '1/12/11',\n",
    "       '2/9/11', '1/19/11', '1/4/11', '2/14/11', '2/20/11', '2/18/11',\n",
    "       '1/3/11', '1/13/11', '1/30/11', '2/22/11', '1/7/11'], dtype=object)\n"
   ]
  },
  {
   "cell_type": "code",
   "execution_count": null,
   "id": "c362a4e8-b727-4d52-98f6-49da9abb24d3",
   "metadata": {},
   "outputs": [],
   "source": [
    "df_seguros.number_of_open_complaints.unique() #hay relación de orden con 4 complains abiertos y las clasificamos como numéricas\n",
    "#resultado:\n",
    "array([0, 2, 1, 3, 5, 4])"
   ]
  },
  {
   "cell_type": "code",
   "execution_count": null,
   "id": "20eaa2c2-fcf8-4502-872b-420aa353e9fb",
   "metadata": {},
   "outputs": [],
   "source": [
    "df_seguros.number_of_policies.unique() \n",
    "resultado:array([1, 8, 2, 7, 9, 4, 3, 6, 5])"
   ]
  },
  {
   "cell_type": "markdown",
   "id": "ddc94392-bc64-4aed-b479-6034c7a3eca7",
   "metadata": {},
   "source": [
    "Resultado de la tabla descriptiva"
   ]
  },
  {
   "cell_type": "markdown",
   "id": "cf23809c-63a1-4543-848f-3f40f6b0f9c4",
   "metadata": {},
   "source": [
    "| Nombre del campo                  | Descripción                                                                 | Tipo de variable      | Importancia Inicial | Notas |\n",
    "|-----------------------------------|----------------------------------------------------------------------------|-----------------------|---------------------|-------|\n",
    "| customer                          | ID del cliente                                                             | Índice Único           |                     |       |\n",
    "| state                             | Estados en US                                                              | Categórica            |                     |       |\n",
    "| customer_lifetime_value           | CLV es el valor económico del cliente para la empresa durante toda su relación | Numérica Continua    |                     |       |\n",
    "| response                          | Respuesta a campañas/llamadas (marketing-engagement)                       | Binaria          |                     |       |\n",
    "| coverage                          | Tipo de cobertura del cliente                                              | Categórica            |                     |       |\n",
    "| education                         | Nivel educativo del cliente                                                | Categórica            |                     |       |\n",
    "| effective_to_date                 | Fecha efectiva                                                             | Fecha                 |                     |       |\n",
    "| employmentstatus                  | Estado laboral del cliente                                                 | Categórica            |                     |       |\n",
    "| gender                            | Género del cliente                                                         | Binaria            |                     |       |\n",
    "| income                            | Ingresos del cliente                                                       | Numérica Continua     |                     |       |\n",
    "| location_code                     | Zona de residencia del cliente                                             | Categórica            |                     |       |\n",
    "| marital_status                    | Estado Civil del cliente                                                   | Categórica            |                     |       |\n",
    "| monthly_premium_auto              | Premium mensual                                                            | Numérica Continua     |                     |       |\n",
    "| months_since_last_claim           | Última reclamación del cliente                                             | Numérica Continua     |                     |       |\n",
    "| months_since_policy_inception     | Inicio de la póliza                                                        | Numérica Continua     |                     |       |\n",
    "| number_of_open_complaints         | Reclamaciones abiertas                                                     | Numérica Discreta     |                     |       |\n",
    "| number_of_policies                | Número de pólizas                                                          | Numérica Discreta     |                     |       |\n",
    "| policy_type                       | Tipo de póliza                                                             | Categórica            |                     |       |\n",
    "| policy                            | Póliza                                                                     | Categórica            |                     |       |\n",
    "| renew_offer_type                  | Oferta de renovación                                                       | Categórica            |                     |       |\n",
    "| sales_channel                     | Canal de ventas (primer contacto compañía-cliente)                         | Categórica            |                     |       |\n",
    "| total_claim_amount                | Monto de la reclamación                                                    | Numérica Continua     |                     |       |\n",
    "| vehicle_class                     | Tipo de vehículo                                                           | Categórica            |                     |       |\n",
    "| vehicle_size                      | Tamaño del vehículo                                                        | Categórica            |                     |       |\n"
   ]
  },
  {
   "cell_type": "markdown",
   "id": "6b4f4b6b-570c-47f0-819b-eae23d9a6c15",
   "metadata": {},
   "source": [
    "#### Caso 2. Definición de tipos."
   ]
  },
  {
   "cell_type": "markdown",
   "id": "430e13b3-bae9-4071-b17d-70bbe1b8e2c4",
   "metadata": {},
   "source": [
    " resultado para el análisis inicial de tipos en el caso de los vuelos aéreos:"
   ]
  },
  {
   "cell_type": "markdown",
   "id": "5a333e4c-53ee-473b-b360-96b1a7b6487d",
   "metadata": {},
   "source": [
    "| Nombre del campo | Descripción                                              | Tipo de variable | Importancia Inicial | Notas |\n",
    "|------------------|----------------------------------------------------------|------------------|---------------------|-------|\n",
    "| aircompany       | Nombre de la compañía aérea                              | Categórica       |                     |       |\n",
    "| origen           | Aeropuerto o ciudad de salida del vuelo                  | Categórica       |                     |       |\n",
    "| destino          | Aeropuerto o ciudad de llegada del vuelo                 | Categórica       |                     |       |\n",
    "| distancia        | Distancia recorrida por el vuelo en kilómetros           | Numérica Continua       |                     |       |\n",
    "| avion            | Modelo o tipo de avión utilizado en el vuelo             | Categórica       |                     |       |\n",
    "| con_escala       | Indicador de si el vuelo tiene escalas (Sí/No)           | Binaria          |                     |       |\n",
    "| consumo_kg       | Consumo de combustible en kilogramos del vuelo           | Numérica Continua        |                     |       |\n",
    "| duracion         | Tiempo total del vuelo en minutos                | Numérica Continua     |                     |       |\n",
    "| ingresos         | Ingresos generados por el vuelo                          | Numérica Continua     |                     |       |\n",
    "| id_vuelo         | Identificador único del vuelo                            | Categórica       |                     |       |\n",
    "| mes              | Mes en el que se realizó el vuelo                        | Categórica        |                     | No aporta mientras no se compare con otros meses       |\n"
   ]
  },
  {
   "cell_type": "markdown",
   "id": "a057ded7-d8c5-4d29-85e8-4f5a93230f00",
   "metadata": {},
   "source": [
    "### #3 Variables directoras (target)\n",
    " tenemos que hacer es intentar priorizar un poco más las variables\n",
    " \n",
    "* Marcar las que son principales o directoras (serán lo que llamaremos target cuando entremos en modelos).\n",
    "* \n",
    "* Marcar las variables que puedan ser interesantes para hacer un estudio agrupando por las mismas.\n",
    "* \n",
    "Según esos criterios, a mí me sale lo siguiente (pero ojo aquí entra un poco el sentido común y el conocimiento,sí, del negocio), clasificándolas en **target/directora (0)** [como el income, gastos, beneficios...Nos suelen decir lo importante o debemos buscar loq eu creemos que lo es] , **agrupación importante (1)** , **agrupación interesante (2)** , **agrupación secundaria (3)**[descartadas, o aquellas que creemos que son importantes para buscar las del resto]"
   ]
  },
  {
   "cell_type": "markdown",
   "id": "f01f13ab-3036-466a-9795-da77f6ba83de",
   "metadata": {},
   "source": [
    "#### Caso 1."
   ]
  },
  {
   "cell_type": "markdown",
   "id": "aa27d046-2cbc-48f0-a0da-a5263d646862",
   "metadata": {},
   "source": [
    "| Nombre del campo                  | Descripción                                                                 | Tipo de variable      | Importancia Inicial | Notas                                                     |\n",
    "|-----------------------------------|----------------------------------------------------------------------------|-----------------------|---------------------|-----------------------------------------------------------|\n",
    "| customer                          | ID del cliente                                                             | Categórica            | -                   | Identificador único, para análisis muy de detalle (outliers)           |\n",
    "| state                             | Estados en US                                                              | Categórica            | 2                   | Puede influir en las preferencias y necesidades del cliente|\n",
    "| customer_lifetime_value           | CLV es el valor económico del cliente para la empresa durante toda su relación | Numérica Continua    | 0                   | Indicador clave de la lealtad y rentabilidad del cliente  |\n",
    "| response                          | Respuesta a campañas/llamadas (marketing-engagement)                       | Categórica            | 0                   | Mide la eficacia del engagement y marketing y nos la han marcado como importante              |\n",
    "| coverage                          | Tipo de cobertura del cliente                                              | Categórica            | 2                   | Relacionado con el nivel de servicio y precio              |\n",
    "| education                         | Nivel educativo del cliente                                                | Categórica            | 1                   | Demográfica  |\n",
    "| effective_to_date                 | Fecha efectiva                                                             | Fecha                 | -                 | Todos los valores al mes de estudio, no valor real aparente |\n",
    "| employmentstatus                  | Estado laboral del cliente                                                 | Categórica            | 2                   | Puede influir en la capacidad de pago y tipo de servicio   |\n",
    "| gender                            | Género del cliente                                                         | Categórica            | 1                   | Útil para análisis demográfico                             |\n",
    "| income                            | Ingresos del cliente                                                       | Numérica Continua     | 0                   | Indica el poder adquisitivo y potencial de gasto del cliente |\n",
    "| location_code                     | Zona de residencia del cliente                                             | Categórica            | 1                   | Clave para análisis regional y de accesibilidad            |\n",
    "| marital_status                    | Estado Civil del cliente                                                   | Categórica            | 1                   | Demográfica             |\n",
    "| monthly_premium_auto              | Premium mensual                                                            | Numérica Continua     | 1                   | Indicador de ingresos recurrentes y lealtad del cliente   |\n",
    "| months_since_last_claim           | Última reclamación del cliente                                             | Numérica Continua     | 2                   | Proporciona información sobre la frecuencia de reclamaciones |\n",
    "| months_since_policy_inception     | Inicio de la póliza                                                        | Numérica Continua     | 2                   | Útil para entender la antigüedad y lealtad del cliente     |\n",
    "| number_of_open_complaints         | Reclamaciones abiertas                                                     | Numérica Discreta     | 3                   | Indica el nivel de satisfacción o problemas del cliente    |\n",
    "| number_of_policies                | Número de pólizas                                                          | Numérica Discreta     | 1                   | Refleja la diversificación y la profundidad de la relación con el cliente |\n",
    "| policy_type                       | Tipo de póliza                                                             | Categórica            | 2                   | Proporciona insights sobre preferencias de cobertura       |\n",
    "| policy                            | Póliza                                                                     | Categórica            | 3                   | Detalle específico de la cobertura del cliente             |\n",
    "| renew_offer_type                  | Oferta de renovación                                                       | Categórica            | 1                   | Mide la efectividad de las estrategias de retención        |\n",
    "| sales_channel                     | Canal de ventas (primer contacto compañía-cliente)                         | Categórica            | 1                   | Clave para analizar la eficacia de los canales de venta    |\n",
    "| total_claim_amount                | Monto de la reclamación                                                    | Numérica Continua     | 0                   | Indica el costo de las reclamaciones y la salud financiera de la empresa |\n",
    "| vehicle_class                     | Tipo de vehículo                                                           | Categórica            | 2                   | Puede indicar preferencias y necesidades específicas       |\n",
    "| vehicle_size                      | Tamaño del vehículo                                                        | Categórica            | 3                   | Relacionado con el tipo de cobertura y riesgo              |\n"
   ]
  },
  {
   "cell_type": "markdown",
   "id": "68c61a92-445c-4375-9a36-1aa782d37dca",
   "metadata": {},
   "source": [
    "#### Caso 2."
   ]
  },
  {
   "cell_type": "markdown",
   "id": "c39a08ec-c2eb-4005-8de5-bdc64d533afa",
   "metadata": {},
   "source": [
    "| Nombre del campo | Descripción                                              | Tipo de variable | Importancia Inicial | Notas                                           |\n",
    "|------------------|----------------------------------------------------------|------------------|---------------------|-------------------------------------------------|\n",
    "| aircompany       | Nombre de la compañía aérea                              | Categórica       | 1                   | Importante desde el momento en que es básicamente un análisis comparativo entre compañías|\n",
    "| origen           | Aeropuerto o ciudad de salida del vuelo                  | Categórica       | 2                   | Importante para análisis geográficos, y de rutas ?hay rutas muy cubiertas?¿poco?     |\n",
    "| destino          | Aeropuerto o ciudad de llegada del vuelo                 | Categórica       | 2                   | Clave para entender rutas y conexiones y posibles destinos no cubiertos, nuevos mercados          |\n",
    "| distancia        | Distancia recorrida por el vuelo en kilómetros           | Numérica         | 1                   | Impacta en consumo de combustible y duración    |\n",
    "| avion            | Modelo o tipo de avión utilizado en el vuelo             | Categórica       | 2                   | Relacionado con la capacidad y eficiencia       |\n",
    "| con_escala       | Indicador de si el vuelo tiene escalas (Sí/No)           | Binaria          | 3                  | Puede ser interesante, pero hasta no verla con más detalle, parece menos importante que el resto        |\n",
    "| consumo_kg       | Consumo de combustible en kilogramos del vuelo           | Numérica         | 0                   | Esencial para análisis de eficiencia y costes   |\n",
    "| duracion         | Tiempo total del vuelo en horas o minutos                | Numérica         | 1                   | Importante para la planificación y logística    |\n",
    "| ingresos         | Ingresos generados por el vuelo                          | Numérica         | 0                   | Indicador clave de rentabilidad                 |\n",
    "| id_vuelo         | Identificador único del vuelo                            | Categórica       | -                   | En principio descartada |\n",
    "| mes              | Mes en el que se realizó el vuelo                        | Categórica       | -                   |  No es útil si no es para la comparación y ya están separados los datasets |\n"
   ]
  },
  {
   "cell_type": "markdown",
   "id": "3d2974a2-1851-4960-89c6-ade2e29f0cd2",
   "metadata": {},
   "source": [
    "# Importante \n",
    "Además he añadido notas que te pueden servir de guía en tu propio EDA. En general consideramos las variables importantes en función del siguiente criterio:\n",
    "* Indican éxito,fracso y precio o coste: ingresos, numero de clientes, numero de visitas, conversiones, numero de vidas salvadas, numero de ventas, de clientes satisfechos, de personas felices, etc etc y costes (Estas suelen ser importantes siempre, y con un criterio amplio)\n",
    "* Indican perfiles de cliente, sobre quién o qué debemos actuar o no hacerlo: variables que ayudan a perfilar el cliente, o la entidad que nos interese (empresas en las que invertir, zonas del cuerpo en las que intervenir, etc) \n",
    "* Permiten conocer dónde y cuándo: Lugares geográficos, temporales, etc."
   ]
  },
  {
   "cell_type": "markdown",
   "id": "d99a2eed-9333-4106-be12-573a9c82061f",
   "metadata": {},
   "source": [
    "### SIGUIENTES PASOS"
   ]
  },
  {
   "cell_type": "markdown",
   "id": "63833bb5-6fcc-4568-b209-e97a2fa336aa",
   "metadata": {},
   "source": [
    "Todo lo anterior es aplicar unos cálculos, considerar nuestras definiciones y criterios o bien dados o bien genéricos para poner un poco de orden y si es necesario preguntar más antes de epmezar con el análisis. Este se puede continuar de muchas formas, pero nuestro plan para las siguientes sesiones es:\n",
    "\n",
    "* Vamos a analizar las variables de forma separada. Lo que se llama **análisis univariante**.\n",
    "\n",
    "* Vamos a analizar las variables relacionándolas entre sí (de dos en dos, **análisis bivarinante**, o en grupos **análisis multivariante**): bien por agrupaciones o bien buscando relaciones matemáticas entre ellas.\n",
    "\n",
    "- Para cada paso iremos tomando notas, buscando descubrir cosas (con un criterio muy sencillo: Lo que destaque y si no destaca nada, eso es lo destacado). Emplearemos medidas estadísticas, análisis visual sobre gráficas y uso de tablas (de frecuencias generalmente)\n",
    "\n",
    "- Nuestro análisis estará más guiado o menos en función de si partimos con cuestiones e hipótesis previas o no, pero al terminar una \"primera\" pasada tendremos conclusiones y respuestas (y la falta de estas también es una conclusión). \n",
    "\n",
    "- En ese momento decidiremos si queremos o necesitamos dar una segunda vuelta o tercer vuelta o ahondar en algún aspecto que se no has quedado cojo (puede incluso que queramos más datos) o bien pasamos ya a ordenar nuestras conclusiones de forma que cuenten una historia y entraríamos ya en el sprint siguiente dedicado a mostrar y presentar resultados.\n"
   ]
  },
  {
   "cell_type": "markdown",
   "id": "da57f775-cb6e-4a93-b924-d14031973326",
   "metadata": {},
   "source": [
    "ANEXO:\n",
    "\n",
    "La estadística se divide en dos grandes áreas:\n",
    "\n",
    "- **Estadística descriptiva**: Se dedica a la **descripción, visualización y resumen** de datos originados a partir de los fenómenos de estudio. Los datos pueden ser resumidos **numérica o gráficamente**. Su objetivo es organizar y describir las características sobre un conjunto de datos con el propósito de facilitar su aplicación, generalmente con el apoyo de gráficas, tablas o medidas numéricas.\n",
    "\n",
    "    - Ejemplos básicos de parámetros estadísticos son: la media y la desviación estándar.\n",
    "    - Ejemplos gráficos son: histograma, pirámide poblacional, gráfico circular, entre otros.\n",
    "    \n",
    "\n",
    "- **Estadística inferencial**: Se dedica a la generación de los **modelos, inferencias y predicciones** asociadas a los fenómenos en cuestión teniendo en cuenta la aleatoriedad de las observaciones. Se usa para modelar **patrones en los datos** y extraer inferencias acerca de la población bajo estudio. Estas inferencias pueden tomar la forma de respuestas a preguntas sí/no (prueba de hipótesis), estimaciones de unas características numéricas (estimación). **Su objetivo es obtener conclusiones útiles para lograr hacer deducciones acerca de la totalidad de todas las observaciones hechas, basándose en la información numérica.**"
   ]
  },
  {
   "cell_type": "code",
   "execution_count": null,
   "id": "16c5f59a-71e6-4a28-a326-70f8ccd43b01",
   "metadata": {},
   "outputs": [],
   "source": []
  }
 ],
 "metadata": {
  "kernelspec": {
   "display_name": "Python 3 (ipykernel)",
   "language": "python",
   "name": "python3"
  },
  "language_info": {
   "codemirror_mode": {
    "name": "ipython",
    "version": 3
   },
   "file_extension": ".py",
   "mimetype": "text/x-python",
   "name": "python",
   "nbconvert_exporter": "python",
   "pygments_lexer": "ipython3",
   "version": "3.10.11"
  }
 },
 "nbformat": 4,
 "nbformat_minor": 5
}
