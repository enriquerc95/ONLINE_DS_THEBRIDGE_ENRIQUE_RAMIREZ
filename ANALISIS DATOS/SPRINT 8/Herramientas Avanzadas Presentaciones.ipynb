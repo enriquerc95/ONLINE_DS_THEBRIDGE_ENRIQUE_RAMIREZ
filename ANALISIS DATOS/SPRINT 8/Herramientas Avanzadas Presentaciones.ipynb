{
 "cells": [
  {
   "cell_type": "markdown",
   "id": "8c51fd84-edfb-4b65-8784-e0ea17103347",
   "metadata": {},
   "source": [
    "# Visualización Aplicada: Intro a Seaborn"
   ]
  },
  {
   "cell_type": "markdown",
   "id": "a3c7c0f0-f919-4578-9138-a5a6753326af",
   "metadata": {},
   "source": [
    "### Consideraciones Generales en Visualización"
   ]
  },
  {
   "cell_type": "markdown",
   "id": "7877aa1b-dbc7-4354-bfb2-e9654733d405",
   "metadata": {},
   "source": [
    "* La visualización para el **análisis NO es** la visualización para **presentar el resultado** del análisis"
   ]
  },
  {
   "cell_type": "markdown",
   "id": "356cf0b1-3131-46b0-aa94-49d7dab4a0ac",
   "metadata": {},
   "source": [
    "+ Primero, porque **TIENEN OBJETIVOS DISTINTOS**. El análisis nos sirve para extraer información importante, respuestas a nuestras preguntas. La presentación de resultados tiene como objetivo como mostrar esa información de la forma más relevante para el destinatrario de esos resultados.\n",
    "+ \n",
    "Segundo, porque generalmente **TIENEN PÚBLICOS DISTINTOS**. El análisis es para ti o para un grupo de colaboradores (el análisis no es para tus jefes, salvo que sea colaborador en el proyecto, si tienes que mostrar el análisis a jefes consideralo una Presentación aunque en esa sí puedas/debas enseñar mucho del cómo). La presentación es para el que ha encargado el proyecto, para convencer a un tercero, para informar, para quedar tú como el gran sultán de los datos (es decir para un conjunto de \"espectadores\"), etc, etc."
   ]
  },
  {
   "cell_type": "markdown",
   "id": "57f3ee30-7fa0-4cf2-921f-e94e84dfc625",
   "metadata": {},
   "source": [
    "De lo anterior surgen dos primeras guías importantes para  las visualizaciones:\n",
    "\n",
    "+ En una ánalisis tus visualizaciones pueden contener todos los datos comparados que tu cerebro pueda admitir. El límite lo pones tú o el grupo de trabajo.\n",
    "\n",
    "+ En una presentación la cantidad de información de la visualización depende del objetivo de la presentación. Si:\n",
    "\n",
    "    * Es una **presentación de resultados y conclusiones**: La visualización debe contener **uno o como mucho dos DATOS destacados**, el resto aparecer como complemento estético o comparativo (no importa el dato en sí sino lo que refuerza o debilita a los anteriores), **por mensaje**. Y esos dos DATOS no son cualesquiera son los que mejor y más apoyen el mensaje que quieres transmitir.\n",
    "\n",
    "    * Es una **exposición** de los mismos, por ejemplo **una infografía**: Entonces debe contener la mayor cantidad de **datos relevantes**, expuestos de la forma más **clara, significativa y separada** posible. "
   ]
  },
  {
   "cell_type": "markdown",
   "id": "755ee35f-95e4-4e5d-8a52-1753122ec10a",
   "metadata": {},
   "source": [
    "### Seaborn y Matpotlib\n",
    "**Seaborn** es una biblioteca de visualización de datos en Python que está construida sobre Matplotlib. Se puede considerar como una extensión o un \"wrapper\" de Matplotlib que proporciona una interfaz de alto nivel para dibujar gráficos estadísticos atractivos y más informativos."
   ]
  },
  {
   "cell_type": "code",
   "execution_count": 1,
   "id": "2ea859ec-f35a-41c8-944a-2037dc9c6ddd",
   "metadata": {},
   "outputs": [],
   "source": [
    "import matplotlib.pyplot as plt\n",
    "import numpy as np\n",
    "import pandas as pd\n",
    "import seaborn as sns"
   ]
  },
  {
   "cell_type": "code",
   "execution_count": 5,
   "id": "6967cb0f-59a5-4d17-8dac-e100db7aaadc",
   "metadata": {},
   "outputs": [
    {
     "ename": "FileNotFoundError",
     "evalue": "[Errno 2] No such file or directory: './data/titanic.csv'",
     "output_type": "error",
     "traceback": [
      "\u001b[1;31m---------------------------------------------------------------------------\u001b[0m",
      "\u001b[1;31mFileNotFoundError\u001b[0m                         Traceback (most recent call last)",
      "Cell \u001b[1;32mIn[5], line 1\u001b[0m\n\u001b[1;32m----> 1\u001b[0m df \u001b[38;5;241m=\u001b[39m \u001b[43mpd\u001b[49m\u001b[38;5;241;43m.\u001b[39;49m\u001b[43mread_csv\u001b[49m\u001b[43m(\u001b[49m\u001b[38;5;124;43m\"\u001b[39;49m\u001b[38;5;124;43m./data/titanic.csv\u001b[39;49m\u001b[38;5;124;43m\"\u001b[39;49m\u001b[43m)\u001b[49m\n",
      "File \u001b[1;32mc:\\Users\\enrik\\AppData\\Local\\Programs\\Python\\Python310\\lib\\site-packages\\pandas\\io\\parsers\\readers.py:948\u001b[0m, in \u001b[0;36mread_csv\u001b[1;34m(filepath_or_buffer, sep, delimiter, header, names, index_col, usecols, dtype, engine, converters, true_values, false_values, skipinitialspace, skiprows, skipfooter, nrows, na_values, keep_default_na, na_filter, verbose, skip_blank_lines, parse_dates, infer_datetime_format, keep_date_col, date_parser, date_format, dayfirst, cache_dates, iterator, chunksize, compression, thousands, decimal, lineterminator, quotechar, quoting, doublequote, escapechar, comment, encoding, encoding_errors, dialect, on_bad_lines, delim_whitespace, low_memory, memory_map, float_precision, storage_options, dtype_backend)\u001b[0m\n\u001b[0;32m    935\u001b[0m kwds_defaults \u001b[38;5;241m=\u001b[39m _refine_defaults_read(\n\u001b[0;32m    936\u001b[0m     dialect,\n\u001b[0;32m    937\u001b[0m     delimiter,\n\u001b[1;32m   (...)\u001b[0m\n\u001b[0;32m    944\u001b[0m     dtype_backend\u001b[38;5;241m=\u001b[39mdtype_backend,\n\u001b[0;32m    945\u001b[0m )\n\u001b[0;32m    946\u001b[0m kwds\u001b[38;5;241m.\u001b[39mupdate(kwds_defaults)\n\u001b[1;32m--> 948\u001b[0m \u001b[38;5;28;01mreturn\u001b[39;00m \u001b[43m_read\u001b[49m\u001b[43m(\u001b[49m\u001b[43mfilepath_or_buffer\u001b[49m\u001b[43m,\u001b[49m\u001b[43m \u001b[49m\u001b[43mkwds\u001b[49m\u001b[43m)\u001b[49m\n",
      "File \u001b[1;32mc:\\Users\\enrik\\AppData\\Local\\Programs\\Python\\Python310\\lib\\site-packages\\pandas\\io\\parsers\\readers.py:611\u001b[0m, in \u001b[0;36m_read\u001b[1;34m(filepath_or_buffer, kwds)\u001b[0m\n\u001b[0;32m    608\u001b[0m _validate_names(kwds\u001b[38;5;241m.\u001b[39mget(\u001b[38;5;124m\"\u001b[39m\u001b[38;5;124mnames\u001b[39m\u001b[38;5;124m\"\u001b[39m, \u001b[38;5;28;01mNone\u001b[39;00m))\n\u001b[0;32m    610\u001b[0m \u001b[38;5;66;03m# Create the parser.\u001b[39;00m\n\u001b[1;32m--> 611\u001b[0m parser \u001b[38;5;241m=\u001b[39m TextFileReader(filepath_or_buffer, \u001b[38;5;241m*\u001b[39m\u001b[38;5;241m*\u001b[39mkwds)\n\u001b[0;32m    613\u001b[0m \u001b[38;5;28;01mif\u001b[39;00m chunksize \u001b[38;5;129;01mor\u001b[39;00m iterator:\n\u001b[0;32m    614\u001b[0m     \u001b[38;5;28;01mreturn\u001b[39;00m parser\n",
      "File \u001b[1;32mc:\\Users\\enrik\\AppData\\Local\\Programs\\Python\\Python310\\lib\\site-packages\\pandas\\io\\parsers\\readers.py:1448\u001b[0m, in \u001b[0;36mTextFileReader.__init__\u001b[1;34m(self, f, engine, **kwds)\u001b[0m\n\u001b[0;32m   1445\u001b[0m     \u001b[38;5;28mself\u001b[39m\u001b[38;5;241m.\u001b[39moptions[\u001b[38;5;124m\"\u001b[39m\u001b[38;5;124mhas_index_names\u001b[39m\u001b[38;5;124m\"\u001b[39m] \u001b[38;5;241m=\u001b[39m kwds[\u001b[38;5;124m\"\u001b[39m\u001b[38;5;124mhas_index_names\u001b[39m\u001b[38;5;124m\"\u001b[39m]\n\u001b[0;32m   1447\u001b[0m \u001b[38;5;28mself\u001b[39m\u001b[38;5;241m.\u001b[39mhandles: IOHandles \u001b[38;5;241m|\u001b[39m \u001b[38;5;28;01mNone\u001b[39;00m \u001b[38;5;241m=\u001b[39m \u001b[38;5;28;01mNone\u001b[39;00m\n\u001b[1;32m-> 1448\u001b[0m \u001b[38;5;28mself\u001b[39m\u001b[38;5;241m.\u001b[39m_engine \u001b[38;5;241m=\u001b[39m \u001b[38;5;28;43mself\u001b[39;49m\u001b[38;5;241;43m.\u001b[39;49m\u001b[43m_make_engine\u001b[49m\u001b[43m(\u001b[49m\u001b[43mf\u001b[49m\u001b[43m,\u001b[49m\u001b[43m \u001b[49m\u001b[38;5;28;43mself\u001b[39;49m\u001b[38;5;241;43m.\u001b[39;49m\u001b[43mengine\u001b[49m\u001b[43m)\u001b[49m\n",
      "File \u001b[1;32mc:\\Users\\enrik\\AppData\\Local\\Programs\\Python\\Python310\\lib\\site-packages\\pandas\\io\\parsers\\readers.py:1705\u001b[0m, in \u001b[0;36mTextFileReader._make_engine\u001b[1;34m(self, f, engine)\u001b[0m\n\u001b[0;32m   1703\u001b[0m     \u001b[38;5;28;01mif\u001b[39;00m \u001b[38;5;124m\"\u001b[39m\u001b[38;5;124mb\u001b[39m\u001b[38;5;124m\"\u001b[39m \u001b[38;5;129;01mnot\u001b[39;00m \u001b[38;5;129;01min\u001b[39;00m mode:\n\u001b[0;32m   1704\u001b[0m         mode \u001b[38;5;241m+\u001b[39m\u001b[38;5;241m=\u001b[39m \u001b[38;5;124m\"\u001b[39m\u001b[38;5;124mb\u001b[39m\u001b[38;5;124m\"\u001b[39m\n\u001b[1;32m-> 1705\u001b[0m \u001b[38;5;28mself\u001b[39m\u001b[38;5;241m.\u001b[39mhandles \u001b[38;5;241m=\u001b[39m \u001b[43mget_handle\u001b[49m\u001b[43m(\u001b[49m\n\u001b[0;32m   1706\u001b[0m \u001b[43m    \u001b[49m\u001b[43mf\u001b[49m\u001b[43m,\u001b[49m\n\u001b[0;32m   1707\u001b[0m \u001b[43m    \u001b[49m\u001b[43mmode\u001b[49m\u001b[43m,\u001b[49m\n\u001b[0;32m   1708\u001b[0m \u001b[43m    \u001b[49m\u001b[43mencoding\u001b[49m\u001b[38;5;241;43m=\u001b[39;49m\u001b[38;5;28;43mself\u001b[39;49m\u001b[38;5;241;43m.\u001b[39;49m\u001b[43moptions\u001b[49m\u001b[38;5;241;43m.\u001b[39;49m\u001b[43mget\u001b[49m\u001b[43m(\u001b[49m\u001b[38;5;124;43m\"\u001b[39;49m\u001b[38;5;124;43mencoding\u001b[39;49m\u001b[38;5;124;43m\"\u001b[39;49m\u001b[43m,\u001b[49m\u001b[43m \u001b[49m\u001b[38;5;28;43;01mNone\u001b[39;49;00m\u001b[43m)\u001b[49m\u001b[43m,\u001b[49m\n\u001b[0;32m   1709\u001b[0m \u001b[43m    \u001b[49m\u001b[43mcompression\u001b[49m\u001b[38;5;241;43m=\u001b[39;49m\u001b[38;5;28;43mself\u001b[39;49m\u001b[38;5;241;43m.\u001b[39;49m\u001b[43moptions\u001b[49m\u001b[38;5;241;43m.\u001b[39;49m\u001b[43mget\u001b[49m\u001b[43m(\u001b[49m\u001b[38;5;124;43m\"\u001b[39;49m\u001b[38;5;124;43mcompression\u001b[39;49m\u001b[38;5;124;43m\"\u001b[39;49m\u001b[43m,\u001b[49m\u001b[43m \u001b[49m\u001b[38;5;28;43;01mNone\u001b[39;49;00m\u001b[43m)\u001b[49m\u001b[43m,\u001b[49m\n\u001b[0;32m   1710\u001b[0m \u001b[43m    \u001b[49m\u001b[43mmemory_map\u001b[49m\u001b[38;5;241;43m=\u001b[39;49m\u001b[38;5;28;43mself\u001b[39;49m\u001b[38;5;241;43m.\u001b[39;49m\u001b[43moptions\u001b[49m\u001b[38;5;241;43m.\u001b[39;49m\u001b[43mget\u001b[49m\u001b[43m(\u001b[49m\u001b[38;5;124;43m\"\u001b[39;49m\u001b[38;5;124;43mmemory_map\u001b[39;49m\u001b[38;5;124;43m\"\u001b[39;49m\u001b[43m,\u001b[49m\u001b[43m \u001b[49m\u001b[38;5;28;43;01mFalse\u001b[39;49;00m\u001b[43m)\u001b[49m\u001b[43m,\u001b[49m\n\u001b[0;32m   1711\u001b[0m \u001b[43m    \u001b[49m\u001b[43mis_text\u001b[49m\u001b[38;5;241;43m=\u001b[39;49m\u001b[43mis_text\u001b[49m\u001b[43m,\u001b[49m\n\u001b[0;32m   1712\u001b[0m \u001b[43m    \u001b[49m\u001b[43merrors\u001b[49m\u001b[38;5;241;43m=\u001b[39;49m\u001b[38;5;28;43mself\u001b[39;49m\u001b[38;5;241;43m.\u001b[39;49m\u001b[43moptions\u001b[49m\u001b[38;5;241;43m.\u001b[39;49m\u001b[43mget\u001b[49m\u001b[43m(\u001b[49m\u001b[38;5;124;43m\"\u001b[39;49m\u001b[38;5;124;43mencoding_errors\u001b[39;49m\u001b[38;5;124;43m\"\u001b[39;49m\u001b[43m,\u001b[49m\u001b[43m \u001b[49m\u001b[38;5;124;43m\"\u001b[39;49m\u001b[38;5;124;43mstrict\u001b[39;49m\u001b[38;5;124;43m\"\u001b[39;49m\u001b[43m)\u001b[49m\u001b[43m,\u001b[49m\n\u001b[0;32m   1713\u001b[0m \u001b[43m    \u001b[49m\u001b[43mstorage_options\u001b[49m\u001b[38;5;241;43m=\u001b[39;49m\u001b[38;5;28;43mself\u001b[39;49m\u001b[38;5;241;43m.\u001b[39;49m\u001b[43moptions\u001b[49m\u001b[38;5;241;43m.\u001b[39;49m\u001b[43mget\u001b[49m\u001b[43m(\u001b[49m\u001b[38;5;124;43m\"\u001b[39;49m\u001b[38;5;124;43mstorage_options\u001b[39;49m\u001b[38;5;124;43m\"\u001b[39;49m\u001b[43m,\u001b[49m\u001b[43m \u001b[49m\u001b[38;5;28;43;01mNone\u001b[39;49;00m\u001b[43m)\u001b[49m\u001b[43m,\u001b[49m\n\u001b[0;32m   1714\u001b[0m \u001b[43m\u001b[49m\u001b[43m)\u001b[49m\n\u001b[0;32m   1715\u001b[0m \u001b[38;5;28;01massert\u001b[39;00m \u001b[38;5;28mself\u001b[39m\u001b[38;5;241m.\u001b[39mhandles \u001b[38;5;129;01mis\u001b[39;00m \u001b[38;5;129;01mnot\u001b[39;00m \u001b[38;5;28;01mNone\u001b[39;00m\n\u001b[0;32m   1716\u001b[0m f \u001b[38;5;241m=\u001b[39m \u001b[38;5;28mself\u001b[39m\u001b[38;5;241m.\u001b[39mhandles\u001b[38;5;241m.\u001b[39mhandle\n",
      "File \u001b[1;32mc:\\Users\\enrik\\AppData\\Local\\Programs\\Python\\Python310\\lib\\site-packages\\pandas\\io\\common.py:863\u001b[0m, in \u001b[0;36mget_handle\u001b[1;34m(path_or_buf, mode, encoding, compression, memory_map, is_text, errors, storage_options)\u001b[0m\n\u001b[0;32m    858\u001b[0m \u001b[38;5;28;01melif\u001b[39;00m \u001b[38;5;28misinstance\u001b[39m(handle, \u001b[38;5;28mstr\u001b[39m):\n\u001b[0;32m    859\u001b[0m     \u001b[38;5;66;03m# Check whether the filename is to be opened in binary mode.\u001b[39;00m\n\u001b[0;32m    860\u001b[0m     \u001b[38;5;66;03m# Binary mode does not support 'encoding' and 'newline'.\u001b[39;00m\n\u001b[0;32m    861\u001b[0m     \u001b[38;5;28;01mif\u001b[39;00m ioargs\u001b[38;5;241m.\u001b[39mencoding \u001b[38;5;129;01mand\u001b[39;00m \u001b[38;5;124m\"\u001b[39m\u001b[38;5;124mb\u001b[39m\u001b[38;5;124m\"\u001b[39m \u001b[38;5;129;01mnot\u001b[39;00m \u001b[38;5;129;01min\u001b[39;00m ioargs\u001b[38;5;241m.\u001b[39mmode:\n\u001b[0;32m    862\u001b[0m         \u001b[38;5;66;03m# Encoding\u001b[39;00m\n\u001b[1;32m--> 863\u001b[0m         handle \u001b[38;5;241m=\u001b[39m \u001b[38;5;28;43mopen\u001b[39;49m\u001b[43m(\u001b[49m\n\u001b[0;32m    864\u001b[0m \u001b[43m            \u001b[49m\u001b[43mhandle\u001b[49m\u001b[43m,\u001b[49m\n\u001b[0;32m    865\u001b[0m \u001b[43m            \u001b[49m\u001b[43mioargs\u001b[49m\u001b[38;5;241;43m.\u001b[39;49m\u001b[43mmode\u001b[49m\u001b[43m,\u001b[49m\n\u001b[0;32m    866\u001b[0m \u001b[43m            \u001b[49m\u001b[43mencoding\u001b[49m\u001b[38;5;241;43m=\u001b[39;49m\u001b[43mioargs\u001b[49m\u001b[38;5;241;43m.\u001b[39;49m\u001b[43mencoding\u001b[49m\u001b[43m,\u001b[49m\n\u001b[0;32m    867\u001b[0m \u001b[43m            \u001b[49m\u001b[43merrors\u001b[49m\u001b[38;5;241;43m=\u001b[39;49m\u001b[43merrors\u001b[49m\u001b[43m,\u001b[49m\n\u001b[0;32m    868\u001b[0m \u001b[43m            \u001b[49m\u001b[43mnewline\u001b[49m\u001b[38;5;241;43m=\u001b[39;49m\u001b[38;5;124;43m\"\u001b[39;49m\u001b[38;5;124;43m\"\u001b[39;49m\u001b[43m,\u001b[49m\n\u001b[0;32m    869\u001b[0m \u001b[43m        \u001b[49m\u001b[43m)\u001b[49m\n\u001b[0;32m    870\u001b[0m     \u001b[38;5;28;01melse\u001b[39;00m:\n\u001b[0;32m    871\u001b[0m         \u001b[38;5;66;03m# Binary mode\u001b[39;00m\n\u001b[0;32m    872\u001b[0m         handle \u001b[38;5;241m=\u001b[39m \u001b[38;5;28mopen\u001b[39m(handle, ioargs\u001b[38;5;241m.\u001b[39mmode)\n",
      "\u001b[1;31mFileNotFoundError\u001b[0m: [Errno 2] No such file or directory: './data/titanic.csv'"
     ]
    }
   ],
   "source": [
    "df = pd.read_csv(\"./data/titanic.csv\")"
   ]
  },
  {
   "cell_type": "markdown",
   "id": "80a86f65-dcf6-4926-97ac-3e1dc7e25cdc",
   "metadata": {},
   "source": [
    "* Matplotlib es muy potente y fexible, pero Seaborn tiene una interfaz más accesible y estilos por defecto que son visualmente más atractivos. Seaborn integra de manera más profunda las estructuras de datos de Pandas y agrega capacidades de visualización estadística. Esto incluye funciones para crear gráficos complejos con menos código, como gráficos de distribución, matrices de correlación y muchos más. Por ejemplo, generar un gráfico de violín o un mapa de calor es más sencillo y directo con Seaborn.\n",
    "\n",
    "* Además Seaborn nació con Pandas en la cabeza y facilita la visualización directa de DataFrames de Pandas, lo que es ideal para el análisis de datos."
   ]
  },
  {
   "cell_type": "markdown",
   "id": "2726432b-780b-43c8-9e03-608298039f42",
   "metadata": {},
   "source": [
    "#### Ejemplo 1: *Pinta Seaborn, decora Matplotlib*"
   ]
  },
  {
   "cell_type": "code",
   "execution_count": null,
   "id": "8165d6e6-314c-460d-8ccd-3ec89072fd02",
   "metadata": {},
   "outputs": [],
   "source": [
    "sns.boxplot(x = \"who\", y = \"fare\", data = df)\n",
    "\n",
    "plt.title(\"comparacion de who con fare en el dataset de titanic\")\n",
    "plt.xlabel(\"who\")\n",
    "plt.ylabel(\"fare\")\n",
    "\n"
   ]
  },
  {
   "cell_type": "markdown",
   "id": "c6bc53be-a708-4882-84d0-c16803978284",
   "metadata": {},
   "source": [
    "#### Ejemplo 2: *Configura Matplotlib, pinta Seaborn*"
   ]
  },
  {
   "cell_type": "code",
   "execution_count": null,
   "id": "77c6086b-dedf-4499-b570-c008627a8c5a",
   "metadata": {},
   "outputs": [
    {
     "ename": "NameError",
     "evalue": "name 'df' is not defined",
     "output_type": "error",
     "traceback": [
      "\u001b[1;31m---------------------------------------------------------------------------\u001b[0m",
      "\u001b[1;31mNameError\u001b[0m                                 Traceback (most recent call last)",
      "Cell \u001b[1;32mIn[6], line 4\u001b[0m\n\u001b[0;32m      1\u001b[0m fig, axs \u001b[38;5;241m=\u001b[39m plt\u001b[38;5;241m.\u001b[39msubplots(nrows\u001b[38;5;241m=\u001b[39m\u001b[38;5;241m2\u001b[39m, ncols\u001b[38;5;241m=\u001b[39m\u001b[38;5;241m2\u001b[39m, figsize\u001b[38;5;241m=\u001b[39m(\u001b[38;5;241m10\u001b[39m, \u001b[38;5;241m8\u001b[39m)) \u001b[38;5;66;03m#fig y axs, creamos subplot de matriz x 2x2 figuras de 10x8 de alto, que nos devuelve un objeto fig y un array de objetos axes, que van a xs\u001b[39;00m\n\u001b[0;32m      3\u001b[0m \u001b[38;5;66;03m# Primer subplot con un gráfico de Seaborn\u001b[39;00m\n\u001b[1;32m----> 4\u001b[0m sns\u001b[38;5;241m.\u001b[39mboxplot(x\u001b[38;5;241m=\u001b[39m\u001b[38;5;124m'\u001b[39m\u001b[38;5;124mwho\u001b[39m\u001b[38;5;124m'\u001b[39m, y\u001b[38;5;241m=\u001b[39m\u001b[38;5;124m'\u001b[39m\u001b[38;5;124mfare\u001b[39m\u001b[38;5;124m'\u001b[39m, data\u001b[38;5;241m=\u001b[39m\u001b[43mdf\u001b[49m, ax\u001b[38;5;241m=\u001b[39maxs[\u001b[38;5;241m0\u001b[39m, \u001b[38;5;241m0\u001b[39m])\n\u001b[0;32m      6\u001b[0m \u001b[38;5;66;03m# Segundo subplot con otro gráfico de Seaborn\u001b[39;00m\n\u001b[0;32m      7\u001b[0m sns\u001b[38;5;241m.\u001b[39mscatterplot(x\u001b[38;5;241m=\u001b[39m\u001b[38;5;124m'\u001b[39m\u001b[38;5;124mage\u001b[39m\u001b[38;5;124m'\u001b[39m, y\u001b[38;5;241m=\u001b[39m\u001b[38;5;124m'\u001b[39m\u001b[38;5;124mfare\u001b[39m\u001b[38;5;124m'\u001b[39m, data\u001b[38;5;241m=\u001b[39mdf, ax\u001b[38;5;241m=\u001b[39maxs[\u001b[38;5;241m0\u001b[39m, \u001b[38;5;241m1\u001b[39m])\n",
      "\u001b[1;31mNameError\u001b[0m: name 'df' is not defined"
     ]
    },
    {
     "data": {
      "image/png": "[encoded data removed]",
      "text/plain": [
       "<Figure size 1000x800 with 4 Axes>"
      ]
     },
     "metadata": {},
     "output_type": "display_data"
    }
   ],
   "source": [
    "fig, axs = plt.subplots(nrows=2, ncols=2, figsize=(10, 8)) #fig y axs, creamos subplot de matriz x 2x2 figuras de 10x8 de alto, que nos devuelve un objeto fig y un array de objetos axes, que van a xs\n",
    "\n",
    "# Primer subplot con un gráfico de Seaborn\n",
    "sns.boxplot(x='who', y='fare', data=df, ax=axs[0, 0])\n",
    "\n",
    "# Segundo subplot con otro gráfico de Seaborn\n",
    "sns.scatterplot(x='age', y='fare', data=df, ax=axs[0, 1])\n",
    "\n",
    "# Tercer subplot\n",
    "sns.histplot(df['age'], kde=True, ax=axs[1, 0])\n",
    "\n",
    "# Cuarto subplot\n",
    "sns.violinplot(x='embark_town', y='age', data=df, ax=axs[1, 1]);\n",
    "\n",
    "axs[0,0].set_title(\"who vs fare\")\n",
    "axs[0,1].set_title(\"age vs fare\")\n",
    "axs[1,0].set_title(\"Distrib. Age\")\n",
    "axs[1,1].set_title(\"Embarked_town vs Age, violins\")\n",
    "\n",
    "plt.tight_layout()\n"
   ]
  },
  {
   "cell_type": "markdown",
   "id": "c92a679c",
   "metadata": {},
   "source": [
    "# Visualización Aplicada: Mostrando una Variable Categórica"
   ]
  },
  {
   "cell_type": "code",
   "execution_count": 3,
   "id": "99e221e7",
   "metadata": {},
   "outputs": [],
   "source": [
    "import matplotlib.pyplot as plt\n",
    "import numpy as np\n",
    "import pandas as pd\n",
    "import seaborn as sns\n",
    "sns.set(color_codes=True)"
   ]
  },
  {
   "cell_type": "markdown",
   "id": "83d7fa8f",
   "metadata": {},
   "source": [
    "* **Cuándo**: Análisis univariante de frecuencias y presentación de distribución de valores cuando esto aporte algo (en general para introducciones y dar contexto). Los diagramas de tarta y queso funcionan mejor con frecuencias relativas que con absolutas. Los lolipops no son de mi gusto, pero para que tengas otros.\n",
    "\n",
    "* **Cuándo no**: Incluso en la situación de que sea necesario por dar contexto hablar de los valores de una variable categórica, si la cardinalidad es mayor de 5 (más o menos) reducirla mostrando 4-5 valores como mucho colapsando los no interesantes en un grupo \"otros\" (ojo, los no interesantes no son los de menor frecuencia son los que no aporten nada a los mensajes a transmitir )"
   ]
  },
  {
   "cell_type": "code",
   "execution_count": 4,
   "id": "3c6ed4b0",
   "metadata": {},
   "outputs": [
    {
     "ename": "FileNotFoundError",
     "evalue": "[Errno 2] No such file or directory: './data/titanic.csv'",
     "output_type": "error",
     "traceback": [
      "\u001b[1;31m---------------------------------------------------------------------------\u001b[0m",
      "\u001b[1;31mFileNotFoundError\u001b[0m                         Traceback (most recent call last)",
      "Cell \u001b[1;32mIn[4], line 1\u001b[0m\n\u001b[1;32m----> 1\u001b[0m df_titanic \u001b[38;5;241m=\u001b[39m \u001b[43mpd\u001b[49m\u001b[38;5;241;43m.\u001b[39;49m\u001b[43mread_csv\u001b[49m\u001b[43m(\u001b[49m\u001b[38;5;124;43m\"\u001b[39;49m\u001b[38;5;124;43m./data/titanic.csv\u001b[39;49m\u001b[38;5;124;43m\"\u001b[39;49m\u001b[43m)\u001b[49m\n\u001b[0;32m      2\u001b[0m df_seguros \u001b[38;5;241m=\u001b[39m pd\u001b[38;5;241m.\u001b[39mread_csv(\u001b[38;5;124m\"\u001b[39m\u001b[38;5;124m./data/Marketing-Customer-Analysis.csv\u001b[39m\u001b[38;5;124m\"\u001b[39m)\n",
      "File \u001b[1;32mc:\\Users\\enrik\\AppData\\Local\\Programs\\Python\\Python310\\lib\\site-packages\\pandas\\io\\parsers\\readers.py:948\u001b[0m, in \u001b[0;36mread_csv\u001b[1;34m(filepath_or_buffer, sep, delimiter, header, names, index_col, usecols, dtype, engine, converters, true_values, false_values, skipinitialspace, skiprows, skipfooter, nrows, na_values, keep_default_na, na_filter, verbose, skip_blank_lines, parse_dates, infer_datetime_format, keep_date_col, date_parser, date_format, dayfirst, cache_dates, iterator, chunksize, compression, thousands, decimal, lineterminator, quotechar, quoting, doublequote, escapechar, comment, encoding, encoding_errors, dialect, on_bad_lines, delim_whitespace, low_memory, memory_map, float_precision, storage_options, dtype_backend)\u001b[0m\n\u001b[0;32m    935\u001b[0m kwds_defaults \u001b[38;5;241m=\u001b[39m _refine_defaults_read(\n\u001b[0;32m    936\u001b[0m     dialect,\n\u001b[0;32m    937\u001b[0m     delimiter,\n\u001b[1;32m   (...)\u001b[0m\n\u001b[0;32m    944\u001b[0m     dtype_backend\u001b[38;5;241m=\u001b[39mdtype_backend,\n\u001b[0;32m    945\u001b[0m )\n\u001b[0;32m    946\u001b[0m kwds\u001b[38;5;241m.\u001b[39mupdate(kwds_defaults)\n\u001b[1;32m--> 948\u001b[0m \u001b[38;5;28;01mreturn\u001b[39;00m \u001b[43m_read\u001b[49m\u001b[43m(\u001b[49m\u001b[43mfilepath_or_buffer\u001b[49m\u001b[43m,\u001b[49m\u001b[43m \u001b[49m\u001b[43mkwds\u001b[49m\u001b[43m)\u001b[49m\n",
      "File \u001b[1;32mc:\\Users\\enrik\\AppData\\Local\\Programs\\Python\\Python310\\lib\\site-packages\\pandas\\io\\parsers\\readers.py:611\u001b[0m, in \u001b[0;36m_read\u001b[1;34m(filepath_or_buffer, kwds)\u001b[0m\n\u001b[0;32m    608\u001b[0m _validate_names(kwds\u001b[38;5;241m.\u001b[39mget(\u001b[38;5;124m\"\u001b[39m\u001b[38;5;124mnames\u001b[39m\u001b[38;5;124m\"\u001b[39m, \u001b[38;5;28;01mNone\u001b[39;00m))\n\u001b[0;32m    610\u001b[0m \u001b[38;5;66;03m# Create the parser.\u001b[39;00m\n\u001b[1;32m--> 611\u001b[0m parser \u001b[38;5;241m=\u001b[39m TextFileReader(filepath_or_buffer, \u001b[38;5;241m*\u001b[39m\u001b[38;5;241m*\u001b[39mkwds)\n\u001b[0;32m    613\u001b[0m \u001b[38;5;28;01mif\u001b[39;00m chunksize \u001b[38;5;129;01mor\u001b[39;00m iterator:\n\u001b[0;32m    614\u001b[0m     \u001b[38;5;28;01mreturn\u001b[39;00m parser\n",
      "File \u001b[1;32mc:\\Users\\enrik\\AppData\\Local\\Programs\\Python\\Python310\\lib\\site-packages\\pandas\\io\\parsers\\readers.py:1448\u001b[0m, in \u001b[0;36mTextFileReader.__init__\u001b[1;34m(self, f, engine, **kwds)\u001b[0m\n\u001b[0;32m   1445\u001b[0m     \u001b[38;5;28mself\u001b[39m\u001b[38;5;241m.\u001b[39moptions[\u001b[38;5;124m\"\u001b[39m\u001b[38;5;124mhas_index_names\u001b[39m\u001b[38;5;124m\"\u001b[39m] \u001b[38;5;241m=\u001b[39m kwds[\u001b[38;5;124m\"\u001b[39m\u001b[38;5;124mhas_index_names\u001b[39m\u001b[38;5;124m\"\u001b[39m]\n\u001b[0;32m   1447\u001b[0m \u001b[38;5;28mself\u001b[39m\u001b[38;5;241m.\u001b[39mhandles: IOHandles \u001b[38;5;241m|\u001b[39m \u001b[38;5;28;01mNone\u001b[39;00m \u001b[38;5;241m=\u001b[39m \u001b[38;5;28;01mNone\u001b[39;00m\n\u001b[1;32m-> 1448\u001b[0m \u001b[38;5;28mself\u001b[39m\u001b[38;5;241m.\u001b[39m_engine \u001b[38;5;241m=\u001b[39m \u001b[38;5;28;43mself\u001b[39;49m\u001b[38;5;241;43m.\u001b[39;49m\u001b[43m_make_engine\u001b[49m\u001b[43m(\u001b[49m\u001b[43mf\u001b[49m\u001b[43m,\u001b[49m\u001b[43m \u001b[49m\u001b[38;5;28;43mself\u001b[39;49m\u001b[38;5;241;43m.\u001b[39;49m\u001b[43mengine\u001b[49m\u001b[43m)\u001b[49m\n",
      "File \u001b[1;32mc:\\Users\\enrik\\AppData\\Local\\Programs\\Python\\Python310\\lib\\site-packages\\pandas\\io\\parsers\\readers.py:1705\u001b[0m, in \u001b[0;36mTextFileReader._make_engine\u001b[1;34m(self, f, engine)\u001b[0m\n\u001b[0;32m   1703\u001b[0m     \u001b[38;5;28;01mif\u001b[39;00m \u001b[38;5;124m\"\u001b[39m\u001b[38;5;124mb\u001b[39m\u001b[38;5;124m\"\u001b[39m \u001b[38;5;129;01mnot\u001b[39;00m \u001b[38;5;129;01min\u001b[39;00m mode:\n\u001b[0;32m   1704\u001b[0m         mode \u001b[38;5;241m+\u001b[39m\u001b[38;5;241m=\u001b[39m \u001b[38;5;124m\"\u001b[39m\u001b[38;5;124mb\u001b[39m\u001b[38;5;124m\"\u001b[39m\n\u001b[1;32m-> 1705\u001b[0m \u001b[38;5;28mself\u001b[39m\u001b[38;5;241m.\u001b[39mhandles \u001b[38;5;241m=\u001b[39m \u001b[43mget_handle\u001b[49m\u001b[43m(\u001b[49m\n\u001b[0;32m   1706\u001b[0m \u001b[43m    \u001b[49m\u001b[43mf\u001b[49m\u001b[43m,\u001b[49m\n\u001b[0;32m   1707\u001b[0m \u001b[43m    \u001b[49m\u001b[43mmode\u001b[49m\u001b[43m,\u001b[49m\n\u001b[0;32m   1708\u001b[0m \u001b[43m    \u001b[49m\u001b[43mencoding\u001b[49m\u001b[38;5;241;43m=\u001b[39;49m\u001b[38;5;28;43mself\u001b[39;49m\u001b[38;5;241;43m.\u001b[39;49m\u001b[43moptions\u001b[49m\u001b[38;5;241;43m.\u001b[39;49m\u001b[43mget\u001b[49m\u001b[43m(\u001b[49m\u001b[38;5;124;43m\"\u001b[39;49m\u001b[38;5;124;43mencoding\u001b[39;49m\u001b[38;5;124;43m\"\u001b[39;49m\u001b[43m,\u001b[49m\u001b[43m \u001b[49m\u001b[38;5;28;43;01mNone\u001b[39;49;00m\u001b[43m)\u001b[49m\u001b[43m,\u001b[49m\n\u001b[0;32m   1709\u001b[0m \u001b[43m    \u001b[49m\u001b[43mcompression\u001b[49m\u001b[38;5;241;43m=\u001b[39;49m\u001b[38;5;28;43mself\u001b[39;49m\u001b[38;5;241;43m.\u001b[39;49m\u001b[43moptions\u001b[49m\u001b[38;5;241;43m.\u001b[39;49m\u001b[43mget\u001b[49m\u001b[43m(\u001b[49m\u001b[38;5;124;43m\"\u001b[39;49m\u001b[38;5;124;43mcompression\u001b[39;49m\u001b[38;5;124;43m\"\u001b[39;49m\u001b[43m,\u001b[49m\u001b[43m \u001b[49m\u001b[38;5;28;43;01mNone\u001b[39;49;00m\u001b[43m)\u001b[49m\u001b[43m,\u001b[49m\n\u001b[0;32m   1710\u001b[0m \u001b[43m    \u001b[49m\u001b[43mmemory_map\u001b[49m\u001b[38;5;241;43m=\u001b[39;49m\u001b[38;5;28;43mself\u001b[39;49m\u001b[38;5;241;43m.\u001b[39;49m\u001b[43moptions\u001b[49m\u001b[38;5;241;43m.\u001b[39;49m\u001b[43mget\u001b[49m\u001b[43m(\u001b[49m\u001b[38;5;124;43m\"\u001b[39;49m\u001b[38;5;124;43mmemory_map\u001b[39;49m\u001b[38;5;124;43m\"\u001b[39;49m\u001b[43m,\u001b[49m\u001b[43m \u001b[49m\u001b[38;5;28;43;01mFalse\u001b[39;49;00m\u001b[43m)\u001b[49m\u001b[43m,\u001b[49m\n\u001b[0;32m   1711\u001b[0m \u001b[43m    \u001b[49m\u001b[43mis_text\u001b[49m\u001b[38;5;241;43m=\u001b[39;49m\u001b[43mis_text\u001b[49m\u001b[43m,\u001b[49m\n\u001b[0;32m   1712\u001b[0m \u001b[43m    \u001b[49m\u001b[43merrors\u001b[49m\u001b[38;5;241;43m=\u001b[39;49m\u001b[38;5;28;43mself\u001b[39;49m\u001b[38;5;241;43m.\u001b[39;49m\u001b[43moptions\u001b[49m\u001b[38;5;241;43m.\u001b[39;49m\u001b[43mget\u001b[49m\u001b[43m(\u001b[49m\u001b[38;5;124;43m\"\u001b[39;49m\u001b[38;5;124;43mencoding_errors\u001b[39;49m\u001b[38;5;124;43m\"\u001b[39;49m\u001b[43m,\u001b[49m\u001b[43m \u001b[49m\u001b[38;5;124;43m\"\u001b[39;49m\u001b[38;5;124;43mstrict\u001b[39;49m\u001b[38;5;124;43m\"\u001b[39;49m\u001b[43m)\u001b[49m\u001b[43m,\u001b[49m\n\u001b[0;32m   1713\u001b[0m \u001b[43m    \u001b[49m\u001b[43mstorage_options\u001b[49m\u001b[38;5;241;43m=\u001b[39;49m\u001b[38;5;28;43mself\u001b[39;49m\u001b[38;5;241;43m.\u001b[39;49m\u001b[43moptions\u001b[49m\u001b[38;5;241;43m.\u001b[39;49m\u001b[43mget\u001b[49m\u001b[43m(\u001b[49m\u001b[38;5;124;43m\"\u001b[39;49m\u001b[38;5;124;43mstorage_options\u001b[39;49m\u001b[38;5;124;43m\"\u001b[39;49m\u001b[43m,\u001b[49m\u001b[43m \u001b[49m\u001b[38;5;28;43;01mNone\u001b[39;49;00m\u001b[43m)\u001b[49m\u001b[43m,\u001b[49m\n\u001b[0;32m   1714\u001b[0m \u001b[43m\u001b[49m\u001b[43m)\u001b[49m\n\u001b[0;32m   1715\u001b[0m \u001b[38;5;28;01massert\u001b[39;00m \u001b[38;5;28mself\u001b[39m\u001b[38;5;241m.\u001b[39mhandles \u001b[38;5;129;01mis\u001b[39;00m \u001b[38;5;129;01mnot\u001b[39;00m \u001b[38;5;28;01mNone\u001b[39;00m\n\u001b[0;32m   1716\u001b[0m f \u001b[38;5;241m=\u001b[39m \u001b[38;5;28mself\u001b[39m\u001b[38;5;241m.\u001b[39mhandles\u001b[38;5;241m.\u001b[39mhandle\n",
      "File \u001b[1;32mc:\\Users\\enrik\\AppData\\Local\\Programs\\Python\\Python310\\lib\\site-packages\\pandas\\io\\common.py:863\u001b[0m, in \u001b[0;36mget_handle\u001b[1;34m(path_or_buf, mode, encoding, compression, memory_map, is_text, errors, storage_options)\u001b[0m\n\u001b[0;32m    858\u001b[0m \u001b[38;5;28;01melif\u001b[39;00m \u001b[38;5;28misinstance\u001b[39m(handle, \u001b[38;5;28mstr\u001b[39m):\n\u001b[0;32m    859\u001b[0m     \u001b[38;5;66;03m# Check whether the filename is to be opened in binary mode.\u001b[39;00m\n\u001b[0;32m    860\u001b[0m     \u001b[38;5;66;03m# Binary mode does not support 'encoding' and 'newline'.\u001b[39;00m\n\u001b[0;32m    861\u001b[0m     \u001b[38;5;28;01mif\u001b[39;00m ioargs\u001b[38;5;241m.\u001b[39mencoding \u001b[38;5;129;01mand\u001b[39;00m \u001b[38;5;124m\"\u001b[39m\u001b[38;5;124mb\u001b[39m\u001b[38;5;124m\"\u001b[39m \u001b[38;5;129;01mnot\u001b[39;00m \u001b[38;5;129;01min\u001b[39;00m ioargs\u001b[38;5;241m.\u001b[39mmode:\n\u001b[0;32m    862\u001b[0m         \u001b[38;5;66;03m# Encoding\u001b[39;00m\n\u001b[1;32m--> 863\u001b[0m         handle \u001b[38;5;241m=\u001b[39m \u001b[38;5;28;43mopen\u001b[39;49m\u001b[43m(\u001b[49m\n\u001b[0;32m    864\u001b[0m \u001b[43m            \u001b[49m\u001b[43mhandle\u001b[49m\u001b[43m,\u001b[49m\n\u001b[0;32m    865\u001b[0m \u001b[43m            \u001b[49m\u001b[43mioargs\u001b[49m\u001b[38;5;241;43m.\u001b[39;49m\u001b[43mmode\u001b[49m\u001b[43m,\u001b[49m\n\u001b[0;32m    866\u001b[0m \u001b[43m            \u001b[49m\u001b[43mencoding\u001b[49m\u001b[38;5;241;43m=\u001b[39;49m\u001b[43mioargs\u001b[49m\u001b[38;5;241;43m.\u001b[39;49m\u001b[43mencoding\u001b[49m\u001b[43m,\u001b[49m\n\u001b[0;32m    867\u001b[0m \u001b[43m            \u001b[49m\u001b[43merrors\u001b[49m\u001b[38;5;241;43m=\u001b[39;49m\u001b[43merrors\u001b[49m\u001b[43m,\u001b[49m\n\u001b[0;32m    868\u001b[0m \u001b[43m            \u001b[49m\u001b[43mnewline\u001b[49m\u001b[38;5;241;43m=\u001b[39;49m\u001b[38;5;124;43m\"\u001b[39;49m\u001b[38;5;124;43m\"\u001b[39;49m\u001b[43m,\u001b[49m\n\u001b[0;32m    869\u001b[0m \u001b[43m        \u001b[49m\u001b[43m)\u001b[49m\n\u001b[0;32m    870\u001b[0m     \u001b[38;5;28;01melse\u001b[39;00m:\n\u001b[0;32m    871\u001b[0m         \u001b[38;5;66;03m# Binary mode\u001b[39;00m\n\u001b[0;32m    872\u001b[0m         handle \u001b[38;5;241m=\u001b[39m \u001b[38;5;28mopen\u001b[39m(handle, ioargs\u001b[38;5;241m.\u001b[39mmode)\n",
      "\u001b[1;31mFileNotFoundError\u001b[0m: [Errno 2] No such file or directory: './data/titanic.csv'"
     ]
    }
   ],
   "source": [
    "df_titanic = pd.read_csv(\"./data/titanic.csv\")\n",
    "df_seguros = pd.read_csv(\"./data/Marketing-Customer-Analysis.csv\")"
   ]
  },
  {
   "cell_type": "markdown",
   "id": "6a08923a",
   "metadata": {},
   "source": [
    "### Barras"
   ]
  },
  {
   "cell_type": "code",
   "execution_count": 9,
   "id": "7dd04ef7",
   "metadata": {},
   "outputs": [
    {
     "data": {
      "image/png": "[encoded data removed]",
      "text/plain": [
       "<Figure size 1000x400 with 2 Axes>"
      ]
     },
     "metadata": {},
     "output_type": "display_data"
    }
   ],
   "source": [
    "### Creamos figura y axes\n",
    "fig,axs = plt.subplots(nrows=1,ncols=2, figsize=(10,4))\n",
    "fig.suptitle(\"Barras en Seaborn\"); #le da un título a toda la figura, no a las subfiguras"
   ]
  },
  {
   "cell_type": "code",
   "execution_count": null,
   "id": "ec5a68cf",
   "metadata": {},
   "outputs": [],
   "source": [
    "### Countplot, nos permite frecuencias\n",
    "sns.countplot(x=\"embark_town\", data = df_titanic, ax = axs[0], hue = \"embark_town\", legend= False)#count plot es el gráfico en el que nos hace frecuencias absolutas, en x ponemoe la columna embark town, con ax decimos que lo asigne al valor ax0\n",
    "#axs, tiene los ejes, las dos subfiguras creadas, 0 es la 1, 1 la 2. Hue controla el color de los datos, el color de las categoríasserá distinto según el valor, así asignamos un color diferente a cada valor. No no pinta leyenda\n",
    "axs[0].set_title(\"Frecuencias Absolutas embark_town\")\n",
    "#ponemos un título con matplotlip\n",
    "fig #mostrarlo"
   ]
  },
  {
   "cell_type": "code",
   "execution_count": null,
   "id": "71fcdeec",
   "metadata": {},
   "outputs": [],
   "source": [
    "# Para frecuencias relativas... también hay que calcularlas previamente y puedes usar el barplot (si parecido a matplotlib)\n",
    "valores = df_titanic.embark_town.value_counts(normalize = True) * 100 #el valuecounts, obtiene el value de las ciudades y el counts, esa frecuencia relativa\n",
    "sns.barplot(x = valores.index, y = valores.values, hue = valores.index, ax = axs[1]) #usamos el seabornbarplot, gráfico de barrras de seaborn\n",
    "#para los valores asignamos un color para cada barra, para cada x que le he dado.\n",
    "axs[1].set_title(\"Frecuencias relativas embark_town\")\n",
    "axs[1].set_ylabel(\"%\") #nos pone el tanto por ciento \n",
    "fig"
   ]
  },
  {
   "cell_type": "markdown",
   "id": "5eec31ac",
   "metadata": {},
   "source": [
    "### Circulos"
   ]
  },
  {
   "cell_type": "code",
   "execution_count": 10,
   "id": "1a138b35",
   "metadata": {},
   "outputs": [
    {
     "data": {
      "image/png": "[encoded data removed]",
      "text/plain": [
       "<Figure size 1400x400 with 1 Axes>"
      ]
     },
     "metadata": {},
     "output_type": "display_data"
    }
   ],
   "source": [
    "### Creamos figura y axes\n",
    "fig,axs = plt.subplots(nrows=1, ncols=1, figsize=(14,4)) #nos devuelve el objeto figure y axes\n",
    "fig.suptitle(\"Circulos en Seaborn\");"
   ]
  },
  {
   "cell_type": "code",
   "execution_count": null,
   "id": "d6fe6efb",
   "metadata": {},
   "outputs": [],
   "source": [
    "### Frecuencias absolutas y relativas\n",
    "\n",
    "frecuencias = df_seguros[\"state\"].value_counts()\n",
    "df_frecuencias = df_seguros[\"state\"].value_counts().reset_index() #se hace un dataframe con el rest index, dando unma columna de categorías  y en la otra el resultado del value ccounts\n",
    "df_frecuencias.columns = [\"categorias\",\"frecuencias\"] \n",
    "sns.scatterplot(x = \"categorias\", y = [1]*len(frecuencias), hue = \"categorias\", data = df_frecuencias, size = \"frecuencias\", legend = False, ax = axs, sizes = (500,5000)) #scatter plot, en x los estados en y el valor y es no enm el mismo. para cada estado coge un color\n",
    "#se aplica al data set,    size el tamaño de las esferas, con sizes\n",
    "axs.set_xlabel(\"\")\n",
    "for estado,valor in frecuencias.items(): #se aplica al data set\n",
    "    axs.text(estado,1.01,f\"{valor}({round(valor*100/frecuencias.sum())}%)\") #añadimos texto, el nombre del estado y la frecuencia del estaado. El texto estado lo añadimos a x, la y es está un poco para arriva.  \n",
    "    #valor es el texcto, frecuencia absoluta y luego calculamos la relativa\n",
    "axs.set_facecolor(\"none\") #quita la cuaddrícula de fondos.\n",
    "axs.yaxis.set_ticks([]) #los ticks son los números que salen en la gráfica, esto sirve para quitarlos\n",
    "fig"
   ]
  },
  {
   "cell_type": "code",
   "execution_count": null,
   "id": "99d985f0",
   "metadata": {},
   "outputs": [],
   "source": [
    "### Frecuencias absolutas y relativas\n",
    "axs.cla()\n",
    "frecuencias = df_seguros[\"state\"].value_counts()\n",
    "df_frecuencias = df_seguros[\"state\"].value_counts().reset_index() #se hace un dataframe con el rest index, dando unma columna de categorías  y en la otra el resultado del value ccounts\n",
    "df_frecuencias.columns = [\"categorias\",\"frecuencias\"] \n",
    "sns.scatterplot(x = \"categorias\", y = [1]*len(frecuencias), hue = \"categorias\", data = df_frecuencias, size = \"frecuencias\", legend = False, ax = axs, sizes = (500,5000)) #scatter plot, en x los estados en y el valor y es no enm el mismo. para cada estado coge un color\n",
    "#se aplica al data set,    size el tamaño de las esferas, con sizes\n",
    "axs.set_xlabel(\"\")\n",
    "for estado,valor in frecuencias.items(): #se aplica al data set\n",
    "    axs.text(estado,1.01,f\"{valor}({round(valor*100/frecuencias.sum())}%)\") #añadimos texto, el nombre del estado y la frecuencia del estaado. El texto estado lo añadimos a x, la y es está un poco para arriva.  \n",
    "    #valor es el texcto, frecuencia absoluta y luego calculamos la relativa\n",
    "axs.set_facecolor(\"none\") #quita la cuaddrícula de fondos.\n",
    "axs.yaxis.set_ticks([]) #los ticks son los números que salen en la gráfica, esto sirve para quitarlos\n",
    "fig\n",
    "#si añladimos nuevos valores de posicion, se suman los valores, si no queremos que se sumen, deemos poner axs.cla"
   ]
  },
  {
   "cell_type": "markdown",
   "id": "6f3ec9ee",
   "metadata": {},
   "source": [
    "### Donuts, tartas, quesos"
   ]
  },
  {
   "cell_type": "markdown",
   "id": "4a7c49aa",
   "metadata": {},
   "source": [
    "Seaborn no viene con ellos, así que usamos matplotlib"
   ]
  },
  {
   "cell_type": "code",
   "execution_count": null,
   "id": "563e149b",
   "metadata": {},
   "outputs": [],
   "source": [
    "data = df_titanic[\"class\"].value_counts()\n",
    "\n",
    "fig,ax = plt.subplots(1,1,figsize = (4,4)) #figura \n",
    "\n",
    "ax.pie(data.values,   #creamos un diagrama de tarta con los valores de las frecuencias\n",
    "        labels=data.index, #nombres de clases\n",
    "        autopct='%.2f%%', startangle= 90); #el texto que queremos poner dentro de los quesos, usar decimal con dos números decimales detrás de la ,\n",
    "#El star angle cambia el giro del comienzo."
   ]
  },
  {
   "cell_type": "markdown",
   "id": "4984a2f3",
   "metadata": {},
   "source": [
    "Ahora tipo donut:"
   ]
  },
  {
   "cell_type": "markdown",
   "id": "e588de12",
   "metadata": {},
   "source": [
    "### Lolipops"
   ]
  },
  {
   "cell_type": "markdown",
   "id": "ffb9b40e",
   "metadata": {},
   "source": [
    "Este tampoco lo tenemos en seaborn:"
   ]
  },
  {
   "cell_type": "code",
   "execution_count": null,
   "id": "01dde0a5",
   "metadata": {},
   "outputs": [],
   "source": [
    "conteo = df_seguros['vehicle_class'].value_counts(ascending=False) #Diagrama de lineas orizontales que terminan en un punto\n",
    "\n",
    "plt.figure(figsize=(10,5))\n",
    "plt.hlines(y=conteo.index, #valores de la categoría van en y\n",
    "           xmin= 50, #minimo para enseñar\n",
    "           xmax=conteo, #maximo\n",
    "           color='skyblue')\n",
    "p=plt.gcf() #forma de borrar el fondo\n",
    "p.gca().set_facecolor(\"none\")\n",
    "plt.plot(conteo, conteo.index, \"o\");"
   ]
  },
  {
   "cell_type": "markdown",
   "id": "a5bdb007",
   "metadata": {},
   "source": [
    "# Visualización Aplicada: Mostrando una Variable Numérica"
   ]
  },
  {
   "cell_type": "code",
   "execution_count": null,
   "id": "57e9432d",
   "metadata": {},
   "outputs": [],
   "source": [
    "import matplotlib.pyplot as plt\n",
    "import numpy as np\n",
    "import pandas as pd\n",
    "import seaborn as sns\n",
    "\n",
    "\n",
    "df_viajes = pd.read_csv(\"./data/dataset_viajes_jun23.csv\")\n",
    "df_seguros = pd.read_csv(\"./data/Marketing-Customer-Analysis.csv\")\n",
    "df_bitcoin = pd.read_csv(\"./data/BTC.csv\")"
   ]
  },
  {
   "cell_type": "code",
   "execution_count": null,
   "id": "16c6df2c",
   "metadata": {},
   "outputs": [],
   "source": [
    "#AC\n",
    "df_bitcoin[\"fechas\"] = pd.to_datetime(df_bitcoin[\"date\"]) #se convierte la fecha en nuestro índice\n",
    "df_bitcoin.set_index(\"fechas\", inplace = True)\n",
    "df_bitcoin.drop(\"date\",axis = 1, inplace = True)\n",
    "df_bitcoin.head()\n"
   ]
  },
  {
   "cell_type": "markdown",
   "id": "225bcde1",
   "metadata": {},
   "source": [
    "### Gráficas y consideraciones"
   ]
  },
  {
   "cell_type": "markdown",
   "id": "3b962683",
   "metadata": {},
   "source": [
    "* **Cuándo**: \n",
    "    1. Para análisis univariante de dispersión y de outliers. \n",
    "    2. Para presentación: Solo para mostrar la forma de la distribución (por ejemplo como justificación de usar una medida de tendencia central, de asumir propiedades de distribuciones con esa forma, etc), buscar la manera de que no sea excesivamente \"informativa\" (no poner ejes o ponerlos solo con valores minimo y máximo), si hay que resaltar un número poner ese numero bien claro marcándolo. En general no usar boxplots ni similares salvo que la situación lo requiera (contextos científicos, donde se sepa que es un IQR, etc). \n",
    "    3. Para series (temporales o secuencias) y diagramas de evolución en Presentaciones: Mostrar la forma y usarlo como complemento estético, contextual o de refuerzo del verdadero mensaje (normalmente periodos de caída, de subida, momentos o puntos de inflexión) y remarcar el mensaje de alguna forma (rodear la zona, anotarla con matplotlib, sobredestacarla...)  \n",
    "\n",
    "* **Cuándo no**: En presentaciones: Si te los puedes ahorrar mejor :-), salvo que el mensaje sea la propia distribución, evolución, claro."
   ]
  },
  {
   "cell_type": "markdown",
   "id": "efefc8d0",
   "metadata": {},
   "source": [
    "### Distribución: Histrogramas, Funciones Densidad (KDE), Combinado"
   ]
  },
  {
   "cell_type": "code",
   "execution_count": null,
   "id": "353a60dc",
   "metadata": {},
   "outputs": [],
   "source": [
    "fig,axs = plt.subplots(1,1,figsize= (4.5,3))\n",
    "sns.histplot(df_viajes[\"ingresos\"]/1000,#ingreso entre il\n",
    "             kde=False,#para que no nos pinte el histograma y la densidad de provabilidad\n",
    "             color='r',\n",
    "             bins=100, ax = axs)#numero de bines # Otra forma, sin recurrir al dataframe como argumento\n",
    "axs.set_xlabel(\"Ingresos  (millones)\") #cambio etiqueta x e y\n",
    "axs.set_ylabel(\"Num_Vuelos\");"
   ]
  },
  {
   "cell_type": "markdown",
   "id": "cb12f8a9",
   "metadata": {},
   "source": [
    "Veamos ahora el Kernel Density Estimation (KDE) o nuestra estimación de la función de densidad:"
   ]
  },
  {
   "cell_type": "code",
   "execution_count": null,
   "id": "89feadef",
   "metadata": {},
   "outputs": [],
   "source": [
    "#AC\n",
    "fg = sns.displot(x=\"customer_lifetime_value\", data = df_seguros,\n",
    "                 kind = \"kde\", height = 4, aspect = 3)#estimación de función de densidad, heith moduilka la altura de la figura, aspect, relación ancho y alto\n",
    "                 #x nombre de la columna y data, de donde quiereo sacar el histograma\n",
    "\n",
    "# height controla la altura del gráfico\n",
    "# Aspect la relación ente ancho/alto\n",
    "# Ojo este gráfico se puede asignar a un \"axes\" pero en realidad es para mostrar uno por \"figure\" (es sólo por completitud)"
   ]
  },
  {
   "cell_type": "code",
   "execution_count": null,
   "id": "66135d56",
   "metadata": {},
   "outputs": [],
   "source": [
    " #el histograma y el kde, lo ponemos a True para que vayan juntos, en el histograma de arriba, metemos la función de densidad.\n",
    "fig,axs = plt.subplots(1,1,figsize= (4.5,3))\n",
    "sns.histplot(df_viajes[\"ingresos\"]/1000,\n",
    "             kde=True,\n",
    "             color='r',\n",
    "             bins=100, ax = axs) # Otra forma, sin recurrir al dataframe como argumento\n",
    "axs.set_xlabel(\"Ingresos  (millones)\")\n",
    "axs.set_ylabel(\"Num_Vuelos\");"
   ]
  },
  {
   "cell_type": "markdown",
   "id": "c5781f35",
   "metadata": {},
   "source": [
    "### Distribución (II): Caja, Enjambre, Violín\n",
    "\n",
    "#### Caja\n",
    "\n",
    "Nuestro querido y conocido diagrama de caja:"
   ]
  },
  {
   "cell_type": "code",
   "execution_count": null,
   "id": "66217e2e",
   "metadata": {},
   "outputs": [],
   "source": [
    "fig,axs = plt.subplots(1,1,figsize= (4.5,3))\n",
    "sns.boxplot(x = \"total_claim_amount\", data = df_seguros); #diagrama de bigotes\n",
    "axs.set_xlabel(\"Reclamado  ($)\")\n",
    "axs.set_ylabel(\"Boxplot\");\n",
    "#la orientación es automática, pero con el parámretro orient, podemos ponerlo horizontal o vertical"
   ]
  },
  {
   "cell_type": "markdown",
   "id": "3dc52660",
   "metadata": {},
   "source": [
    "### Enjambre \n",
    "\n",
    "Este es nuevo y es interesante para análisis, no sé hasta que punto lo es para visualización salvo que en él se vea algo que no se pueda mostrar de otra forma. Este diagrama nos muestra los puntos "
   ]
  },
  {
   "cell_type": "code",
   "execution_count": null,
   "id": "881d550d",
   "metadata": {},
   "outputs": [],
   "source": [
    "#enjambre, una variable continua, la considera como una variable ordinal, tantos valores o categorías como valores diferentes puede tener la función\n",
    "#AC\n",
    "plt.figure(figsize=(8,6))\n",
    "sns.swarmplot(x=\"consumo_kg\", data = df_viajes,\n",
    "              color = \"black\");\n",
    "#nos pinta todos los valores cerca de 0, sin que se superpongan"
   ]
  },
  {
   "cell_type": "markdown",
   "id": "4e08ea12",
   "metadata": {},
   "source": [
    "Nos muestra para los valores de consumo los puntos sin solape en cada valor. Se suele complementar con un gráfico de caja o de violín para ver la dispersión y la distribución:"
   ]
  },
  {
   "cell_type": "code",
   "execution_count": null,
   "id": "637c5e4b",
   "metadata": {},
   "outputs": [],
   "source": [
    "#nos muestra como se superponen\n",
    "plt.figure(figsize=(8,6))\n",
    "sns.boxplot(x = \"consumo_kg\", data = df_viajes)\n",
    "sns.swarmplot(x = \"consumo_kg\", data=df_viajes,\n",
    "             color=\"black\");"
   ]
  },
  {
   "cell_type": "code",
   "execution_count": null,
   "id": "cce99bf7",
   "metadata": {},
   "outputs": [],
   "source": [
    "#nos da los violines\n",
    "#AC\n",
    "plt.figure(figsize=(20,5))\n",
    "sns.violinplot(df_viajes[\"consumo_kg\"], color = \"steelblue\", orient = \"h\")"
   ]
  },
  {
   "cell_type": "markdown",
   "id": "dfe61dd1",
   "metadata": {},
   "source": [
    "### Evolución: Línea y Área\n",
    "Nos tenemos que fijar bien en que x genero"
   ]
  },
  {
   "cell_type": "code",
   "execution_count": null,
   "id": "b068b07d",
   "metadata": {},
   "outputs": [],
   "source": [
    "# AC\n",
    "# Tan sencillo como pintar un gráfico de línea, escogiendo bien el eje-x, por eso cambiamos a la fecha:\n",
    "sns.lineplot(x= df_bitcoin.index, y = 'close', data = df_bitcoin)\n",
    "#nmos da la evolución temporal, en este caso de bitcoin"
   ]
  },
  {
   "cell_type": "markdown",
   "id": "5c612acf",
   "metadata": {},
   "source": [
    "En una visualización deberíamos marcar en el gráfico anterior la parte más destacada, no vale mostrarlo así... Por ejemplo haciendo uso de text y annotations, como vimos en la última sesión de la unidad anterior"
   ]
  },
  {
   "cell_type": "code",
   "execution_count": null,
   "id": "352f83a1",
   "metadata": {},
   "outputs": [],
   "source": []
  }
 ],
 "metadata": {
  "kernelspec": {
   "display_name": "Python 3 (ipykernel)",
   "language": "python",
   "name": "python3"
  },
  "language_info": {
   "codemirror_mode": {
    "name": "ipython",
    "version": 3
   },
   "file_extension": ".py",
   "mimetype": "text/x-python",
   "name": "python",
   "nbconvert_exporter": "python",
   "pygments_lexer": "ipython3",
   "version": "3.10.11"
  }
 },
 "nbformat": 4,
 "nbformat_minor": 5
}
