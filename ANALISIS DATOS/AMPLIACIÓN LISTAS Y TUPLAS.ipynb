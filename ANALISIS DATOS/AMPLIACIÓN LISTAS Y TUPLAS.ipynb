{
 "cells": [
  {
   "cell_type": "markdown",
   "id": "63ae5078-9b42-459d-8aad-5b644499e930",
   "metadata": {},
   "source": [
    "##  Listas"
   ]
  },
  {
   "cell_type": "markdown",
   "id": "33ccd686-c375-4aa8-8818-562e67986d3d",
   "metadata": {},
   "source": [
    "### Acceso\n",
    "Entre corchetes introducimos el indice del elemento al que queremos acceder"
   ]
  },
  {
   "cell_type": "code",
   "execution_count": 1,
   "id": "6aa526e4-0fb4-4a9f-8a47-c670790c342f",
   "metadata": {},
   "outputs": [
    {
     "name": "stdout",
     "output_type": "stream",
     "text": [
      "Enero\n",
      "Marzo\n"
     ]
    }
   ],
   "source": [
    "months = [\"Enero\", \"Febrero\", \"Marzo\"]\n",
    "print(months[0])\n",
    "print(months[-1])"
   ]
  },
  {
   "cell_type": "markdown",
   "id": "d8f3c8ee-0a2f-45eb-8800-f12574095f6a",
   "metadata": {},
   "source": [
    "Si planteamos el problema al revés. Tenemos los valores de la lista y lo que queremos es obtener el índice de esos valores dentro de la lista"
   ]
  },
  {
   "cell_type": "code",
   "execution_count": 2,
   "id": "987e4318-3e67-43f2-88d3-852c54355f04",
   "metadata": {},
   "outputs": [
    {
     "name": "stdout",
     "output_type": "stream",
     "text": [
      "1\n",
      "2\n"
     ]
    }
   ],
   "source": [
    "months = [\"Enero\", \"Febrero\", \"Marzo\", \"Marzo\"]\n",
    "print(months.index(\"Febrero\"))\n",
    "print(months.index(\"Marzo\"))"
   ]
  },
  {
   "cell_type": "markdown",
   "id": "61cb427f-d40c-4435-870c-fc8b9a19e552",
   "metadata": {},
   "source": [
    "**Slicing**: usamos slicing para acceder a varios elementos seguidos de la lista"
   ]
  },
  {
   "cell_type": "code",
   "execution_count": 4,
   "id": "185e541b-1c2c-42ea-9a64-bf42a208bcf0",
   "metadata": {},
   "outputs": [
    {
     "name": "stdout",
     "output_type": "stream",
     "text": [
      "[34, 15]\n",
      "[34, 15, 26, 18, 22]\n",
      "[34, 15, 26, 18, 22]\n"
     ]
    }
   ],
   "source": [
    "degrees = [22, 34, 15, 26, 18, 22]\n",
    "sub_degrees = degrees[1:3]\n",
    "print(sub_degrees)\n",
    "\n",
    "sub_degrees_alt = degrees[1:len(degrees)]\n",
    "\n",
    "sub_degrees_alt2 = degrees[1:]\n",
    "\n",
    "print(sub_degrees_alt)\n",
    "print(sub_degrees_alt2)"
   ]
  },
  {
   "cell_type": "markdown",
   "id": "10bc141c-08f0-4778-9b6b-b1170ec5d17b",
   "metadata": {},
   "source": [
    "### Modificar elementos"
   ]
  },
  {
   "cell_type": "code",
   "execution_count": null,
   "id": "e891131e-dea1-4ca4-b05e-a24f0add5bee",
   "metadata": {},
   "outputs": [],
   "source": [
    "# Accediendo mediante el indice\n",
    "months = [\"Enero\", \"Febrero\", \"Marzo\"]\n",
    "months[1] = \"Abril\"\n",
    "print(months)\n",
    "\n"
   ]
  },
  {
   "cell_type": "markdown",
   "id": "6d27dc6b-cde0-4fa7-a98a-672237bcb5d2",
   "metadata": {},
   "source": [
    "### Añadir elementos\n",
    "Se añade al final de la lista si usamos `append`, o si queremos en un lugar concreto, mediante `insert`"
   ]
  },
  {
   "cell_type": "code",
   "execution_count": 5,
   "id": "cfba8da8-6997-441d-afe9-840c749a6f48",
   "metadata": {},
   "outputs": [
    {
     "name": "stdout",
     "output_type": "stream",
     "text": [
      "['honda', 'yamaha', 'suzuki', 'Kawasaki']\n",
      "['honda', 'yamaha', 'suzuki', 'bultaco', 'Kawasaki']\n"
     ]
    }
   ],
   "source": [
    "# Con append lo añadimos al final de la lista\n",
    "motorcycles = ['honda', 'yamaha', 'suzuki']\n",
    "motorcycles.append(\"Kawasaki\")\n",
    "print(motorcycles)\n",
    "motorcycles.insert(3,\"bultaco\")\n",
    "print(motorcycles)"
   ]
  },
  {
   "cell_type": "code",
   "execution_count": 7,
   "id": "c0f52350-ec25-4f4f-a68a-dd7458e25679",
   "metadata": {},
   "outputs": [],
   "source": [
    "# Es muy comun crear una lista vacia, y a lo largo del programa, ir añadiendo elementos\n",
    "lista_motos = []\n",
    "lista_motos.append(\"primera_marca\")\n",
    "\n",
    "#un monton de linea de código\n",
    "lista_motos.insert(0,\"siguiente\")"
   ]
  },
  {
   "cell_type": "markdown",
   "id": "33af5fd2-6603-4564-b84b-6fbdf9e32ea8",
   "metadata": {},
   "source": [
    "### Eliminar elementos\n",
    "Para eliminar elementos se usar `remove`. Si no existe, da error, así que cuidado con esta sentencia.\n",
    "\n",
    "En ocasiones resulta útil quedarnos con el elemento eliminado. Para ello usamos `pop()`, que elimina el elemento que le indiquemos, y además devuelve ese elemento por lo que podremos guardarlo en una variable para usarlo después."
   ]
  },
  {
   "cell_type": "code",
   "execution_count": null,
   "id": "19aedfe1-8100-419f-8e3c-c8a412b331cc",
   "metadata": {},
   "outputs": [],
   "source": [
    "cars = [\"VW\", \"Seat\", \"BMW\", \"VW\"]\n",
    "cars.remove(\"VW\")\n",
    "print(cars)\n",
    "eliminado = cars.pop(0)\n",
    "print(eliminado)"
   ]
  },
  {
   "cell_type": "markdown",
   "id": "c1dd11bf-01a0-49ff-a7a7-ca214225e448",
   "metadata": {},
   "source": [
    "### Métodos: ordenar, tamaño, invertir orden, ocurrencia"
   ]
  },
  {
   "cell_type": "code",
   "execution_count": 10,
   "id": "5a45307f-1328-48e9-8833-df291acd819c",
   "metadata": {},
   "outputs": [
    {
     "name": "stdout",
     "output_type": "stream",
     "text": [
      "[15, 18, 22, 22, 26, 34]\n",
      "6\n",
      "[15, 18, 22, 22, 26, 34]\n",
      "<built-in method count of list object at 0x0000014B0C00EE80>\n"
     ]
    }
   ],
   "source": [
    "degrees = [22, 34, 15, 26, 18, 22]\n",
    "\n",
    "#ordenar\n",
    "degrees.sort()\n",
    "print(degrees)\n",
    "\n",
    "#contar el numero de elementos\n",
    "degrees.sort(reverse = True)\n",
    "print(len(degrees))\n",
    "\n",
    "#invertir lista\n",
    "degrees.reverse()\n",
    "print(degrees)\n",
    "\n",
    "#Ocurrencias de un elemento\n",
    "print(degrees.count)"
   ]
  },
  {
   "cell_type": "markdown",
   "id": "017e5c58-69e4-40c0-8cf5-942c98012f02",
   "metadata": {},
   "source": [
    "## Tuplas"
   ]
  },
  {
   "cell_type": "markdown",
   "id": "9bb20fe2-e0e5-405c-adca-de5a61039993",
   "metadata": {},
   "source": [
    "* **Inmutables**: una vez creada la tupla con sus elementos iniciales, no se puede modificar\n",
    "* **Ordenadas**: podemos acceder a sus elementos a través del indice y reordenar la tupla según queramos"
   ]
  },
  {
   "cell_type": "code",
   "execution_count": 1,
   "id": "e0848d66-cf02-4c3c-8ec6-7cc8d1d4eb12",
   "metadata": {},
   "outputs": [
    {
     "name": "stdout",
     "output_type": "stream",
     "text": [
      "(3, 'texto')\n"
     ]
    }
   ],
   "source": [
    "tupla_ejemplo = (3,\"texto\")\n",
    "print(tupla_ejemplo)"
   ]
  },
  {
   "cell_type": "code",
   "execution_count": 2,
   "id": "0f142615-4d10-437e-b461-ce9df886c0df",
   "metadata": {},
   "outputs": [
    {
     "name": "stdout",
     "output_type": "stream",
     "text": [
      "elprimer elemento es 3\n",
      "El segundo eemento es texto\n"
     ]
    }
   ],
   "source": [
    "print(\"elprimer elemento es\", tupla_ejemplo[0])\n",
    "print(\"El segundo eemento es\", tupla_ejemplo[1])"
   ]
  },
  {
   "cell_type": "markdown",
   "id": "8f4e77b7-b92e-43c5-8e54-1cea323241ef",
   "metadata": {},
   "source": [
    "Los paréntesis ya se usan para reordenar operaciones `5 * (3 + 4)`, por lo que hay que añadir una coma cuando definamos una tupla con un único elemento, sino Python lo interpretará como un número."
   ]
  },
  {
   "cell_type": "code",
   "execution_count": 3,
   "id": "f39ece7d-f840-4be9-97d8-22c15d145bac",
   "metadata": {},
   "outputs": [
    {
     "name": "stdout",
     "output_type": "stream",
     "text": [
      "(1, 2, 3, ('a', 'b'))\n"
     ]
    }
   ],
   "source": [
    "mala_tupla = (24)\n",
    "# es un entero\n",
    "buena_tupla = (24,)\n",
    "#tupla\n",
    "\n",
    "tupla_anid = (1,2,3, (\"a\", \"b\"))\n",
    "print(tupla_anid)\n"
   ]
  },
  {
   "cell_type": "code",
   "execution_count": 4,
   "id": "2ec369b9-ee75-4124-a996-8dab9d7f46d5",
   "metadata": {},
   "outputs": [
    {
     "name": "stdout",
     "output_type": "stream",
     "text": [
      "3\n",
      "b\n"
     ]
    }
   ],
   "source": [
    "#obtener posición tupla interior y el anidado\n",
    "print(tupla_anid[2])\n",
    "print(tupla_anid[3][1])"
   ]
  },
  {
   "cell_type": "code",
   "execution_count": 5,
   "id": "67f5634f-6075-4b6a-a447-f1bdfd1fb7dd",
   "metadata": {},
   "outputs": [
    {
     "name": "stdout",
     "output_type": "stream",
     "text": [
      "1\n",
      "2\n",
      "3\n",
      "('a', 'b')\n"
     ]
    }
   ],
   "source": [
    "# son iterables\n",
    "for i in tupla_anid:\n",
    "    print(i)"
   ]
  },
  {
   "cell_type": "code",
   "execution_count": 6,
   "id": "5ad94afc-c1ae-45b2-9ecf-dc57a22ca188",
   "metadata": {},
   "outputs": [
    {
     "name": "stdout",
     "output_type": "stream",
     "text": [
      "(3, ('a', 'b'))\n"
     ]
    }
   ],
   "source": [
    "#slicing\n",
    "tupla_bis = tupla_anid[2:]\n",
    "print(tupla_bis)"
   ]
  },
  {
   "cell_type": "markdown",
   "id": "e97a00e6-c3de-47f3-8158-43c79d3b0592",
   "metadata": {},
   "source": [
    "Cuidado que las tuplas son inmutables, y una vez creadas no las podrás modificar después"
   ]
  },
  {
   "cell_type": "code",
   "execution_count": 7,
   "id": "d4b49283-d4ef-42a3-9967-78662b8a0a0b",
   "metadata": {},
   "outputs": [
    {
     "name": "stdout",
     "output_type": "stream",
     "text": [
      "(1, 2, 3, 4, 5, 6)\n",
      "(1, 2, 3, 4, 5, 6)\n",
      "(1, 2, 3, 4, 5, 6)\n"
     ]
    }
   ],
   "source": [
    "# Si queremos añadir elementos, podemos meterlos en otra tupla y sumarlas para que se concatenen\n",
    "tupla_1 = (1,2,3)\n",
    "tupla_2 = (4,5,6)\n",
    "print(tupla_1 + tupla_2)\n",
    "tupla_3 =tupla_1 +tupla_2\n",
    "tupla_1 = tupla_1 +tupla_2\n",
    "print(tupla_3)\n",
    "print(tupla_1)"
   ]
  },
  {
   "cell_type": "markdown",
   "id": "5b894a25-7c92-4b94-8c1e-61c377799c8e",
   "metadata": {},
   "source": [
    "### Listas y tuplas\n",
    "Podemos combinar listas y tuplas que no tendremos ningún problema, siempre y cuando respetemos las propiedades de cada tipo de dato."
   ]
  },
  {
   "cell_type": "code",
   "execution_count": 8,
   "id": "35e9775b-8901-4fb4-86cc-10f90a176dac",
   "metadata": {},
   "outputs": [
    {
     "name": "stdout",
     "output_type": "stream",
     "text": [
      "['fresas', ('naranjas', 'limones'), 'kiwis'] <class 'list'>\n",
      "('fresas', ['naranjas', 'limones'], 'kiwis') <class 'tuple'>\n"
     ]
    }
   ],
   "source": [
    "lista_ejemplo = [\"fresas\", (\"naranjas\", \"limones\"), \"kiwis\"]\n",
    "tupla_lista = (\"fresas\", [\"naranjas\", \"limones\"], \"kiwis\")\n",
    "print(lista_ejemplo, type(lista_ejemplo))\n",
    "print(tupla_lista, type(tupla_lista))"
   ]
  },
  {
   "cell_type": "code",
   "execution_count": null,
   "id": "d83a5111-fa4b-4930-810b-a6adccfb13a0",
   "metadata": {},
   "outputs": [],
   "source": []
  }
 ],
 "metadata": {
  "kernelspec": {
   "display_name": "Python 3 (ipykernel)",
   "language": "python",
   "name": "python3"
  },
  "language_info": {
   "codemirror_mode": {
    "name": "ipython",
    "version": 3
   },
   "file_extension": ".py",
   "mimetype": "text/x-python",
   "name": "python",
   "nbconvert_exporter": "python",
   "pygments_lexer": "ipython3",
   "version": "3.10.11"
  }
 },
 "nbformat": 4,
 "nbformat_minor": 5
}
